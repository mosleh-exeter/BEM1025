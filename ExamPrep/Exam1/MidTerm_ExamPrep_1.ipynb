{
 "cells": [
  {
   "cell_type": "code",
   "execution_count": 1,
   "metadata": {},
   "outputs": [],
   "source": [
    "# we import the library pandas and give it the \"pd\" kickname\n",
    "import pandas as pd\n",
    "import numpy as np"
   ]
  },
  {
   "cell_type": "markdown",
   "metadata": {},
   "source": [
    "# **For all questions YOU HAVE TO WRITE SOME CORRECT  PYTHON CODE! simply giving the final answer is not enough!** "
   ]
  },
  {
   "cell_type": "markdown",
   "metadata": {},
   "source": [
    "### You need to download this file as ipynb, zip (compress it) it, and upload as a zip file to BART.\n",
    "<img width=\"800\" height=\"400\" src=\"https://www.dropbox.com/s/iyjaplhbcsd781j/UploadBart.png?dl=1\">\n",
    "\n",
    "### For all questions YOU HAVE TO WRITE SOME CORRECT PYTHON CODE! simply giving the final answer is not enough! \n",
    "### You can provide brief description if you think that helps understanding of your code.\n",
    "### You need to make your code adaptable and scalable; and avoid manual entry of data as much as it is possible."
   ]
  },
  {
   "cell_type": "markdown",
   "metadata": {},
   "source": [
    "### Assignment 4.1\n",
    "#### (a) Create two variables called A and B in Python and Assign them values of 500 and 1000.\n",
    "#### (b) Create variable C which holds the sum of A and B and variable D that holds their multiplication"
   ]
  },
  {
   "cell_type": "markdown",
   "metadata": {},
   "source": [
    "#### Hint: You can do this using basic python functionality without operations from Pandas"
   ]
  },
  {
   "cell_type": "markdown",
   "metadata": {},
   "source": [
    "## (a)"
   ]
  },
  {
   "cell_type": "code",
   "execution_count": null,
   "metadata": {},
   "outputs": [],
   "source": []
  },
  {
   "cell_type": "markdown",
   "metadata": {},
   "source": [
    "## (b)"
   ]
  },
  {
   "cell_type": "code",
   "execution_count": null,
   "metadata": {},
   "outputs": [],
   "source": []
  },
  {
   "cell_type": "markdown",
   "metadata": {},
   "source": [
    "### You will work on the following dataframe for the rest of assignments\n",
    "#### This dataframe contains the name of people who are seeking jobs, their zipcode, number of months on the job market, number of times contacted by a recruiter and the job they are seeking"
   ]
  },
  {
   "cell_type": "code",
   "execution_count": 2,
   "metadata": {},
   "outputs": [
    {
     "data": {
      "text/html": [
       "<div>\n",
       "<style scoped>\n",
       "    .dataframe tbody tr th:only-of-type {\n",
       "        vertical-align: middle;\n",
       "    }\n",
       "\n",
       "    .dataframe tbody tr th {\n",
       "        vertical-align: top;\n",
       "    }\n",
       "\n",
       "    .dataframe thead th {\n",
       "        text-align: right;\n",
       "    }\n",
       "</style>\n",
       "<table border=\"1\" class=\"dataframe\">\n",
       "  <thead>\n",
       "    <tr style=\"text-align: right;\">\n",
       "      <th></th>\n",
       "      <th>FirstName</th>\n",
       "      <th>PostCode</th>\n",
       "      <th>OnMarket</th>\n",
       "      <th>NumContacts</th>\n",
       "      <th>JobSought</th>\n",
       "    </tr>\n",
       "  </thead>\n",
       "  <tbody>\n",
       "    <tr>\n",
       "      <th>0</th>\n",
       "      <td>jasmine</td>\n",
       "      <td>EX2 9BY</td>\n",
       "      <td>4</td>\n",
       "      <td>2.0</td>\n",
       "      <td>Emergency planning/management officer</td>\n",
       "    </tr>\n",
       "    <tr>\n",
       "      <th>1</th>\n",
       "      <td>mazeed</td>\n",
       "      <td>EX4 2BD</td>\n",
       "      <td>6</td>\n",
       "      <td>5.0</td>\n",
       "      <td>Nurse, learning disability</td>\n",
       "    </tr>\n",
       "    <tr>\n",
       "      <th>2</th>\n",
       "      <td>sandra</td>\n",
       "      <td>EX2 4AY</td>\n",
       "      <td>2</td>\n",
       "      <td>2.0</td>\n",
       "      <td>Therapist, horticultural</td>\n",
       "    </tr>\n",
       "    <tr>\n",
       "      <th>3</th>\n",
       "      <td>brooke</td>\n",
       "      <td>EX2 6HD</td>\n",
       "      <td>2</td>\n",
       "      <td>1.0</td>\n",
       "      <td>Media planner</td>\n",
       "    </tr>\n",
       "    <tr>\n",
       "      <th>4</th>\n",
       "      <td>tuhfa</td>\n",
       "      <td>EX2 6BW</td>\n",
       "      <td>2</td>\n",
       "      <td>2.0</td>\n",
       "      <td>Ranger/warden</td>\n",
       "    </tr>\n",
       "  </tbody>\n",
       "</table>\n",
       "</div>"
      ],
      "text/plain": [
       "  FirstName PostCode  OnMarket  NumContacts  \\\n",
       "0   jasmine  EX2 9BY         4          2.0   \n",
       "1    mazeed  EX4 2BD         6          5.0   \n",
       "2    sandra  EX2 4AY         2          2.0   \n",
       "3    brooke  EX2 6HD         2          1.0   \n",
       "4     tuhfa  EX2 6BW         2          2.0   \n",
       "\n",
       "                               JobSought  \n",
       "0  Emergency planning/management officer  \n",
       "1             Nurse, learning disability  \n",
       "2               Therapist, horticultural  \n",
       "3                          Media planner  \n",
       "4                          Ranger/warden  "
      ]
     },
     "execution_count": 2,
     "metadata": {},
     "output_type": "execute_result"
    }
   ],
   "source": [
    "df=pd.read_csv('https://www.dropbox.com/s/j5neg35o0dm6b5k/jobseekers.csv?dl=1')\n",
    "df.head()"
   ]
  },
  {
   "cell_type": "code",
   "execution_count": 3,
   "metadata": {},
   "outputs": [
    {
     "name": "stdout",
     "output_type": "stream",
     "text": [
      "<class 'pandas.core.frame.DataFrame'>\n",
      "RangeIndex: 1861 entries, 0 to 1860\n",
      "Data columns (total 5 columns):\n",
      " #   Column       Non-Null Count  Dtype  \n",
      "---  ------       --------------  -----  \n",
      " 0   FirstName    1861 non-null   object \n",
      " 1   PostCode     1860 non-null   object \n",
      " 2   OnMarket     1861 non-null   int64  \n",
      " 3   NumContacts  1861 non-null   float64\n",
      " 4   JobSought    1861 non-null   object \n",
      "dtypes: float64(1), int64(1), object(3)\n",
      "memory usage: 72.8+ KB\n"
     ]
    }
   ],
   "source": [
    "df.info()"
   ]
  },
  {
   "cell_type": "markdown",
   "metadata": {},
   "source": [
    "### Assignment 4.2\n",
    "#### (a) How many rows and columns are in the dataframe (you need to write a line of code for this)\n",
    "#### (b) Extract the columns \"FirstName\" and \"NumContacts\" (the outcome should have two columns not seperated single columns)\n",
    "#### (c) Extract rows number 100, 150, 200, 250\n",
    "#### (d) Extract columns \"FirstName\" and \"Postcode\" for rows 1000 and 1500"
   ]
  },
  {
   "cell_type": "markdown",
   "metadata": {},
   "source": [
    "## (a)"
   ]
  },
  {
   "cell_type": "code",
   "execution_count": null,
   "metadata": {},
   "outputs": [],
   "source": []
  },
  {
   "cell_type": "markdown",
   "metadata": {},
   "source": [
    "## (b)"
   ]
  },
  {
   "cell_type": "code",
   "execution_count": null,
   "metadata": {},
   "outputs": [],
   "source": []
  },
  {
   "cell_type": "markdown",
   "metadata": {},
   "source": [
    "## (c)"
   ]
  },
  {
   "cell_type": "code",
   "execution_count": null,
   "metadata": {},
   "outputs": [],
   "source": []
  },
  {
   "cell_type": "markdown",
   "metadata": {},
   "source": [
    "## (d)"
   ]
  },
  {
   "cell_type": "code",
   "execution_count": null,
   "metadata": {},
   "outputs": [],
   "source": []
  },
  {
   "cell_type": "markdown",
   "metadata": {},
   "source": [
    "### Assignment 4.3\n",
    "#### (a) Find the maximum number of times a person was contacted by the recruiters\n",
    "#### (b) Find the minimum number of months a person was on the market \n",
    "#### (c) Find the average time people have been contacted by the recruiters "
   ]
  },
  {
   "cell_type": "markdown",
   "metadata": {},
   "source": [
    "## (a)"
   ]
  },
  {
   "cell_type": "code",
   "execution_count": null,
   "metadata": {},
   "outputs": [],
   "source": []
  },
  {
   "cell_type": "markdown",
   "metadata": {},
   "source": [
    "## (b)"
   ]
  },
  {
   "cell_type": "code",
   "execution_count": null,
   "metadata": {},
   "outputs": [],
   "source": []
  },
  {
   "cell_type": "markdown",
   "metadata": {},
   "source": [
    "## (c)"
   ]
  },
  {
   "cell_type": "code",
   "execution_count": null,
   "metadata": {},
   "outputs": [],
   "source": []
  },
  {
   "cell_type": "markdown",
   "metadata": {},
   "source": [
    "### Assignment 4.4\n",
    "#### (a) Find individuals who have been contacted at least 3 times by the recruiters\n",
    "#### (b) Find individuals who have been on the job market less than 2 months or more than 6 months\n",
    "#### (c) Find individuals with PostCode \"EX2 9BY\"\n",
    "#### (d) Find individuals who looking for a job as a \"nurse\"\n",
    "#### (e) Find the average time people from PostCode \"EX4 2BD\" were on the market\n",
    "#### (f) For people who where contacted between 2 and 5 times (inclusive), and seeking professor job, find the maximum and minimum time on the market "
   ]
  },
  {
   "cell_type": "markdown",
   "metadata": {},
   "source": [
    "## (a)"
   ]
  },
  {
   "cell_type": "code",
   "execution_count": null,
   "metadata": {},
   "outputs": [],
   "source": []
  },
  {
   "cell_type": "markdown",
   "metadata": {},
   "source": [
    "## (b)"
   ]
  },
  {
   "cell_type": "code",
   "execution_count": null,
   "metadata": {},
   "outputs": [],
   "source": []
  },
  {
   "cell_type": "markdown",
   "metadata": {},
   "source": [
    "## (c)"
   ]
  },
  {
   "cell_type": "code",
   "execution_count": null,
   "metadata": {},
   "outputs": [],
   "source": []
  },
  {
   "cell_type": "markdown",
   "metadata": {},
   "source": [
    "## (d)"
   ]
  },
  {
   "cell_type": "code",
   "execution_count": null,
   "metadata": {},
   "outputs": [],
   "source": []
  },
  {
   "cell_type": "markdown",
   "metadata": {},
   "source": [
    "## (e)"
   ]
  },
  {
   "cell_type": "code",
   "execution_count": null,
   "metadata": {},
   "outputs": [],
   "source": []
  },
  {
   "cell_type": "markdown",
   "metadata": {},
   "source": [
    "## (f)"
   ]
  },
  {
   "cell_type": "code",
   "execution_count": null,
   "metadata": {},
   "outputs": [],
   "source": []
  }
 ],
 "metadata": {
  "kernelspec": {
   "display_name": "Python 3 (ipykernel)",
   "language": "python",
   "name": "python3"
  },
  "language_info": {
   "codemirror_mode": {
    "name": "ipython",
    "version": 3
   },
   "file_extension": ".py",
   "mimetype": "text/x-python",
   "name": "python",
   "nbconvert_exporter": "python",
   "pygments_lexer": "ipython3",
   "version": "3.8.5"
  }
 },
 "nbformat": 4,
 "nbformat_minor": 4
}
