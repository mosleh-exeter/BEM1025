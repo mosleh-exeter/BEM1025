{
 "cells": [
  {
   "cell_type": "markdown",
   "metadata": {},
   "source": [
    "[![Open In Colab](https://colab.research.google.com/assets/colab-badge.svg)](https://colab.research.google.com/github/mosleh-exeter/BEM1025/blob/main/ExamPrep/Exam1/MidTerm_ExamPrep_2-solutions.ipynb)"
   ]
  },
  {
   "cell_type": "markdown",
   "metadata": {},
   "source": [
    "# BEM 1025: Programming for Business Analytics\n",
    "#   1st open-book Exam prep"
   ]
  },
  {
   "cell_type": "markdown",
   "metadata": {},
   "source": [
    "### You need to download this file as ipynb, zip (compress) it, and upload as a zip file to ELE.\n",
    "<img width=\"800\" height=\"400\" src=\"https://github.com/mosleh-exeter/BEM1025/raw/main/images/UploadBart.png\">\n",
    "\n",
    "### For all questions YOU HAVE TO WRITE SOME CORRECT PYTHON CODE! simply giving the final answer is not enough! \n",
    "### You will also need to include explaination for your approach to solving the problem. (You can use a seperate cell for your expaination)"
   ]
  },
  {
   "cell_type": "code",
   "execution_count": 1,
   "metadata": {},
   "outputs": [],
   "source": [
    "# here we import libraries that we may need and give them a nickname each\n",
    "import pandas as pd\n",
    "import numpy as np\n"
   ]
  },
  {
   "cell_type": "markdown",
   "metadata": {},
   "source": [
    "###  Assignment 1 (25%)\n",
    "#### (a) Create list \"A\" containing $\\pi$, $\\frac{\\pi}{2}$,  $\\frac{\\pi}{3}$,  $\\frac{\\pi}{4}$\n",
    "#### (b) For all elements in list A, find  sum and mean of $sin(x)$ using a \"for loop\" \n",
    "#### (challenge) Do the above without creating a list\n",
    "#### **OUTCOME:** Provide the python code for defining the lists, and calculating  mean value and the outcome values\n",
    "#### Tip:  You can do this using basic Python functionality see https://www.tutorialspoint.com/python/python_basic_operators.htm and numpy library https://numpy.org/"
   ]
  },
  {
   "cell_type": "markdown",
   "metadata": {},
   "source": [
    "## (a)"
   ]
  },
  {
   "cell_type": "code",
   "execution_count": 2,
   "metadata": {},
   "outputs": [
    {
     "data": {
      "text/plain": [
       "[3.141592653589793, 1.5707963267948966, 1.0471975511965976, 0.7853981633974483]"
      ]
     },
     "execution_count": 2,
     "metadata": {},
     "output_type": "execute_result"
    }
   ],
   "source": [
    "A=[np.pi,np.pi/2,np.pi/3,np.pi/4]\n",
    "A"
   ]
  },
  {
   "cell_type": "code",
   "execution_count": 3,
   "metadata": {
    "tags": []
   },
   "outputs": [],
   "source": [
    "# We create a list and manually define the values of pi,pi/2,pi/3, and pi/4"
   ]
  },
  {
   "cell_type": "markdown",
   "metadata": {},
   "source": [
    "## (b)"
   ]
  },
  {
   "cell_type": "code",
   "execution_count": 4,
   "metadata": {},
   "outputs": [
    {
     "name": "stdout",
     "output_type": "stream",
     "text": [
      "0.6432830462427466\n"
     ]
    }
   ],
   "source": [
    "my_sum=0\n",
    "my_count=0\n",
    "for a in A:\n",
    "    my_count=my_count+1\n",
    "    my_sum=my_sum+np.sin(a)\n",
    "print(my_sum/my_count)"
   ]
  },
  {
   "cell_type": "code",
   "execution_count": 5,
   "metadata": {
    "tags": []
   },
   "outputs": [],
   "source": [
    "# We create two variables 'my_sum' and 'my_count' with inital value of zero for each. \n",
    "# The former is used to hold the sum of all elements in the list and the latter is used to hold the number of elements in the list\n",
    "# We use a for-loop to iterative over all items in the list, we then count the number of elements and sum their values using varialbels\n",
    "# we created in the previous step\n",
    "# We then calcuate the average by dividing the sum of values over number of elements in the list"
   ]
  },
  {
   "cell_type": "code",
   "execution_count": 6,
   "metadata": {},
   "outputs": [
    {
     "name": "stdout",
     "output_type": "stream",
     "text": [
      "0.6432830462427466\n"
     ]
    }
   ],
   "source": [
    "my_sum=0\n",
    "my_count=0\n",
    "for i in range(1,5):\n",
    "   \n",
    "    my_count=my_count+1\n",
    "    my_sum=my_sum+np.sin(np.pi/i)\n",
    "print(my_sum/my_count)"
   ]
  },
  {
   "cell_type": "code",
   "execution_count": 7,
   "metadata": {
    "tags": []
   },
   "outputs": [],
   "source": [
    "# In this solution, instead of defining a list first and iterate over, we caculate the sin function in each iteration directly\n",
    "# We use the range function to generate each fraction of pi."
   ]
  },
  {
   "cell_type": "markdown",
   "metadata": {
    "tags": []
   },
   "source": [
    "### You will work on the following dataframe for the rest of assignments\n",
    "**Context**\n",
    "Context:\n",
    "Starbucks is an American coffee chain founded in Seattle. It serves both beverages and food.\n",
    "\n",
    "Content:\n",
    "This dataset includes the nutritional information for Starbucks’ food and drink menu items. All nutritional information for drinks are for a 12oz serving size.\n",
    "https://www.kaggle.com/starbucks/starbucks-menu\n",
    "\n",
    "Read this dataset into pandas: (this file has been cleaned for this excersize)\n",
    "\n",
    "https://raw.githubusercontent.com/mosleh-exeter/BEM1025/main/Fun%2C%20beginner-friendly%20datasets/starbucks-menu-nutrition-drinks_cleaned.csv"
   ]
  },
  {
   "cell_type": "code",
   "execution_count": 8,
   "metadata": {},
   "outputs": [],
   "source": [
    "df=pd.read_csv(\"https://raw.githubusercontent.com/mosleh-exeter/BEM1025/main/Fun%2C%20beginner-friendly%20datasets/starbucks-menu-nutrition-drinks_cleaned.csv\")"
   ]
  },
  {
   "cell_type": "markdown",
   "metadata": {},
   "source": [
    "###  Assignment 2 (25%)\n",
    "#### (a) How many total values are in the dataframe columns and rows? (tip find columns times rows)\n",
    "#### (b) Extract the columns \"name\",\"calories\", \"protein\" (the outcome should have three columns not seperated single columns)\n",
    "#### (c) Extract rows number 10, 15, 100\n",
    "#### (d) Extract columns \"name\" and \"protein\" for the last 100 rows without using tail command\n",
    "#### (Challenge) Show all rows except range 10-20 and 40-50 \n",
    "#### **OUTCOME:** for each step show the resulting dataframe and the corresponding code\n"
   ]
  },
  {
   "cell_type": "markdown",
   "metadata": {},
   "source": [
    "## (a)"
   ]
  },
  {
   "cell_type": "code",
   "execution_count": 9,
   "metadata": {},
   "outputs": [
    {
     "name": "stdout",
     "output_type": "stream",
     "text": [
      "1239\n"
     ]
    }
   ],
   "source": [
    "print(df.shape[0]*df.shape[1])"
   ]
  },
  {
   "cell_type": "code",
   "execution_count": 10,
   "metadata": {
    "tags": []
   },
   "outputs": [],
   "source": [
    "# here we use \"shape\" which returns a tuple representing the dimensionality of the DataFrame."
   ]
  },
  {
   "cell_type": "markdown",
   "metadata": {},
   "source": [
    "## (b)"
   ]
  },
  {
   "cell_type": "code",
   "execution_count": 11,
   "metadata": {},
   "outputs": [
    {
     "data": {
      "text/html": [
       "<div>\n",
       "<style scoped>\n",
       "    .dataframe tbody tr th:only-of-type {\n",
       "        vertical-align: middle;\n",
       "    }\n",
       "\n",
       "    .dataframe tbody tr th {\n",
       "        vertical-align: top;\n",
       "    }\n",
       "\n",
       "    .dataframe thead th {\n",
       "        text-align: right;\n",
       "    }\n",
       "</style>\n",
       "<table border=\"1\" class=\"dataframe\">\n",
       "  <thead>\n",
       "    <tr style=\"text-align: right;\">\n",
       "      <th></th>\n",
       "      <th>name</th>\n",
       "      <th>calories</th>\n",
       "      <th>protein</th>\n",
       "    </tr>\n",
       "  </thead>\n",
       "  <tbody>\n",
       "    <tr>\n",
       "      <th>0</th>\n",
       "      <td>Cool Lime Starbucks Refreshers™ Beverage</td>\n",
       "      <td>45.000000</td>\n",
       "      <td>0.000000</td>\n",
       "    </tr>\n",
       "    <tr>\n",
       "      <th>1</th>\n",
       "      <td>Ombré Pink Drink</td>\n",
       "      <td>135.163043</td>\n",
       "      <td>4.152174</td>\n",
       "    </tr>\n",
       "    <tr>\n",
       "      <th>2</th>\n",
       "      <td>Pink Drink</td>\n",
       "      <td>135.163043</td>\n",
       "      <td>4.152174</td>\n",
       "    </tr>\n",
       "    <tr>\n",
       "      <th>3</th>\n",
       "      <td>Strawberry Acai Starbucks Refreshers™ Beverage</td>\n",
       "      <td>80.000000</td>\n",
       "      <td>0.000000</td>\n",
       "    </tr>\n",
       "    <tr>\n",
       "      <th>4</th>\n",
       "      <td>Very Berry Hibiscus Starbucks Refreshers™ Beve...</td>\n",
       "      <td>60.000000</td>\n",
       "      <td>0.000000</td>\n",
       "    </tr>\n",
       "  </tbody>\n",
       "</table>\n",
       "</div>"
      ],
      "text/plain": [
       "                                                name    calories   protein\n",
       "0           Cool Lime Starbucks Refreshers™ Beverage   45.000000  0.000000\n",
       "1                                   Ombré Pink Drink  135.163043  4.152174\n",
       "2                                         Pink Drink  135.163043  4.152174\n",
       "3     Strawberry Acai Starbucks Refreshers™ Beverage   80.000000  0.000000\n",
       "4  Very Berry Hibiscus Starbucks Refreshers™ Beve...   60.000000  0.000000"
      ]
     },
     "execution_count": 11,
     "metadata": {},
     "output_type": "execute_result"
    }
   ],
   "source": [
    "df[['name','calories','protein']].head()"
   ]
  },
  {
   "cell_type": "code",
   "execution_count": 12,
   "metadata": {
    "tags": []
   },
   "outputs": [],
   "source": [
    "# We use a list of columns to filter for the given columns"
   ]
  },
  {
   "cell_type": "markdown",
   "metadata": {},
   "source": [
    "## (c)"
   ]
  },
  {
   "cell_type": "code",
   "execution_count": 13,
   "metadata": {
    "tags": []
   },
   "outputs": [
    {
     "data": {
      "text/html": [
       "<div>\n",
       "<style scoped>\n",
       "    .dataframe tbody tr th:only-of-type {\n",
       "        vertical-align: middle;\n",
       "    }\n",
       "\n",
       "    .dataframe tbody tr th {\n",
       "        vertical-align: top;\n",
       "    }\n",
       "\n",
       "    .dataframe thead th {\n",
       "        text-align: right;\n",
       "    }\n",
       "</style>\n",
       "<table border=\"1\" class=\"dataframe\">\n",
       "  <thead>\n",
       "    <tr style=\"text-align: right;\">\n",
       "      <th></th>\n",
       "      <th>name</th>\n",
       "      <th>calories</th>\n",
       "      <th>fat</th>\n",
       "      <th>carb</th>\n",
       "      <th>fiber</th>\n",
       "      <th>protein</th>\n",
       "      <th>sodium</th>\n",
       "    </tr>\n",
       "  </thead>\n",
       "  <tbody>\n",
       "    <tr>\n",
       "      <th>9</th>\n",
       "      <td>Iced Coffee</td>\n",
       "      <td>0.000000</td>\n",
       "      <td>0.000000</td>\n",
       "      <td>0.00000</td>\n",
       "      <td>0.000000</td>\n",
       "      <td>0.000000</td>\n",
       "      <td>0.000000</td>\n",
       "    </tr>\n",
       "    <tr>\n",
       "      <th>14</th>\n",
       "      <td>Starbucks® Caramel Iced Coffee</td>\n",
       "      <td>135.163043</td>\n",
       "      <td>2.336957</td>\n",
       "      <td>24.73913</td>\n",
       "      <td>0.445652</td>\n",
       "      <td>4.152174</td>\n",
       "      <td>57.934783</td>\n",
       "    </tr>\n",
       "    <tr>\n",
       "      <th>99</th>\n",
       "      <td>Featured Dark Roast</td>\n",
       "      <td>5.000000</td>\n",
       "      <td>0.000000</td>\n",
       "      <td>0.00000</td>\n",
       "      <td>0.000000</td>\n",
       "      <td>1.000000</td>\n",
       "      <td>10.000000</td>\n",
       "    </tr>\n",
       "  </tbody>\n",
       "</table>\n",
       "</div>"
      ],
      "text/plain": [
       "                              name    calories       fat      carb     fiber  \\\n",
       "9                      Iced Coffee    0.000000  0.000000   0.00000  0.000000   \n",
       "14  Starbucks® Caramel Iced Coffee  135.163043  2.336957  24.73913  0.445652   \n",
       "99             Featured Dark Roast    5.000000  0.000000   0.00000  0.000000   \n",
       "\n",
       "     protein     sodium  \n",
       "9   0.000000   0.000000  \n",
       "14  4.152174  57.934783  \n",
       "99  1.000000  10.000000  "
      ]
     },
     "execution_count": 13,
     "metadata": {},
     "output_type": "execute_result"
    }
   ],
   "source": [
    "df.iloc[[9,14,99]]"
   ]
  },
  {
   "cell_type": "code",
   "execution_count": 14,
   "metadata": {
    "tags": []
   },
   "outputs": [],
   "source": [
    "# We use a list of rows and substract one from each since the index starts from zero, then use iloc to find the rows"
   ]
  },
  {
   "cell_type": "markdown",
   "metadata": {
    "tags": []
   },
   "source": [
    "## (d)"
   ]
  },
  {
   "cell_type": "code",
   "execution_count": 15,
   "metadata": {},
   "outputs": [
    {
     "data": {
      "text/html": [
       "<div>\n",
       "<style scoped>\n",
       "    .dataframe tbody tr th:only-of-type {\n",
       "        vertical-align: middle;\n",
       "    }\n",
       "\n",
       "    .dataframe tbody tr th {\n",
       "        vertical-align: top;\n",
       "    }\n",
       "\n",
       "    .dataframe thead th {\n",
       "        text-align: right;\n",
       "    }\n",
       "</style>\n",
       "<table border=\"1\" class=\"dataframe\">\n",
       "  <thead>\n",
       "    <tr style=\"text-align: right;\">\n",
       "      <th></th>\n",
       "      <th>name</th>\n",
       "      <th>protein</th>\n",
       "    </tr>\n",
       "  </thead>\n",
       "  <tbody>\n",
       "    <tr>\n",
       "      <th>77</th>\n",
       "      <td>Tazo® Bottled Berry Blossom White</td>\n",
       "      <td>0.000000</td>\n",
       "    </tr>\n",
       "    <tr>\n",
       "      <th>78</th>\n",
       "      <td>Tazo® Bottled Black Mango</td>\n",
       "      <td>0.000000</td>\n",
       "    </tr>\n",
       "    <tr>\n",
       "      <th>79</th>\n",
       "      <td>Tazo® Bottled Black with Lemon</td>\n",
       "      <td>0.000000</td>\n",
       "    </tr>\n",
       "    <tr>\n",
       "      <th>80</th>\n",
       "      <td>Tazo® Bottled Brambleberry</td>\n",
       "      <td>0.000000</td>\n",
       "    </tr>\n",
       "    <tr>\n",
       "      <th>81</th>\n",
       "      <td>Tazo® Bottled Giant Peach</td>\n",
       "      <td>0.000000</td>\n",
       "    </tr>\n",
       "    <tr>\n",
       "      <th>...</th>\n",
       "      <td>...</td>\n",
       "      <td>...</td>\n",
       "    </tr>\n",
       "    <tr>\n",
       "      <th>172</th>\n",
       "      <td>Chocolate Smoothie</td>\n",
       "      <td>20.000000</td>\n",
       "    </tr>\n",
       "    <tr>\n",
       "      <th>173</th>\n",
       "      <td>Strawberry Smoothie</td>\n",
       "      <td>16.000000</td>\n",
       "    </tr>\n",
       "    <tr>\n",
       "      <th>174</th>\n",
       "      <td>Ginger Ale</td>\n",
       "      <td>4.152174</td>\n",
       "    </tr>\n",
       "    <tr>\n",
       "      <th>175</th>\n",
       "      <td>Lemon Ale</td>\n",
       "      <td>4.152174</td>\n",
       "    </tr>\n",
       "    <tr>\n",
       "      <th>176</th>\n",
       "      <td>Orange Cream Soda</td>\n",
       "      <td>4.152174</td>\n",
       "    </tr>\n",
       "  </tbody>\n",
       "</table>\n",
       "<p>100 rows × 2 columns</p>\n",
       "</div>"
      ],
      "text/plain": [
       "                                  name    protein\n",
       "77   Tazo® Bottled Berry Blossom White   0.000000\n",
       "78           Tazo® Bottled Black Mango   0.000000\n",
       "79      Tazo® Bottled Black with Lemon   0.000000\n",
       "80          Tazo® Bottled Brambleberry   0.000000\n",
       "81           Tazo® Bottled Giant Peach   0.000000\n",
       "..                                 ...        ...\n",
       "172                 Chocolate Smoothie  20.000000\n",
       "173                Strawberry Smoothie  16.000000\n",
       "174                         Ginger Ale   4.152174\n",
       "175                          Lemon Ale   4.152174\n",
       "176                  Orange Cream Soda   4.152174\n",
       "\n",
       "[100 rows x 2 columns]"
      ]
     },
     "execution_count": 15,
     "metadata": {},
     "output_type": "execute_result"
    }
   ],
   "source": [
    "df[['name','protein']].iloc[df.shape[0]-100:]"
   ]
  },
  {
   "cell_type": "code",
   "execution_count": 16,
   "metadata": {
    "tags": []
   },
   "outputs": [],
   "source": [
    "# First we filter for the given columns, then use iloc with combination with df.shape[0]-100 to select for the last 100 items"
   ]
  },
  {
   "cell_type": "code",
   "execution_count": 17,
   "metadata": {},
   "outputs": [
    {
     "data": {
      "text/html": [
       "<div>\n",
       "<style scoped>\n",
       "    .dataframe tbody tr th:only-of-type {\n",
       "        vertical-align: middle;\n",
       "    }\n",
       "\n",
       "    .dataframe tbody tr th {\n",
       "        vertical-align: top;\n",
       "    }\n",
       "\n",
       "    .dataframe thead th {\n",
       "        text-align: right;\n",
       "    }\n",
       "</style>\n",
       "<table border=\"1\" class=\"dataframe\">\n",
       "  <thead>\n",
       "    <tr style=\"text-align: right;\">\n",
       "      <th></th>\n",
       "      <th>name</th>\n",
       "      <th>protein</th>\n",
       "    </tr>\n",
       "  </thead>\n",
       "  <tbody>\n",
       "    <tr>\n",
       "      <th>77</th>\n",
       "      <td>Tazo® Bottled Berry Blossom White</td>\n",
       "      <td>0.000000</td>\n",
       "    </tr>\n",
       "    <tr>\n",
       "      <th>78</th>\n",
       "      <td>Tazo® Bottled Black Mango</td>\n",
       "      <td>0.000000</td>\n",
       "    </tr>\n",
       "    <tr>\n",
       "      <th>79</th>\n",
       "      <td>Tazo® Bottled Black with Lemon</td>\n",
       "      <td>0.000000</td>\n",
       "    </tr>\n",
       "    <tr>\n",
       "      <th>80</th>\n",
       "      <td>Tazo® Bottled Brambleberry</td>\n",
       "      <td>0.000000</td>\n",
       "    </tr>\n",
       "    <tr>\n",
       "      <th>81</th>\n",
       "      <td>Tazo® Bottled Giant Peach</td>\n",
       "      <td>0.000000</td>\n",
       "    </tr>\n",
       "    <tr>\n",
       "      <th>...</th>\n",
       "      <td>...</td>\n",
       "      <td>...</td>\n",
       "    </tr>\n",
       "    <tr>\n",
       "      <th>172</th>\n",
       "      <td>Chocolate Smoothie</td>\n",
       "      <td>20.000000</td>\n",
       "    </tr>\n",
       "    <tr>\n",
       "      <th>173</th>\n",
       "      <td>Strawberry Smoothie</td>\n",
       "      <td>16.000000</td>\n",
       "    </tr>\n",
       "    <tr>\n",
       "      <th>174</th>\n",
       "      <td>Ginger Ale</td>\n",
       "      <td>4.152174</td>\n",
       "    </tr>\n",
       "    <tr>\n",
       "      <th>175</th>\n",
       "      <td>Lemon Ale</td>\n",
       "      <td>4.152174</td>\n",
       "    </tr>\n",
       "    <tr>\n",
       "      <th>176</th>\n",
       "      <td>Orange Cream Soda</td>\n",
       "      <td>4.152174</td>\n",
       "    </tr>\n",
       "  </tbody>\n",
       "</table>\n",
       "<p>100 rows × 2 columns</p>\n",
       "</div>"
      ],
      "text/plain": [
       "                                  name    protein\n",
       "77   Tazo® Bottled Berry Blossom White   0.000000\n",
       "78           Tazo® Bottled Black Mango   0.000000\n",
       "79      Tazo® Bottled Black with Lemon   0.000000\n",
       "80          Tazo® Bottled Brambleberry   0.000000\n",
       "81           Tazo® Bottled Giant Peach   0.000000\n",
       "..                                 ...        ...\n",
       "172                 Chocolate Smoothie  20.000000\n",
       "173                Strawberry Smoothie  16.000000\n",
       "174                         Ginger Ale   4.152174\n",
       "175                          Lemon Ale   4.152174\n",
       "176                  Orange Cream Soda   4.152174\n",
       "\n",
       "[100 rows x 2 columns]"
      ]
     },
     "execution_count": 17,
     "metadata": {},
     "output_type": "execute_result"
    }
   ],
   "source": [
    "df[['name','protein']].iloc[-100:]"
   ]
  },
  {
   "cell_type": "markdown",
   "metadata": {
    "tags": []
   },
   "source": [
    "## (Challenge)"
   ]
  },
  {
   "cell_type": "code",
   "execution_count": 18,
   "metadata": {
    "tags": []
   },
   "outputs": [
    {
     "data": {
      "text/html": [
       "<div>\n",
       "<style scoped>\n",
       "    .dataframe tbody tr th:only-of-type {\n",
       "        vertical-align: middle;\n",
       "    }\n",
       "\n",
       "    .dataframe tbody tr th {\n",
       "        vertical-align: top;\n",
       "    }\n",
       "\n",
       "    .dataframe thead th {\n",
       "        text-align: right;\n",
       "    }\n",
       "</style>\n",
       "<table border=\"1\" class=\"dataframe\">\n",
       "  <thead>\n",
       "    <tr style=\"text-align: right;\">\n",
       "      <th></th>\n",
       "      <th>name</th>\n",
       "      <th>calories</th>\n",
       "      <th>fat</th>\n",
       "      <th>carb</th>\n",
       "      <th>fiber</th>\n",
       "      <th>protein</th>\n",
       "      <th>sodium</th>\n",
       "    </tr>\n",
       "  </thead>\n",
       "  <tbody>\n",
       "    <tr>\n",
       "      <th>0</th>\n",
       "      <td>Cool Lime Starbucks Refreshers™ Beverage</td>\n",
       "      <td>45.000000</td>\n",
       "      <td>0.000000</td>\n",
       "      <td>11.00000</td>\n",
       "      <td>0.000000</td>\n",
       "      <td>0.000000</td>\n",
       "      <td>10.000000</td>\n",
       "    </tr>\n",
       "    <tr>\n",
       "      <th>1</th>\n",
       "      <td>Ombré Pink Drink</td>\n",
       "      <td>135.163043</td>\n",
       "      <td>2.336957</td>\n",
       "      <td>24.73913</td>\n",
       "      <td>0.445652</td>\n",
       "      <td>4.152174</td>\n",
       "      <td>57.934783</td>\n",
       "    </tr>\n",
       "    <tr>\n",
       "      <th>2</th>\n",
       "      <td>Pink Drink</td>\n",
       "      <td>135.163043</td>\n",
       "      <td>2.336957</td>\n",
       "      <td>24.73913</td>\n",
       "      <td>0.445652</td>\n",
       "      <td>4.152174</td>\n",
       "      <td>57.934783</td>\n",
       "    </tr>\n",
       "    <tr>\n",
       "      <th>3</th>\n",
       "      <td>Strawberry Acai Starbucks Refreshers™ Beverage</td>\n",
       "      <td>80.000000</td>\n",
       "      <td>0.000000</td>\n",
       "      <td>18.00000</td>\n",
       "      <td>1.000000</td>\n",
       "      <td>0.000000</td>\n",
       "      <td>10.000000</td>\n",
       "    </tr>\n",
       "    <tr>\n",
       "      <th>4</th>\n",
       "      <td>Very Berry Hibiscus Starbucks Refreshers™ Beve...</td>\n",
       "      <td>60.000000</td>\n",
       "      <td>0.000000</td>\n",
       "      <td>14.00000</td>\n",
       "      <td>1.000000</td>\n",
       "      <td>0.000000</td>\n",
       "      <td>10.000000</td>\n",
       "    </tr>\n",
       "    <tr>\n",
       "      <th>...</th>\n",
       "      <td>...</td>\n",
       "      <td>...</td>\n",
       "      <td>...</td>\n",
       "      <td>...</td>\n",
       "      <td>...</td>\n",
       "      <td>...</td>\n",
       "      <td>...</td>\n",
       "    </tr>\n",
       "    <tr>\n",
       "      <th>172</th>\n",
       "      <td>Chocolate Smoothie</td>\n",
       "      <td>320.000000</td>\n",
       "      <td>5.000000</td>\n",
       "      <td>53.00000</td>\n",
       "      <td>8.000000</td>\n",
       "      <td>20.000000</td>\n",
       "      <td>170.000000</td>\n",
       "    </tr>\n",
       "    <tr>\n",
       "      <th>173</th>\n",
       "      <td>Strawberry Smoothie</td>\n",
       "      <td>300.000000</td>\n",
       "      <td>2.000000</td>\n",
       "      <td>60.00000</td>\n",
       "      <td>7.000000</td>\n",
       "      <td>16.000000</td>\n",
       "      <td>130.000000</td>\n",
       "    </tr>\n",
       "    <tr>\n",
       "      <th>174</th>\n",
       "      <td>Ginger Ale</td>\n",
       "      <td>135.163043</td>\n",
       "      <td>2.336957</td>\n",
       "      <td>24.73913</td>\n",
       "      <td>0.445652</td>\n",
       "      <td>4.152174</td>\n",
       "      <td>57.934783</td>\n",
       "    </tr>\n",
       "    <tr>\n",
       "      <th>175</th>\n",
       "      <td>Lemon Ale</td>\n",
       "      <td>135.163043</td>\n",
       "      <td>2.336957</td>\n",
       "      <td>24.73913</td>\n",
       "      <td>0.445652</td>\n",
       "      <td>4.152174</td>\n",
       "      <td>57.934783</td>\n",
       "    </tr>\n",
       "    <tr>\n",
       "      <th>176</th>\n",
       "      <td>Orange Cream Soda</td>\n",
       "      <td>135.163043</td>\n",
       "      <td>2.336957</td>\n",
       "      <td>24.73913</td>\n",
       "      <td>0.445652</td>\n",
       "      <td>4.152174</td>\n",
       "      <td>57.934783</td>\n",
       "    </tr>\n",
       "  </tbody>\n",
       "</table>\n",
       "<p>154 rows × 7 columns</p>\n",
       "</div>"
      ],
      "text/plain": [
       "                                                  name    calories       fat  \\\n",
       "0             Cool Lime Starbucks Refreshers™ Beverage   45.000000  0.000000   \n",
       "1                                     Ombré Pink Drink  135.163043  2.336957   \n",
       "2                                           Pink Drink  135.163043  2.336957   \n",
       "3       Strawberry Acai Starbucks Refreshers™ Beverage   80.000000  0.000000   \n",
       "4    Very Berry Hibiscus Starbucks Refreshers™ Beve...   60.000000  0.000000   \n",
       "..                                                 ...         ...       ...   \n",
       "172                                 Chocolate Smoothie  320.000000  5.000000   \n",
       "173                                Strawberry Smoothie  300.000000  2.000000   \n",
       "174                                         Ginger Ale  135.163043  2.336957   \n",
       "175                                          Lemon Ale  135.163043  2.336957   \n",
       "176                                  Orange Cream Soda  135.163043  2.336957   \n",
       "\n",
       "         carb     fiber    protein      sodium  \n",
       "0    11.00000  0.000000   0.000000   10.000000  \n",
       "1    24.73913  0.445652   4.152174   57.934783  \n",
       "2    24.73913  0.445652   4.152174   57.934783  \n",
       "3    18.00000  1.000000   0.000000   10.000000  \n",
       "4    14.00000  1.000000   0.000000   10.000000  \n",
       "..        ...       ...        ...         ...  \n",
       "172  53.00000  8.000000  20.000000  170.000000  \n",
       "173  60.00000  7.000000  16.000000  130.000000  \n",
       "174  24.73913  0.445652   4.152174   57.934783  \n",
       "175  24.73913  0.445652   4.152174   57.934783  \n",
       "176  24.73913  0.445652   4.152174   57.934783  \n",
       "\n",
       "[154 rows x 7 columns]"
      ]
     },
     "execution_count": 18,
     "metadata": {},
     "output_type": "execute_result"
    }
   ],
   "source": [
    "a=list(range(0,10))\n",
    "b=list(range(21,39))\n",
    "c=list(range(51,df.shape[0]))\n",
    "df.iloc[a+b+c]"
   ]
  },
  {
   "cell_type": "code",
   "execution_count": 19,
   "metadata": {
    "tags": []
   },
   "outputs": [],
   "source": [
    "# We use range to automatically generate a list of all indices except those in the given lists, we then then combine\n",
    "# the lists and use them as input to iloc"
   ]
  },
  {
   "cell_type": "markdown",
   "metadata": {
    "tags": []
   },
   "source": [
    "###  Assignment 3 (25%)\n",
    "#### (a) Find all drinks with maximum values of fiber across all items\n",
    "#### (b) Find all drinks that have fat more than average of all drinks \n",
    "#### (c) Create a new column in dataframe to show fat per calories\n",
    "#### (challenge) what is the average calories of drinks that their protein is more than double amount of their fat\n",
    "#### **OUTCOME:** for each step show the resulting value/dataframe and corresponding code"
   ]
  },
  {
   "cell_type": "markdown",
   "metadata": {
    "tags": []
   },
   "source": [
    "## (a)"
   ]
  },
  {
   "cell_type": "code",
   "execution_count": 20,
   "metadata": {},
   "outputs": [
    {
     "data": {
      "text/html": [
       "<div>\n",
       "<style scoped>\n",
       "    .dataframe tbody tr th:only-of-type {\n",
       "        vertical-align: middle;\n",
       "    }\n",
       "\n",
       "    .dataframe tbody tr th {\n",
       "        vertical-align: top;\n",
       "    }\n",
       "\n",
       "    .dataframe thead th {\n",
       "        text-align: right;\n",
       "    }\n",
       "</style>\n",
       "<table border=\"1\" class=\"dataframe\">\n",
       "  <thead>\n",
       "    <tr style=\"text-align: right;\">\n",
       "      <th></th>\n",
       "      <th>name</th>\n",
       "      <th>calories</th>\n",
       "      <th>fat</th>\n",
       "      <th>carb</th>\n",
       "      <th>fiber</th>\n",
       "      <th>protein</th>\n",
       "      <th>sodium</th>\n",
       "    </tr>\n",
       "  </thead>\n",
       "  <tbody>\n",
       "    <tr>\n",
       "      <th>172</th>\n",
       "      <td>Chocolate Smoothie</td>\n",
       "      <td>320.0</td>\n",
       "      <td>5.0</td>\n",
       "      <td>53.0</td>\n",
       "      <td>8.0</td>\n",
       "      <td>20.0</td>\n",
       "      <td>170.0</td>\n",
       "    </tr>\n",
       "  </tbody>\n",
       "</table>\n",
       "</div>"
      ],
      "text/plain": [
       "                   name  calories  fat  carb  fiber  protein  sodium\n",
       "172  Chocolate Smoothie     320.0  5.0  53.0    8.0     20.0   170.0"
      ]
     },
     "execution_count": 20,
     "metadata": {},
     "output_type": "execute_result"
    }
   ],
   "source": [
    "df[df['fiber']==df['fiber'].max()]"
   ]
  },
  {
   "cell_type": "code",
   "execution_count": 21,
   "metadata": {
    "tags": []
   },
   "outputs": [],
   "source": [
    "# we use max() function to find the highest value of fiber across all items.\n",
    "# We use the highest value of fiber and comparison operator to filter for all items with highest value of fiber"
   ]
  },
  {
   "cell_type": "markdown",
   "metadata": {
    "tags": []
   },
   "source": [
    "## (b)"
   ]
  },
  {
   "cell_type": "code",
   "execution_count": 22,
   "metadata": {},
   "outputs": [
    {
     "data": {
      "text/html": [
       "<div>\n",
       "<style scoped>\n",
       "    .dataframe tbody tr th:only-of-type {\n",
       "        vertical-align: middle;\n",
       "    }\n",
       "\n",
       "    .dataframe tbody tr th {\n",
       "        vertical-align: top;\n",
       "    }\n",
       "\n",
       "    .dataframe thead th {\n",
       "        text-align: right;\n",
       "    }\n",
       "</style>\n",
       "<table border=\"1\" class=\"dataframe\">\n",
       "  <thead>\n",
       "    <tr style=\"text-align: right;\">\n",
       "      <th></th>\n",
       "      <th>name</th>\n",
       "      <th>calories</th>\n",
       "      <th>fat</th>\n",
       "      <th>carb</th>\n",
       "      <th>fiber</th>\n",
       "      <th>protein</th>\n",
       "      <th>sodium</th>\n",
       "    </tr>\n",
       "  </thead>\n",
       "  <tbody>\n",
       "    <tr>\n",
       "      <th>11</th>\n",
       "      <td>Iced Espresso Classics - Vanilla Latte</td>\n",
       "      <td>130.0</td>\n",
       "      <td>2.5</td>\n",
       "      <td>21.0</td>\n",
       "      <td>0.0</td>\n",
       "      <td>5.0</td>\n",
       "      <td>65.0</td>\n",
       "    </tr>\n",
       "    <tr>\n",
       "      <th>12</th>\n",
       "      <td>Iced Espresso Classics - Caffe Mocha</td>\n",
       "      <td>140.0</td>\n",
       "      <td>2.5</td>\n",
       "      <td>23.0</td>\n",
       "      <td>0.0</td>\n",
       "      <td>5.0</td>\n",
       "      <td>90.0</td>\n",
       "    </tr>\n",
       "    <tr>\n",
       "      <th>13</th>\n",
       "      <td>Iced Espresso Classics - Caramel Macchiato</td>\n",
       "      <td>130.0</td>\n",
       "      <td>2.5</td>\n",
       "      <td>21.0</td>\n",
       "      <td>0.0</td>\n",
       "      <td>5.0</td>\n",
       "      <td>65.0</td>\n",
       "    </tr>\n",
       "    <tr>\n",
       "      <th>39</th>\n",
       "      <td>Iced Espresso Classics - Vanilla Latte</td>\n",
       "      <td>130.0</td>\n",
       "      <td>2.5</td>\n",
       "      <td>21.0</td>\n",
       "      <td>0.0</td>\n",
       "      <td>5.0</td>\n",
       "      <td>65.0</td>\n",
       "    </tr>\n",
       "    <tr>\n",
       "      <th>40</th>\n",
       "      <td>Iced Espresso Classics - Caffe Mocha</td>\n",
       "      <td>140.0</td>\n",
       "      <td>2.5</td>\n",
       "      <td>23.0</td>\n",
       "      <td>0.0</td>\n",
       "      <td>5.0</td>\n",
       "      <td>90.0</td>\n",
       "    </tr>\n",
       "    <tr>\n",
       "      <th>41</th>\n",
       "      <td>Iced Espresso Classics - Caramel Macchiato</td>\n",
       "      <td>130.0</td>\n",
       "      <td>2.5</td>\n",
       "      <td>21.0</td>\n",
       "      <td>0.0</td>\n",
       "      <td>5.0</td>\n",
       "      <td>65.0</td>\n",
       "    </tr>\n",
       "    <tr>\n",
       "      <th>68</th>\n",
       "      <td>Starbucks® Doubleshot Protein Dark Chocolate</td>\n",
       "      <td>210.0</td>\n",
       "      <td>2.5</td>\n",
       "      <td>33.0</td>\n",
       "      <td>2.0</td>\n",
       "      <td>20.0</td>\n",
       "      <td>115.0</td>\n",
       "    </tr>\n",
       "    <tr>\n",
       "      <th>69</th>\n",
       "      <td>Starbucks® Doubleshot Protein Vanilla</td>\n",
       "      <td>200.0</td>\n",
       "      <td>2.5</td>\n",
       "      <td>34.0</td>\n",
       "      <td>2.0</td>\n",
       "      <td>20.0</td>\n",
       "      <td>120.0</td>\n",
       "    </tr>\n",
       "    <tr>\n",
       "      <th>105</th>\n",
       "      <td>Nitro Cold Brew with Sweet Cream</td>\n",
       "      <td>70.0</td>\n",
       "      <td>5.0</td>\n",
       "      <td>5.0</td>\n",
       "      <td>0.0</td>\n",
       "      <td>1.0</td>\n",
       "      <td>20.0</td>\n",
       "    </tr>\n",
       "    <tr>\n",
       "      <th>108</th>\n",
       "      <td>Vanilla Sweet Cream Cold Brew</td>\n",
       "      <td>110.0</td>\n",
       "      <td>6.0</td>\n",
       "      <td>14.0</td>\n",
       "      <td>0.0</td>\n",
       "      <td>1.0</td>\n",
       "      <td>25.0</td>\n",
       "    </tr>\n",
       "    <tr>\n",
       "      <th>109</th>\n",
       "      <td>Hot Chocolate</td>\n",
       "      <td>320.0</td>\n",
       "      <td>9.0</td>\n",
       "      <td>47.0</td>\n",
       "      <td>4.0</td>\n",
       "      <td>14.0</td>\n",
       "      <td>160.0</td>\n",
       "    </tr>\n",
       "    <tr>\n",
       "      <th>110</th>\n",
       "      <td>Starbucks® Signature Hot Chocolate</td>\n",
       "      <td>430.0</td>\n",
       "      <td>26.0</td>\n",
       "      <td>45.0</td>\n",
       "      <td>5.0</td>\n",
       "      <td>12.0</td>\n",
       "      <td>115.0</td>\n",
       "    </tr>\n",
       "    <tr>\n",
       "      <th>112</th>\n",
       "      <td>Caffè Latte</td>\n",
       "      <td>190.0</td>\n",
       "      <td>7.0</td>\n",
       "      <td>19.0</td>\n",
       "      <td>0.0</td>\n",
       "      <td>13.0</td>\n",
       "      <td>170.0</td>\n",
       "    </tr>\n",
       "    <tr>\n",
       "      <th>113</th>\n",
       "      <td>Caffè Mocha</td>\n",
       "      <td>290.0</td>\n",
       "      <td>8.0</td>\n",
       "      <td>42.0</td>\n",
       "      <td>4.0</td>\n",
       "      <td>13.0</td>\n",
       "      <td>140.0</td>\n",
       "    </tr>\n",
       "    <tr>\n",
       "      <th>114</th>\n",
       "      <td>Cappuccino</td>\n",
       "      <td>120.0</td>\n",
       "      <td>4.0</td>\n",
       "      <td>12.0</td>\n",
       "      <td>0.0</td>\n",
       "      <td>8.0</td>\n",
       "      <td>100.0</td>\n",
       "    </tr>\n",
       "    <tr>\n",
       "      <th>115</th>\n",
       "      <td>Caramel Macchiato</td>\n",
       "      <td>250.0</td>\n",
       "      <td>7.0</td>\n",
       "      <td>35.0</td>\n",
       "      <td>0.0</td>\n",
       "      <td>10.0</td>\n",
       "      <td>150.0</td>\n",
       "    </tr>\n",
       "    <tr>\n",
       "      <th>117</th>\n",
       "      <td>Cinnamon Dolce Latte</td>\n",
       "      <td>260.0</td>\n",
       "      <td>6.0</td>\n",
       "      <td>40.0</td>\n",
       "      <td>0.0</td>\n",
       "      <td>11.0</td>\n",
       "      <td>150.0</td>\n",
       "    </tr>\n",
       "    <tr>\n",
       "      <th>118</th>\n",
       "      <td>Coconutmilk Mocha Macchiato</td>\n",
       "      <td>250.0</td>\n",
       "      <td>9.0</td>\n",
       "      <td>32.0</td>\n",
       "      <td>0.0</td>\n",
       "      <td>12.0</td>\n",
       "      <td>180.0</td>\n",
       "    </tr>\n",
       "    <tr>\n",
       "      <th>122</th>\n",
       "      <td>Flat White</td>\n",
       "      <td>180.0</td>\n",
       "      <td>7.0</td>\n",
       "      <td>18.0</td>\n",
       "      <td>0.0</td>\n",
       "      <td>12.0</td>\n",
       "      <td>160.0</td>\n",
       "    </tr>\n",
       "    <tr>\n",
       "      <th>124</th>\n",
       "      <td>Iced Caffè Latte</td>\n",
       "      <td>130.0</td>\n",
       "      <td>4.5</td>\n",
       "      <td>13.0</td>\n",
       "      <td>0.0</td>\n",
       "      <td>8.0</td>\n",
       "      <td>115.0</td>\n",
       "    </tr>\n",
       "    <tr>\n",
       "      <th>125</th>\n",
       "      <td>Iced Caffè Mocha</td>\n",
       "      <td>230.0</td>\n",
       "      <td>6.0</td>\n",
       "      <td>36.0</td>\n",
       "      <td>4.0</td>\n",
       "      <td>9.0</td>\n",
       "      <td>90.0</td>\n",
       "    </tr>\n",
       "    <tr>\n",
       "      <th>126</th>\n",
       "      <td>Iced Caramel Macchiato</td>\n",
       "      <td>250.0</td>\n",
       "      <td>7.0</td>\n",
       "      <td>37.0</td>\n",
       "      <td>0.0</td>\n",
       "      <td>10.0</td>\n",
       "      <td>150.0</td>\n",
       "    </tr>\n",
       "    <tr>\n",
       "      <th>128</th>\n",
       "      <td>Iced Cinnamon Dolce Latte</td>\n",
       "      <td>200.0</td>\n",
       "      <td>4.0</td>\n",
       "      <td>34.0</td>\n",
       "      <td>0.0</td>\n",
       "      <td>7.0</td>\n",
       "      <td>95.0</td>\n",
       "    </tr>\n",
       "    <tr>\n",
       "      <th>129</th>\n",
       "      <td>Iced Coconutmilk Mocha Macchiato</td>\n",
       "      <td>260.0</td>\n",
       "      <td>9.0</td>\n",
       "      <td>34.0</td>\n",
       "      <td>0.0</td>\n",
       "      <td>11.0</td>\n",
       "      <td>180.0</td>\n",
       "    </tr>\n",
       "    <tr>\n",
       "      <th>132</th>\n",
       "      <td>Iced Vanilla Latte</td>\n",
       "      <td>190.0</td>\n",
       "      <td>4.0</td>\n",
       "      <td>30.0</td>\n",
       "      <td>0.0</td>\n",
       "      <td>7.0</td>\n",
       "      <td>100.0</td>\n",
       "    </tr>\n",
       "    <tr>\n",
       "      <th>133</th>\n",
       "      <td>Iced White Chocolate Mocha</td>\n",
       "      <td>300.0</td>\n",
       "      <td>8.0</td>\n",
       "      <td>47.0</td>\n",
       "      <td>0.0</td>\n",
       "      <td>10.0</td>\n",
       "      <td>190.0</td>\n",
       "    </tr>\n",
       "    <tr>\n",
       "      <th>134</th>\n",
       "      <td>Latte Macchiato</td>\n",
       "      <td>190.0</td>\n",
       "      <td>7.0</td>\n",
       "      <td>19.0</td>\n",
       "      <td>0.0</td>\n",
       "      <td>12.0</td>\n",
       "      <td>160.0</td>\n",
       "    </tr>\n",
       "    <tr>\n",
       "      <th>135</th>\n",
       "      <td>Latte Macchiato</td>\n",
       "      <td>190.0</td>\n",
       "      <td>7.0</td>\n",
       "      <td>19.0</td>\n",
       "      <td>0.0</td>\n",
       "      <td>12.0</td>\n",
       "      <td>160.0</td>\n",
       "    </tr>\n",
       "    <tr>\n",
       "      <th>138</th>\n",
       "      <td>Vanilla Latte</td>\n",
       "      <td>250.0</td>\n",
       "      <td>6.0</td>\n",
       "      <td>37.0</td>\n",
       "      <td>0.0</td>\n",
       "      <td>12.0</td>\n",
       "      <td>150.0</td>\n",
       "    </tr>\n",
       "    <tr>\n",
       "      <th>139</th>\n",
       "      <td>White Chocolate Mocha</td>\n",
       "      <td>360.0</td>\n",
       "      <td>11.0</td>\n",
       "      <td>53.0</td>\n",
       "      <td>0.0</td>\n",
       "      <td>14.0</td>\n",
       "      <td>240.0</td>\n",
       "    </tr>\n",
       "    <tr>\n",
       "      <th>146</th>\n",
       "      <td>Cinnamon Dolce Frappuccino® Blended Coffee</td>\n",
       "      <td>350.0</td>\n",
       "      <td>4.5</td>\n",
       "      <td>64.0</td>\n",
       "      <td>0.0</td>\n",
       "      <td>15.0</td>\n",
       "      <td>0.0</td>\n",
       "    </tr>\n",
       "    <tr>\n",
       "      <th>158</th>\n",
       "      <td>Mocha Frappuccino® Blended Coffee</td>\n",
       "      <td>280.0</td>\n",
       "      <td>2.5</td>\n",
       "      <td>60.0</td>\n",
       "      <td>2.0</td>\n",
       "      <td>4.0</td>\n",
       "      <td>220.0</td>\n",
       "    </tr>\n",
       "    <tr>\n",
       "      <th>168</th>\n",
       "      <td>Cinnamon Dolce Crème</td>\n",
       "      <td>200.0</td>\n",
       "      <td>6.0</td>\n",
       "      <td>28.0</td>\n",
       "      <td>0.0</td>\n",
       "      <td>10.0</td>\n",
       "      <td>135.0</td>\n",
       "    </tr>\n",
       "    <tr>\n",
       "      <th>171</th>\n",
       "      <td>Vanilla Crème</td>\n",
       "      <td>200.0</td>\n",
       "      <td>6.0</td>\n",
       "      <td>28.0</td>\n",
       "      <td>0.0</td>\n",
       "      <td>10.0</td>\n",
       "      <td>135.0</td>\n",
       "    </tr>\n",
       "    <tr>\n",
       "      <th>172</th>\n",
       "      <td>Chocolate Smoothie</td>\n",
       "      <td>320.0</td>\n",
       "      <td>5.0</td>\n",
       "      <td>53.0</td>\n",
       "      <td>8.0</td>\n",
       "      <td>20.0</td>\n",
       "      <td>170.0</td>\n",
       "    </tr>\n",
       "  </tbody>\n",
       "</table>\n",
       "</div>"
      ],
      "text/plain": [
       "                                             name  calories   fat  carb  \\\n",
       "11         Iced Espresso Classics - Vanilla Latte     130.0   2.5  21.0   \n",
       "12           Iced Espresso Classics - Caffe Mocha     140.0   2.5  23.0   \n",
       "13     Iced Espresso Classics - Caramel Macchiato     130.0   2.5  21.0   \n",
       "39         Iced Espresso Classics - Vanilla Latte     130.0   2.5  21.0   \n",
       "40           Iced Espresso Classics - Caffe Mocha     140.0   2.5  23.0   \n",
       "41     Iced Espresso Classics - Caramel Macchiato     130.0   2.5  21.0   \n",
       "68   Starbucks® Doubleshot Protein Dark Chocolate     210.0   2.5  33.0   \n",
       "69          Starbucks® Doubleshot Protein Vanilla     200.0   2.5  34.0   \n",
       "105              Nitro Cold Brew with Sweet Cream      70.0   5.0   5.0   \n",
       "108                 Vanilla Sweet Cream Cold Brew     110.0   6.0  14.0   \n",
       "109                                 Hot Chocolate     320.0   9.0  47.0   \n",
       "110            Starbucks® Signature Hot Chocolate     430.0  26.0  45.0   \n",
       "112                                   Caffè Latte     190.0   7.0  19.0   \n",
       "113                                   Caffè Mocha     290.0   8.0  42.0   \n",
       "114                                    Cappuccino     120.0   4.0  12.0   \n",
       "115                             Caramel Macchiato     250.0   7.0  35.0   \n",
       "117                          Cinnamon Dolce Latte     260.0   6.0  40.0   \n",
       "118                   Coconutmilk Mocha Macchiato     250.0   9.0  32.0   \n",
       "122                                    Flat White     180.0   7.0  18.0   \n",
       "124                              Iced Caffè Latte     130.0   4.5  13.0   \n",
       "125                              Iced Caffè Mocha     230.0   6.0  36.0   \n",
       "126                        Iced Caramel Macchiato     250.0   7.0  37.0   \n",
       "128                     Iced Cinnamon Dolce Latte     200.0   4.0  34.0   \n",
       "129              Iced Coconutmilk Mocha Macchiato     260.0   9.0  34.0   \n",
       "132                            Iced Vanilla Latte     190.0   4.0  30.0   \n",
       "133                    Iced White Chocolate Mocha     300.0   8.0  47.0   \n",
       "134                               Latte Macchiato     190.0   7.0  19.0   \n",
       "135                               Latte Macchiato     190.0   7.0  19.0   \n",
       "138                                 Vanilla Latte     250.0   6.0  37.0   \n",
       "139                         White Chocolate Mocha     360.0  11.0  53.0   \n",
       "146    Cinnamon Dolce Frappuccino® Blended Coffee     350.0   4.5  64.0   \n",
       "158             Mocha Frappuccino® Blended Coffee     280.0   2.5  60.0   \n",
       "168                          Cinnamon Dolce Crème     200.0   6.0  28.0   \n",
       "171                                 Vanilla Crème     200.0   6.0  28.0   \n",
       "172                            Chocolate Smoothie     320.0   5.0  53.0   \n",
       "\n",
       "     fiber  protein  sodium  \n",
       "11     0.0      5.0    65.0  \n",
       "12     0.0      5.0    90.0  \n",
       "13     0.0      5.0    65.0  \n",
       "39     0.0      5.0    65.0  \n",
       "40     0.0      5.0    90.0  \n",
       "41     0.0      5.0    65.0  \n",
       "68     2.0     20.0   115.0  \n",
       "69     2.0     20.0   120.0  \n",
       "105    0.0      1.0    20.0  \n",
       "108    0.0      1.0    25.0  \n",
       "109    4.0     14.0   160.0  \n",
       "110    5.0     12.0   115.0  \n",
       "112    0.0     13.0   170.0  \n",
       "113    4.0     13.0   140.0  \n",
       "114    0.0      8.0   100.0  \n",
       "115    0.0     10.0   150.0  \n",
       "117    0.0     11.0   150.0  \n",
       "118    0.0     12.0   180.0  \n",
       "122    0.0     12.0   160.0  \n",
       "124    0.0      8.0   115.0  \n",
       "125    4.0      9.0    90.0  \n",
       "126    0.0     10.0   150.0  \n",
       "128    0.0      7.0    95.0  \n",
       "129    0.0     11.0   180.0  \n",
       "132    0.0      7.0   100.0  \n",
       "133    0.0     10.0   190.0  \n",
       "134    0.0     12.0   160.0  \n",
       "135    0.0     12.0   160.0  \n",
       "138    0.0     12.0   150.0  \n",
       "139    0.0     14.0   240.0  \n",
       "146    0.0     15.0     0.0  \n",
       "158    2.0      4.0   220.0  \n",
       "168    0.0     10.0   135.0  \n",
       "171    0.0     10.0   135.0  \n",
       "172    8.0     20.0   170.0  "
      ]
     },
     "execution_count": 22,
     "metadata": {},
     "output_type": "execute_result"
    }
   ],
   "source": [
    "df[df['fat']>df['fat'].mean()]"
   ]
  },
  {
   "cell_type": "code",
   "execution_count": 23,
   "metadata": {
    "tags": []
   },
   "outputs": [],
   "source": [
    "# We use the mean() funciton to find the mean value of fat across all items and then use the comparison\n",
    "# operator to find items that have fat more than average value of fat."
   ]
  },
  {
   "cell_type": "markdown",
   "metadata": {
    "tags": []
   },
   "source": [
    "## (c)"
   ]
  },
  {
   "cell_type": "code",
   "execution_count": 24,
   "metadata": {},
   "outputs": [],
   "source": [
    "df['new_col']=df['fat']/df['calories']"
   ]
  },
  {
   "cell_type": "code",
   "execution_count": 25,
   "metadata": {
    "tags": []
   },
   "outputs": [],
   "source": [
    "# We define a new column by dividing the values of column \"fat\" and column \"calories\""
   ]
  },
  {
   "cell_type": "markdown",
   "metadata": {
    "tags": []
   },
   "source": [
    "## (d)"
   ]
  },
  {
   "cell_type": "code",
   "execution_count": 26,
   "metadata": {},
   "outputs": [
    {
     "data": {
      "text/plain": [
       "114.0625"
      ]
     },
     "execution_count": 26,
     "metadata": {},
     "output_type": "execute_result"
    }
   ],
   "source": [
    "df[df['protein']>2*df['fat']]['calories'].mean()"
   ]
  },
  {
   "cell_type": "code",
   "execution_count": 27,
   "metadata": {},
   "outputs": [],
   "source": [
    "# First create a condition where we compare protein and 2*fat; then we filter for \"calories\" column and \n",
    "# then apply mean() to find average values"
   ]
  },
  {
   "cell_type": "markdown",
   "metadata": {
    "tags": []
   },
   "source": [
    "###  Assignment 4 (25%)\n",
    "#### (a) How many items do not have the word 'Coffee' in their names\n",
    "#### (b) Find maximum calories across all items that have fat between 2 and 4 (inclusive, you need to include 2 and 4)\n",
    "#### (c) Find all items that have word \"Starbucks\" or \"Bottled\" in their names but do not contain word \"Milk\"\n",
    "#### (challenge) Among items that have word 'Coffee' in their name, find those who have more caleries than average of items with word \"Smoothie\"\n",
    "#### **OUTCOME:** for each step show the resulting value and corresponding code "
   ]
  },
  {
   "cell_type": "markdown",
   "metadata": {},
   "source": [
    "## (a)"
   ]
  },
  {
   "cell_type": "code",
   "execution_count": 28,
   "metadata": {},
   "outputs": [
    {
     "data": {
      "text/plain": [
       "134"
      ]
     },
     "execution_count": 28,
     "metadata": {},
     "output_type": "execute_result"
    }
   ],
   "source": [
    "df[~df['name'].str.contains('Coffee')].shape[0]"
   ]
  },
  {
   "cell_type": "code",
   "execution_count": 29,
   "metadata": {
    "tags": []
   },
   "outputs": [],
   "source": [
    "# We use str.contains to look for all columns in which the word \"Coffee\" appears.\n",
    "# We then inverse the condition using ~\n",
    "# Finally, we use shape to find the size of the outcome dataframe "
   ]
  },
  {
   "cell_type": "markdown",
   "metadata": {
    "tags": []
   },
   "source": [
    "## (b)"
   ]
  },
  {
   "cell_type": "code",
   "execution_count": 30,
   "metadata": {},
   "outputs": [
    {
     "data": {
      "text/plain": [
       "300.0"
      ]
     },
     "execution_count": 30,
     "metadata": {},
     "output_type": "execute_result"
    }
   ],
   "source": [
    "df[(df['fat']>=2) & (df['fat']<=4)]['calories'].max()"
   ]
  },
  {
   "cell_type": "code",
   "execution_count": 31,
   "metadata": {
    "tags": []
   },
   "outputs": [],
   "source": [
    "# We combine two conditions for comparing the value of fat, then filter for calories, finally use max() to find max value of calories"
   ]
  },
  {
   "cell_type": "markdown",
   "metadata": {},
   "source": [
    "## (c)"
   ]
  },
  {
   "cell_type": "code",
   "execution_count": 32,
   "metadata": {},
   "outputs": [
    {
     "data": {
      "text/html": [
       "<div>\n",
       "<style scoped>\n",
       "    .dataframe tbody tr th:only-of-type {\n",
       "        vertical-align: middle;\n",
       "    }\n",
       "\n",
       "    .dataframe tbody tr th {\n",
       "        vertical-align: top;\n",
       "    }\n",
       "\n",
       "    .dataframe thead th {\n",
       "        text-align: right;\n",
       "    }\n",
       "</style>\n",
       "<table border=\"1\" class=\"dataframe\">\n",
       "  <thead>\n",
       "    <tr style=\"text-align: right;\">\n",
       "      <th></th>\n",
       "      <th>name</th>\n",
       "      <th>calories</th>\n",
       "      <th>fat</th>\n",
       "      <th>carb</th>\n",
       "      <th>fiber</th>\n",
       "      <th>protein</th>\n",
       "      <th>sodium</th>\n",
       "      <th>new_col</th>\n",
       "    </tr>\n",
       "  </thead>\n",
       "  <tbody>\n",
       "    <tr>\n",
       "      <th>0</th>\n",
       "      <td>Cool Lime Starbucks Refreshers™ Beverage</td>\n",
       "      <td>45.000000</td>\n",
       "      <td>0.000000</td>\n",
       "      <td>11.00000</td>\n",
       "      <td>0.000000</td>\n",
       "      <td>0.000000</td>\n",
       "      <td>10.000000</td>\n",
       "      <td>0.000000</td>\n",
       "    </tr>\n",
       "    <tr>\n",
       "      <th>3</th>\n",
       "      <td>Strawberry Acai Starbucks Refreshers™ Beverage</td>\n",
       "      <td>80.000000</td>\n",
       "      <td>0.000000</td>\n",
       "      <td>18.00000</td>\n",
       "      <td>1.000000</td>\n",
       "      <td>0.000000</td>\n",
       "      <td>10.000000</td>\n",
       "      <td>0.000000</td>\n",
       "    </tr>\n",
       "    <tr>\n",
       "      <th>4</th>\n",
       "      <td>Very Berry Hibiscus Starbucks Refreshers™ Beve...</td>\n",
       "      <td>60.000000</td>\n",
       "      <td>0.000000</td>\n",
       "      <td>14.00000</td>\n",
       "      <td>1.000000</td>\n",
       "      <td>0.000000</td>\n",
       "      <td>10.000000</td>\n",
       "      <td>0.000000</td>\n",
       "    </tr>\n",
       "    <tr>\n",
       "      <th>14</th>\n",
       "      <td>Starbucks® Caramel Iced Coffee</td>\n",
       "      <td>135.163043</td>\n",
       "      <td>2.336957</td>\n",
       "      <td>24.73913</td>\n",
       "      <td>0.445652</td>\n",
       "      <td>4.152174</td>\n",
       "      <td>57.934783</td>\n",
       "      <td>0.017290</td>\n",
       "    </tr>\n",
       "    <tr>\n",
       "      <th>17</th>\n",
       "      <td>Starbucks® Vanilla Iced Coffee</td>\n",
       "      <td>135.163043</td>\n",
       "      <td>2.336957</td>\n",
       "      <td>24.73913</td>\n",
       "      <td>0.445652</td>\n",
       "      <td>4.152174</td>\n",
       "      <td>57.934783</td>\n",
       "      <td>0.017290</td>\n",
       "    </tr>\n",
       "    <tr>\n",
       "      <th>...</th>\n",
       "      <td>...</td>\n",
       "      <td>...</td>\n",
       "      <td>...</td>\n",
       "      <td>...</td>\n",
       "      <td>...</td>\n",
       "      <td>...</td>\n",
       "      <td>...</td>\n",
       "      <td>...</td>\n",
       "    </tr>\n",
       "    <tr>\n",
       "      <th>88</th>\n",
       "      <td>Tazo® Bottled Tazoberry</td>\n",
       "      <td>150.000000</td>\n",
       "      <td>0.000000</td>\n",
       "      <td>38.00000</td>\n",
       "      <td>0.000000</td>\n",
       "      <td>0.000000</td>\n",
       "      <td>15.000000</td>\n",
       "      <td>0.000000</td>\n",
       "    </tr>\n",
       "    <tr>\n",
       "      <th>89</th>\n",
       "      <td>Tazo® Bottled White Cranberry</td>\n",
       "      <td>140.000000</td>\n",
       "      <td>0.000000</td>\n",
       "      <td>35.00000</td>\n",
       "      <td>0.000000</td>\n",
       "      <td>0.000000</td>\n",
       "      <td>10.000000</td>\n",
       "      <td>0.000000</td>\n",
       "    </tr>\n",
       "    <tr>\n",
       "      <th>93</th>\n",
       "      <td>White Chocolate Mocha Bottled Frappuccino</td>\n",
       "      <td>135.163043</td>\n",
       "      <td>2.336957</td>\n",
       "      <td>24.73913</td>\n",
       "      <td>0.445652</td>\n",
       "      <td>4.152174</td>\n",
       "      <td>57.934783</td>\n",
       "      <td>0.017290</td>\n",
       "    </tr>\n",
       "    <tr>\n",
       "      <th>110</th>\n",
       "      <td>Starbucks® Signature Hot Chocolate</td>\n",
       "      <td>430.000000</td>\n",
       "      <td>26.000000</td>\n",
       "      <td>45.00000</td>\n",
       "      <td>5.000000</td>\n",
       "      <td>12.000000</td>\n",
       "      <td>115.000000</td>\n",
       "      <td>0.060465</td>\n",
       "    </tr>\n",
       "    <tr>\n",
       "      <th>137</th>\n",
       "      <td>Starbucks Doubleshot® on Ice Beverage</td>\n",
       "      <td>45.000000</td>\n",
       "      <td>1.000000</td>\n",
       "      <td>5.00000</td>\n",
       "      <td>0.000000</td>\n",
       "      <td>3.000000</td>\n",
       "      <td>40.000000</td>\n",
       "      <td>0.022222</td>\n",
       "    </tr>\n",
       "  </tbody>\n",
       "</table>\n",
       "<p>65 rows × 8 columns</p>\n",
       "</div>"
      ],
      "text/plain": [
       "                                                  name    calories        fat  \\\n",
       "0             Cool Lime Starbucks Refreshers™ Beverage   45.000000   0.000000   \n",
       "3       Strawberry Acai Starbucks Refreshers™ Beverage   80.000000   0.000000   \n",
       "4    Very Berry Hibiscus Starbucks Refreshers™ Beve...   60.000000   0.000000   \n",
       "14                      Starbucks® Caramel Iced Coffee  135.163043   2.336957   \n",
       "17                      Starbucks® Vanilla Iced Coffee  135.163043   2.336957   \n",
       "..                                                 ...         ...        ...   \n",
       "88                             Tazo® Bottled Tazoberry  150.000000   0.000000   \n",
       "89                       Tazo® Bottled White Cranberry  140.000000   0.000000   \n",
       "93           White Chocolate Mocha Bottled Frappuccino  135.163043   2.336957   \n",
       "110                 Starbucks® Signature Hot Chocolate  430.000000  26.000000   \n",
       "137              Starbucks Doubleshot® on Ice Beverage   45.000000   1.000000   \n",
       "\n",
       "         carb     fiber    protein      sodium   new_col  \n",
       "0    11.00000  0.000000   0.000000   10.000000  0.000000  \n",
       "3    18.00000  1.000000   0.000000   10.000000  0.000000  \n",
       "4    14.00000  1.000000   0.000000   10.000000  0.000000  \n",
       "14   24.73913  0.445652   4.152174   57.934783  0.017290  \n",
       "17   24.73913  0.445652   4.152174   57.934783  0.017290  \n",
       "..        ...       ...        ...         ...       ...  \n",
       "88   38.00000  0.000000   0.000000   15.000000  0.000000  \n",
       "89   35.00000  0.000000   0.000000   10.000000  0.000000  \n",
       "93   24.73913  0.445652   4.152174   57.934783  0.017290  \n",
       "110  45.00000  5.000000  12.000000  115.000000  0.060465  \n",
       "137   5.00000  0.000000   3.000000   40.000000  0.022222  \n",
       "\n",
       "[65 rows x 8 columns]"
      ]
     },
     "execution_count": 32,
     "metadata": {},
     "output_type": "execute_result"
    }
   ],
   "source": [
    "df[\n",
    "    ((df['name'].str.contains(\"Starbucks\")) | df['name'].str.contains(\"Bottled\"))&\n",
    "    ~(df['name'].str.contains('Milk'))\n",
    "    ]"
   ]
  },
  {
   "cell_type": "code",
   "execution_count": 33,
   "metadata": {
    "tags": []
   },
   "outputs": [],
   "source": [
    "# First, we combine two conditions for column name containing Startbucks and Bottled using the \"or\" operator, \n",
    "# Second, we use create a condition for finding rows where \"name\" contain the word \"Milk\" and then inverse that\n",
    "# we combine condition 1 and condition 2 using \"and\" operator\n"
   ]
  },
  {
   "cell_type": "markdown",
   "metadata": {
    "tags": []
   },
   "source": [
    "## (Challenge)"
   ]
  },
  {
   "cell_type": "code",
   "execution_count": 34,
   "metadata": {},
   "outputs": [
    {
     "data": {
      "text/html": [
       "<div>\n",
       "<style scoped>\n",
       "    .dataframe tbody tr th:only-of-type {\n",
       "        vertical-align: middle;\n",
       "    }\n",
       "\n",
       "    .dataframe tbody tr th {\n",
       "        vertical-align: top;\n",
       "    }\n",
       "\n",
       "    .dataframe thead th {\n",
       "        text-align: right;\n",
       "    }\n",
       "</style>\n",
       "<table border=\"1\" class=\"dataframe\">\n",
       "  <thead>\n",
       "    <tr style=\"text-align: right;\">\n",
       "      <th></th>\n",
       "      <th>name</th>\n",
       "      <th>calories</th>\n",
       "      <th>fat</th>\n",
       "      <th>carb</th>\n",
       "      <th>fiber</th>\n",
       "      <th>protein</th>\n",
       "      <th>sodium</th>\n",
       "      <th>new_col</th>\n",
       "    </tr>\n",
       "  </thead>\n",
       "  <tbody>\n",
       "    <tr>\n",
       "      <th>146</th>\n",
       "      <td>Cinnamon Dolce Frappuccino® Blended Coffee</td>\n",
       "      <td>350.0</td>\n",
       "      <td>4.5</td>\n",
       "      <td>64.0</td>\n",
       "      <td>0.0</td>\n",
       "      <td>15.0</td>\n",
       "      <td>0.0</td>\n",
       "      <td>0.012857</td>\n",
       "    </tr>\n",
       "  </tbody>\n",
       "</table>\n",
       "</div>"
      ],
      "text/plain": [
       "                                           name  calories  fat  carb  fiber  \\\n",
       "146  Cinnamon Dolce Frappuccino® Blended Coffee     350.0  4.5  64.0    0.0   \n",
       "\n",
       "     protein  sodium   new_col  \n",
       "146     15.0     0.0  0.012857  "
      ]
     },
     "execution_count": 34,
     "metadata": {},
     "output_type": "execute_result"
    }
   ],
   "source": [
    "df1=df[df['name'].str.contains('Coffee')]\n",
    "df2=df[df['name'].str.contains('Smoothie')]\n",
    "df1[df1['calories']>df2['calories'].mean()]"
   ]
  },
  {
   "cell_type": "code",
   "execution_count": 35,
   "metadata": {
    "tags": []
   },
   "outputs": [],
   "source": [
    "# We create two seperate dataframe one filtering for column name containing word \"Coffee\" and one containing word \"Smoothie\"\n",
    "# We then filter for rows where calories in first data frame is more than average calories in the second dataframe"
   ]
  },
  {
   "cell_type": "code",
   "execution_count": null,
   "metadata": {},
   "outputs": [],
   "source": []
  }
 ],
 "metadata": {
  "kernelspec": {
   "display_name": "py311",
   "language": "python",
   "name": "py311"
  },
  "language_info": {
   "codemirror_mode": {
    "name": "ipython",
    "version": 3
   },
   "file_extension": ".py",
   "mimetype": "text/x-python",
   "name": "python",
   "nbconvert_exporter": "python",
   "pygments_lexer": "ipython3",
   "version": "3.11.7"
  }
 },
 "nbformat": 4,
 "nbformat_minor": 4
}
