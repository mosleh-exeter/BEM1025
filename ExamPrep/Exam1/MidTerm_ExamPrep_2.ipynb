{
 "cells": [
  {
   "cell_type": "markdown",
   "metadata": {},
   "source": [
    "# BEM 1025: Programming for Business Analytics\n",
    "#   1st open-book Exam prep"
   ]
  },
  {
   "cell_type": "markdown",
   "metadata": {},
   "source": [
    "### You need to download this file as ipynb, zip (compress it) it, and upload as a zip file to BART.\n",
    "<img width=\"800\" height=\"400\" src=\"https://github.com/mosleh-exeter/BEM1025/raw/main/images/UploadBart.png\">\n",
    "\n",
    "### For all questions YOU HAVE TO WRITE SOME CORRECT PYTHON CODE! simply giving the final answer is not enough! \n",
    "### You can provide brief description if you think that helps understanding of your code.\n",
    "### You need to make your code adaptable and scalable; and avoid manual entry of data as much as it is possible."
   ]
  },
  {
   "cell_type": "markdown",
   "metadata": {},
   "source": [
    "# Provide your first and last name in the following cells\n",
    "### First name and last name:"
   ]
  },
  {
   "cell_type": "code",
   "execution_count": null,
   "metadata": {},
   "outputs": [],
   "source": []
  },
  {
   "cell_type": "markdown",
   "metadata": {},
   "source": []
  },
  {
   "cell_type": "code",
   "execution_count": 1,
   "metadata": {},
   "outputs": [],
   "source": [
    "# here we import libraries that we may need and give them a nickname each\n",
    "import pandas as pd\n",
    "import numpy as np\n"
   ]
  },
  {
   "cell_type": "markdown",
   "metadata": {},
   "source": [
    "###  Assignment 1 (25%)\n",
    "#### (a) Create list \"A\" containing $\\pi$, $\\frac{\\pi}{2}$,  $\\frac{\\pi}{3}$,  $\\frac{\\pi}{4}$\n",
    "#### (b) For all elements in list A, find  sum and mean of $sin(x)$ using a \"for loop\" \n",
    "#### (challenge) Do the above without creating a list\n",
    "#### **OUTCOME:** Provide the python code for defining the lists, and calculating  mean value and the outcome values\n",
    "#### Tip:  You can do this using basic Python functionality see https://www.tutorialspoint.com/python/python_basic_operators.htm and numpy library https://numpy.org/"
   ]
  },
  {
   "cell_type": "code",
   "execution_count": null,
   "metadata": {},
   "outputs": [],
   "source": []
  },
  {
   "cell_type": "code",
   "execution_count": null,
   "metadata": {},
   "outputs": [],
   "source": []
  },
  {
   "cell_type": "code",
   "execution_count": null,
   "metadata": {},
   "outputs": [],
   "source": []
  },
  {
   "cell_type": "markdown",
   "metadata": {
    "tags": []
   },
   "source": [
    "### You will work on the following dataframe for the rest of assignments\n",
    "**Context**\n",
    "Context:\n",
    "Starbucks is an American coffee chain founded in Seattle. It serves both beverages and food.\n",
    "\n",
    "Content:\n",
    "This dataset includes the nutritional information for Starbucks’ food and drink menu items. All nutritional information for drinks are for a 12oz serving size.\n",
    "https://www.kaggle.com/starbucks/starbucks-menu\n",
    "\n",
    "Read this dataset into pandas: (this file has been cleaned for this excersize)\n",
    "\n",
    "https://raw.githubusercontent.com/mosleh-exeter/BEM1025/main/Fun%2C%20beginner-friendly%20datasets/starbucks-menu-nutrition-drinks_cleaned.csv"
   ]
  },
  {
   "cell_type": "code",
   "execution_count": 2,
   "metadata": {},
   "outputs": [],
   "source": [
    "df=pd.read_csv(\"https://raw.githubusercontent.com/mosleh-exeter/BEM1025/main/Fun%2C%20beginner-friendly%20datasets/starbucks-menu-nutrition-drinks_cleaned.csv\")"
   ]
  },
  {
   "cell_type": "markdown",
   "metadata": {},
   "source": [
    "###  Assignment 2 (25%)\n",
    "#### (a) How many total values are in the dataframe columns and rows? (tip find columns times rows)\n",
    "#### (b) Extract the columns \"name\",\"calories\", \"protein\" (the outcome should have three columns not seperated single columns)\n",
    "#### (c) Extract rows number 10, 15, 100\n",
    "#### (d) Extract columns \"name\" and \"protein\" for the last 100 rows without using tail command\n",
    "#### (Challenge) Show all rows except range 10-20 and 40-50 \n",
    "#### **OUTCOME:** for each step show the resulting dataframe and the corresponding code\n"
   ]
  },
  {
   "cell_type": "code",
   "execution_count": null,
   "metadata": {},
   "outputs": [],
   "source": []
  },
  {
   "cell_type": "code",
   "execution_count": null,
   "metadata": {},
   "outputs": [],
   "source": []
  },
  {
   "cell_type": "code",
   "execution_count": null,
   "metadata": {},
   "outputs": [],
   "source": []
  },
  {
   "cell_type": "code",
   "execution_count": null,
   "metadata": {},
   "outputs": [],
   "source": []
  },
  {
   "cell_type": "code",
   "execution_count": null,
   "metadata": {},
   "outputs": [],
   "source": []
  },
  {
   "cell_type": "markdown",
   "metadata": {},
   "source": [
    "###  Assignment 3 (25%)\n",
    "#### (a) Find all drinks with maximum values of fiber across all items\n",
    "#### (b) Find all drinks that have fat more than average of all drinks \n",
    "#### (c) Create a new column in dataframe to show fat per calories\n",
    "#### (challenge) what is the average calories of drinks that their protein is more than double amount of their fat\n",
    "#### **OUTCOME:** for each step show the resulting value/dataframe and corresponding code"
   ]
  },
  {
   "cell_type": "code",
   "execution_count": null,
   "metadata": {},
   "outputs": [],
   "source": []
  },
  {
   "cell_type": "code",
   "execution_count": null,
   "metadata": {},
   "outputs": [],
   "source": []
  },
  {
   "cell_type": "code",
   "execution_count": 3,
   "metadata": {},
   "outputs": [],
   "source": []
  },
  {
   "cell_type": "code",
   "execution_count": 4,
   "metadata": {},
   "outputs": [
    {
     "data": {
      "text/plain": [
       "114.0625"
      ]
     },
     "execution_count": 4,
     "metadata": {},
     "output_type": "execute_result"
    }
   ],
   "source": []
  },
  {
   "cell_type": "markdown",
   "metadata": {},
   "source": [
    "###  Assignment 4 (25%)\n",
    "#### (a) How many items do not have the word 'Coffee' in their names\n",
    "#### (b) Find maximum calories across all items that have fat between 2 and 4 (inclusive, you need to include 2 and 4)\n",
    "#### (c) Find all items that have word \"Starbucks\" or \"Bottled\" in their names but do not contain word \"Milk\"\n",
    "#### (challenge) Among items that have word 'Coffee' in their name, find those who have more caleries than average of items with word \"Smoothie\"\n",
    "#### **OUTCOME:** for each step show the resulting value and corresponding code "
   ]
  },
  {
   "cell_type": "code",
   "execution_count": null,
   "metadata": {},
   "outputs": [],
   "source": []
  },
  {
   "cell_type": "code",
   "execution_count": null,
   "metadata": {},
   "outputs": [],
   "source": []
  },
  {
   "cell_type": "code",
   "execution_count": null,
   "metadata": {},
   "outputs": [],
   "source": []
  },
  {
   "cell_type": "code",
   "execution_count": null,
   "metadata": {},
   "outputs": [],
   "source": []
  }
 ],
 "metadata": {
  "kernelspec": {
   "display_name": "Python 3 (ipykernel)",
   "language": "python",
   "name": "python3"
  },
  "language_info": {
   "codemirror_mode": {
    "name": "ipython",
    "version": 3
   },
   "file_extension": ".py",
   "mimetype": "text/x-python",
   "name": "python",
   "nbconvert_exporter": "python",
   "pygments_lexer": "ipython3",
   "version": "3.8.5"
  }
 },
 "nbformat": 4,
 "nbformat_minor": 4
}
