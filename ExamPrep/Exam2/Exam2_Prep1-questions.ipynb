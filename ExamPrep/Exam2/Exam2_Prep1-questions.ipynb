{
 "cells": [
  {
   "cell_type": "code",
   "execution_count": 20,
   "metadata": {},
   "outputs": [],
   "source": [
    "# we import the library pandas and give it the \"pd\" kickname\n",
    "import pandas as pd\n",
    "import numpy as np\n",
    "import seaborn as sns"
   ]
  },
  {
   "cell_type": "markdown",
   "metadata": {},
   "source": [
    "# **For all questions YOU HAVE TO WRITE SOME CORRECT  PYTHON CODE! simply giving the final answer is not enough!** "
   ]
  },
  {
   "cell_type": "markdown",
   "metadata": {},
   "source": [
    "### You need to download this file as ipynb, zip (compress it) it, and upload as a zip file to BART.\n",
    "<img width=\"800\" height=\"400\" src=\"https://github.com/mosleh-exeter/BEM1025/raw/main/images/UploadBart.png\">\n",
    "\n",
    "### For all questions YOU HAVE TO WRITE SOME CORRECT PYTHON CODE! simply giving the final answer is not enough! \n",
    "### You can provide brief description if you think that helps understanding of your code.\n",
    "### You need to make your code adaptable and scalable; and avoid manual entry of data as much as it is possible."
   ]
  },
  {
   "cell_type": "markdown",
   "metadata": {},
   "source": [
    "### You will work on the following dataframes for this assignment\n",
    "#### We use sample stock trading data from Amazon (“AMZN”), Apple (“AAPL”), Google (“GOOG”), Facebook (\"FB\"), and Tesla (\"TSLA\")\n",
    "#### The data show the high (\"high\") and low (\"low\") prices a stock attained for a particular period of time as well as the opening (\"open\") and closing (\"close\") prices and volume (\"volume\") of trades of the stock for  each period (\"date\") and for each company (\"sybmol\")."
   ]
  },
  {
   "cell_type": "markdown",
   "metadata": {},
   "source": [
    "#### We have collected data in different files, stocks1, stocks2, stocks3.\n",
    "#### The data files contain similar information but for different companies."
   ]
  },
  {
   "cell_type": "code",
   "execution_count": 21,
   "metadata": {},
   "outputs": [],
   "source": [
    "# Here we read three data files with similar structure but containing different information\n",
    "df_stocks1 = pd.read_csv('https://www.dropbox.com/s/8q3kccblwz803hb/stocks1.csv?dl=1')"
   ]
  },
  {
   "cell_type": "code",
   "execution_count": 22,
   "metadata": {},
   "outputs": [],
   "source": [
    "df_stocks2 = pd.read_csv('https://www.dropbox.com/s/btxchlcezulmnx9/stocks2.csv?dl=1')"
   ]
  },
  {
   "cell_type": "code",
   "execution_count": 23,
   "metadata": {},
   "outputs": [],
   "source": [
    "df_stocks3 = pd.read_csv('https://www.dropbox.com/s/eaybbgkx5x5lf3t/stocks3.csv?dl=1')"
   ]
  },
  {
   "cell_type": "markdown",
   "metadata": {},
   "source": [
    "#### The following dataframe includes additional information such as full name (\"name\"), number of employees (\"employees\"), headquarters city and state (\"headquarters_city\", \"headquarters_state\" ) for each company"
   ]
  },
  {
   "cell_type": "code",
   "execution_count": 24,
   "metadata": {},
   "outputs": [],
   "source": [
    "df_companies =pd.DataFrame({\n",
    "    'symbol':['AMZN','GOOG','AAPL','FB','TSLA'],\n",
    "    'name':['Amazon','Google','Apple','Facebook','Tesla'],\n",
    "    'employees':[613300,98771,132000,71970,99000],\n",
    "    'headquarters_city':['Seattle','Mountain View','Cupertino','Menlo Park','Austin'],\n",
    "    'headquarters_state':['WA','CA','CA','CA','TX']})"
   ]
  },
  {
   "cell_type": "markdown",
   "metadata": {},
   "source": [
    "## Task 1 \n",
    "### Create a new dataframe that includes stock information from **all three stock dataframes** and for each company also **includes information about** \"name\", \"employees\", \"headquarters_city\", and \"headquarters_state\". The outcome dataframe should have an **index starting from zero** and ending with number of rows minud one.\n",
    "### **OUTCOME:** The code should display the **last 4 rows** and **shape** of the outcome dataframe.\n"
   ]
  },
  {
   "cell_type": "code",
   "execution_count": null,
   "metadata": {},
   "outputs": [],
   "source": []
  },
  {
   "cell_type": "markdown",
   "metadata": {},
   "source": [
    "### ** Use the following dataframe to answer the rest of questions; this is similar to the outcome from Task 1 **"
   ]
  },
  {
   "cell_type": "code",
   "execution_count": 26,
   "metadata": {},
   "outputs": [],
   "source": [
    "df_stocks_company_info=pd.read_csv(\"https://www.dropbox.com/s/a673miodv8mehjb/df_stock_info.csv?dl=1\")"
   ]
  },
  {
   "cell_type": "markdown",
   "metadata": {},
   "source": [
    "## Task 2\n",
    "### Using the dataframe you created in Task 1 (\"df_stocks_company_info\"), find the date and the company for which maximum opening price happened among companies in California (\"CA\") that have more than 100,000 employees.\n",
    "### **OUTCOME:** The code should display the name of the company, the date, and the price."
   ]
  },
  {
   "cell_type": "code",
   "execution_count": null,
   "metadata": {},
   "outputs": [],
   "source": []
  },
  {
   "cell_type": "markdown",
   "metadata": {},
   "source": [
    "## Task 3\n",
    "### a) Transform the dataframe you created in Task 1 (\"df_stocks_company_info\") to a long dataframe where the variables \"open\", \"high\", \"low\", \"close\", \"volume\" are represented in two columns: one column for the variable type and the other one for its value. Keep the rest of columns similar to \"df_stocks_company_info\".\n",
    "### b) Find min, max, and mean of \"open\", \"high\", \"low\", \"close\", \"volume\" using the dataframe you created in part (a) for each \"headquarters_state\"\n"
   ]
  },
  {
   "cell_type": "markdown",
   "metadata": {},
   "source": [
    "### **OUTCOME (a):** The code should display the head of the outcome dataframe"
   ]
  },
  {
   "cell_type": "code",
   "execution_count": null,
   "metadata": {},
   "outputs": [],
   "source": []
  },
  {
   "cell_type": "markdown",
   "metadata": {},
   "source": [
    "### **OUTCOME (b):** The code should display the head of outcome dataframe"
   ]
  },
  {
   "cell_type": "code",
   "execution_count": null,
   "metadata": {},
   "outputs": [],
   "source": []
  },
  {
   "cell_type": "markdown",
   "metadata": {},
   "source": [
    "## Task 4\n",
    "### (a) For the dataframe you created in Task 1 (\"df_stocks_company_info\"), create a new column \"total_trades_value\" using a lambda function by finding average total trades value as follows: (low price \"low\"+ high price \"high\")/2 * volume of trades \"volume\" (sum of \"high\" and \"low\" divided by 2 then multiply by \"volume\") and apply that function to the rows.\n",
    "\n",
    "### (b) Using the new column you created in part (a), find the top 3 companies with highest average volume of trades (from highest to the lowest)\n"
   ]
  },
  {
   "cell_type": "markdown",
   "metadata": {},
   "source": [
    "### **OUTCOME (a):** The code should display the new column \"total_trades_value\""
   ]
  },
  {
   "cell_type": "code",
   "execution_count": null,
   "metadata": {},
   "outputs": [],
   "source": []
  },
  {
   "cell_type": "markdown",
   "metadata": {},
   "source": [
    "### **OUTCOME (b):** Display the three companies and their \"total_trades_value\" in descending order"
   ]
  },
  {
   "cell_type": "code",
   "execution_count": null,
   "metadata": {},
   "outputs": [],
   "source": []
  },
  {
   "cell_type": "markdown",
   "metadata": {},
   "source": [
    "## Task 5 \n",
    "### Create a plot to show the changes of average value of closing price (\"close\") for each year and different companies using the dataset you created in Task 1 (\"df_stocks_company_info\")\n",
    "\n",
    "### Tip: You need to use groupby and pd.Grouper to find average value per year\n",
    "https://pandas.pydata.org/pandas-docs/stable/reference/api/pandas.Grouper.html\n",
    "### **OUTCOME:** Create a plot where x represents month, y respresents average value of closing price per each year, and lines with different colors represent different companies.\n",
    "\n"
   ]
  },
  {
   "cell_type": "code",
   "execution_count": null,
   "metadata": {},
   "outputs": [],
   "source": []
  }
 ],
 "metadata": {
  "kernelspec": {
   "display_name": "Python 3 (ipykernel)",
   "language": "python",
   "name": "python3"
  },
  "language_info": {
   "codemirror_mode": {
    "name": "ipython",
    "version": 3
   },
   "file_extension": ".py",
   "mimetype": "text/x-python",
   "name": "python",
   "nbconvert_exporter": "python",
   "pygments_lexer": "ipython3",
   "version": "3.8.5"
  }
 },
 "nbformat": 4,
 "nbformat_minor": 4
}
