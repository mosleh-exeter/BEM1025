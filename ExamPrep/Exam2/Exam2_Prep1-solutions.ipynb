{
 "cells": [
  {
   "cell_type": "markdown",
   "metadata": {},
   "source": [
    "[![Open In Colab](https://colab.research.google.com/assets/colab-badge.svg)](https://colab.research.google.com/github/mosleh-exeter/BEM1025/blob/main/ExamPrep/Exam2/Exam2_Prep1-solutions.ipynb)"
   ]
  },
  {
   "cell_type": "code",
   "execution_count": 20,
   "metadata": {},
   "outputs": [],
   "source": [
    "# we import the library pandas and give it the \"pd\" kickname\n",
    "import pandas as pd\n",
    "import numpy as np\n",
    "import seaborn as sns"
   ]
  },
  {
   "cell_type": "markdown",
   "metadata": {},
   "source": [
    "# **For all questions YOU HAVE TO WRITE SOME CORRECT  PYTHON CODE! simply giving the final answer is not enough!** "
   ]
  },
  {
   "cell_type": "markdown",
   "metadata": {},
   "source": [
    "### You need to download this file as ipynb, zip (compress it) it, and upload as a zip file to BART.\n",
    "<img width=\"800\" height=\"400\" src=\"https://github.com/mosleh-exeter/BEM1025/raw/main/images/UploadBart.png\">\n",
    "\n",
    "### For all questions YOU HAVE TO WRITE SOME CORRECT PYTHON CODE! simply giving the final answer is not enough! \n",
    "### You can provide brief description if you think that helps understanding of your code.\n",
    "### You need to make your code adaptable and scalable; and avoid manual entry of data as much as it is possible."
   ]
  },
  {
   "cell_type": "markdown",
   "metadata": {},
   "source": [
    "### You will work on the following dataframes for this assignment\n",
    "#### We use sample stock trading data from Amazon (“AMZN”), Apple (“AAPL”), Google (“GOOG”), Facebook (\"FB\"), and Tesla (\"TSLA\")\n",
    "#### The data show the high (\"high\") and low (\"low\") prices a stock attained for a particular period of time as well as the opening (\"open\") and closing (\"close\") prices and volume (\"volume\") of trades of the stock for  each period (\"date\") and for each company (\"sybmol\")."
   ]
  },
  {
   "cell_type": "markdown",
   "metadata": {},
   "source": [
    "#### We have collected data in different files, stocks1, stocks2, stocks3.\n",
    "#### The data files contain similar information but for different companies."
   ]
  },
  {
   "cell_type": "code",
   "execution_count": 21,
   "metadata": {},
   "outputs": [],
   "source": [
    "# Here we read three data files with similar structure but containing different information\n",
    "df_stocks1 = pd.read_csv('https://www.dropbox.com/s/8q3kccblwz803hb/stocks1.csv?dl=1')"
   ]
  },
  {
   "cell_type": "code",
   "execution_count": 22,
   "metadata": {},
   "outputs": [],
   "source": [
    "df_stocks2 = pd.read_csv('https://www.dropbox.com/s/btxchlcezulmnx9/stocks2.csv?dl=1')"
   ]
  },
  {
   "cell_type": "code",
   "execution_count": 23,
   "metadata": {},
   "outputs": [],
   "source": [
    "df_stocks3 = pd.read_csv('https://www.dropbox.com/s/eaybbgkx5x5lf3t/stocks3.csv?dl=1')"
   ]
  },
  {
   "cell_type": "markdown",
   "metadata": {},
   "source": [
    "#### The following dataframe includes additional information such as full name (\"name\"), number of employees (\"employees\"), headquarters city and state (\"headquarters_city\", \"headquarters_state\" ) for each company"
   ]
  },
  {
   "cell_type": "code",
   "execution_count": 24,
   "metadata": {},
   "outputs": [],
   "source": [
    "df_companies =pd.DataFrame({\n",
    "    'symbol':['AMZN','GOOG','AAPL','FB','TSLA'],\n",
    "    'name':['Amazon','Google','Apple','Facebook','Tesla'],\n",
    "    'employees':[613300,98771,132000,71970,99000],\n",
    "    'headquarters_city':['Seattle','Mountain View','Cupertino','Menlo Park','Austin'],\n",
    "    'headquarters_state':['WA','CA','CA','CA','TX']})"
   ]
  },
  {
   "cell_type": "markdown",
   "metadata": {},
   "source": [
    "## Task 1 \n",
    "### Create a new dataframe that includes stock information from **all three stock dataframes** and for each company also **includes information about** \"name\", \"employees\", \"headquarters_city\", and \"headquarters_state\". The outcome dataframe should have an **index starting from zero** and ending with number of rows minud one.\n",
    "### **OUTCOME:** The code should display the **last 4 rows** and **shape** of the outcome dataframe.\n"
   ]
  },
  {
   "cell_type": "code",
   "execution_count": 25,
   "metadata": {},
   "outputs": [
    {
     "name": "stdout",
     "output_type": "stream",
     "text": [
      "(25, 11)\n"
     ]
    },
    {
     "data": {
      "text/html": [
       "<div>\n",
       "<style scoped>\n",
       "    .dataframe tbody tr th:only-of-type {\n",
       "        vertical-align: middle;\n",
       "    }\n",
       "\n",
       "    .dataframe tbody tr th {\n",
       "        vertical-align: top;\n",
       "    }\n",
       "\n",
       "    .dataframe thead th {\n",
       "        text-align: right;\n",
       "    }\n",
       "</style>\n",
       "<table border=\"1\" class=\"dataframe\">\n",
       "  <thead>\n",
       "    <tr style=\"text-align: right;\">\n",
       "      <th></th>\n",
       "      <th>date</th>\n",
       "      <th>symbol</th>\n",
       "      <th>open</th>\n",
       "      <th>high</th>\n",
       "      <th>low</th>\n",
       "      <th>close</th>\n",
       "      <th>volume</th>\n",
       "      <th>name</th>\n",
       "      <th>employees</th>\n",
       "      <th>headquarters_city</th>\n",
       "      <th>headquarters_state</th>\n",
       "    </tr>\n",
       "  </thead>\n",
       "  <tbody>\n",
       "    <tr>\n",
       "      <th>21</th>\n",
       "      <td>04/03/2019</td>\n",
       "      <td>TSLA</td>\n",
       "      <td>298.12</td>\n",
       "      <td>299.0000</td>\n",
       "      <td>282.78</td>\n",
       "      <td>285.36</td>\n",
       "      <td>17096818</td>\n",
       "      <td>Tesla</td>\n",
       "      <td>99000</td>\n",
       "      <td>Austin</td>\n",
       "      <td>TX</td>\n",
       "    </tr>\n",
       "    <tr>\n",
       "      <th>22</th>\n",
       "      <td>05/04/2020</td>\n",
       "      <td>TSLA</td>\n",
       "      <td>282.00</td>\n",
       "      <td>284.0000</td>\n",
       "      <td>270.10</td>\n",
       "      <td>276.54</td>\n",
       "      <td>18764740</td>\n",
       "      <td>Tesla</td>\n",
       "      <td>99000</td>\n",
       "      <td>Austin</td>\n",
       "      <td>TX</td>\n",
       "    </tr>\n",
       "    <tr>\n",
       "      <th>23</th>\n",
       "      <td>06/04/2021</td>\n",
       "      <td>TSLA</td>\n",
       "      <td>276.48</td>\n",
       "      <td>281.5058</td>\n",
       "      <td>274.39</td>\n",
       "      <td>276.24</td>\n",
       "      <td>10335485</td>\n",
       "      <td>Tesla</td>\n",
       "      <td>99000</td>\n",
       "      <td>Austin</td>\n",
       "      <td>TX</td>\n",
       "    </tr>\n",
       "    <tr>\n",
       "      <th>24</th>\n",
       "      <td>07/04/2021</td>\n",
       "      <td>TSLA</td>\n",
       "      <td>278.84</td>\n",
       "      <td>284.7000</td>\n",
       "      <td>274.25</td>\n",
       "      <td>276.59</td>\n",
       "      <td>9442483</td>\n",
       "      <td>Tesla</td>\n",
       "      <td>99000</td>\n",
       "      <td>Austin</td>\n",
       "      <td>TX</td>\n",
       "    </tr>\n",
       "  </tbody>\n",
       "</table>\n",
       "</div>"
      ],
      "text/plain": [
       "          date symbol    open      high     low   close    volume   name  \\\n",
       "21  04/03/2019   TSLA  298.12  299.0000  282.78  285.36  17096818  Tesla   \n",
       "22  05/04/2020   TSLA  282.00  284.0000  270.10  276.54  18764740  Tesla   \n",
       "23  06/04/2021   TSLA  276.48  281.5058  274.39  276.24  10335485  Tesla   \n",
       "24  07/04/2021   TSLA  278.84  284.7000  274.25  276.59   9442483  Tesla   \n",
       "\n",
       "    employees headquarters_city headquarters_state  \n",
       "21      99000            Austin                 TX  \n",
       "22      99000            Austin                 TX  \n",
       "23      99000            Austin                 TX  \n",
       "24      99000            Austin                 TX  "
      ]
     },
     "execution_count": 25,
     "metadata": {},
     "output_type": "execute_result"
    }
   ],
   "source": [
    "df_stocks=pd.concat([df_stocks1,df_stocks2,df_stocks3],ignore_index=True)\n",
    "df_stocks_company_info=pd.merge(df_stocks,df_companies,on='symbol',how='left')\n",
    "print(df_stocks_company_info.shape)\n",
    "df_stocks_company_info.tail(4)"
   ]
  },
  {
   "cell_type": "markdown",
   "metadata": {},
   "source": [
    "### ** Use the following dataframe to answer the rest of questions; this is similar to the outcome from Task 1 **"
   ]
  },
  {
   "cell_type": "code",
   "execution_count": 26,
   "metadata": {},
   "outputs": [],
   "source": [
    "df_stocks_company_info=pd.read_csv(\"https://www.dropbox.com/s/a673miodv8mehjb/df_stock_info.csv?dl=1\")"
   ]
  },
  {
   "cell_type": "markdown",
   "metadata": {},
   "source": [
    "## Task 2\n",
    "### Using the dataframe you created in Task 1 (\"df_stocks_company_info\"), find the date and the company for which maximum opening price happened among companies in California (\"CA\") that have more than 100,000 employees.\n",
    "### **OUTCOME:** The code should display the name of the company, the date, and the price."
   ]
  },
  {
   "cell_type": "code",
   "execution_count": 11,
   "metadata": {},
   "outputs": [
    {
     "name": "stdout",
     "output_type": "stream",
     "text": [
      "max price 175.94\n"
     ]
    },
    {
     "data": {
      "text/html": [
       "<div>\n",
       "<style scoped>\n",
       "    .dataframe tbody tr th:only-of-type {\n",
       "        vertical-align: middle;\n",
       "    }\n",
       "\n",
       "    .dataframe tbody tr th {\n",
       "        vertical-align: top;\n",
       "    }\n",
       "\n",
       "    .dataframe thead th {\n",
       "        text-align: right;\n",
       "    }\n",
       "</style>\n",
       "<table border=\"1\" class=\"dataframe\">\n",
       "  <thead>\n",
       "    <tr style=\"text-align: right;\">\n",
       "      <th></th>\n",
       "      <th>date</th>\n",
       "      <th>name</th>\n",
       "      <th>open</th>\n",
       "    </tr>\n",
       "  </thead>\n",
       "  <tbody>\n",
       "    <tr>\n",
       "      <th>7</th>\n",
       "      <td>05/04/2020</td>\n",
       "      <td>Apple</td>\n",
       "      <td>175.94</td>\n",
       "    </tr>\n",
       "  </tbody>\n",
       "</table>\n",
       "</div>"
      ],
      "text/plain": [
       "         date   name    open\n",
       "7  05/04/2020  Apple  175.94"
      ]
     },
     "execution_count": 11,
     "metadata": {},
     "output_type": "execute_result"
    }
   ],
   "source": [
    "max_open_price=df_stocks_company_info[(df_stocks_company_info['headquarters_state']=='CA') & \n",
    "                                      (df_stocks_company_info['employees']>100000)]['open'].max()\n",
    "print('max price',max_open_price)\n",
    "df_stocks_company_info[df_stocks_company_info['open']==max_open_price][['date','name','open']]"
   ]
  },
  {
   "cell_type": "markdown",
   "metadata": {},
   "source": [
    "## Task 3\n",
    "### a) Transform the dataframe you created in Task 1 (\"df_stocks_company_info\") to a long dataframe where the variables \"open\", \"high\", \"low\", \"close\", \"volume\" are represented in two columns: one column for the variable type and the other one for its value. Keep the rest of columns similar to \"df_stocks_company_info\".\n",
    "### b) Find min, max, and mean of \"open\", \"high\", \"low\", \"close\", \"volume\" using the dataframe you created in part (a) for each \"headquarters_state\"\n"
   ]
  },
  {
   "cell_type": "markdown",
   "metadata": {},
   "source": [
    "### **OUTCOME (a):** The code should display the head of the outcome dataframe"
   ]
  },
  {
   "cell_type": "code",
   "execution_count": 12,
   "metadata": {},
   "outputs": [
    {
     "name": "stdout",
     "output_type": "stream",
     "text": [
      "(125, 8)\n"
     ]
    },
    {
     "data": {
      "text/html": [
       "<div>\n",
       "<style scoped>\n",
       "    .dataframe tbody tr th:only-of-type {\n",
       "        vertical-align: middle;\n",
       "    }\n",
       "\n",
       "    .dataframe tbody tr th {\n",
       "        vertical-align: top;\n",
       "    }\n",
       "\n",
       "    .dataframe thead th {\n",
       "        text-align: right;\n",
       "    }\n",
       "</style>\n",
       "<table border=\"1\" class=\"dataframe\">\n",
       "  <thead>\n",
       "    <tr style=\"text-align: right;\">\n",
       "      <th></th>\n",
       "      <th>date</th>\n",
       "      <th>symbol</th>\n",
       "      <th>name</th>\n",
       "      <th>employees</th>\n",
       "      <th>headquarters_city</th>\n",
       "      <th>headquarters_state</th>\n",
       "      <th>variable</th>\n",
       "      <th>value</th>\n",
       "    </tr>\n",
       "  </thead>\n",
       "  <tbody>\n",
       "    <tr>\n",
       "      <th>0</th>\n",
       "      <td>01/03/2019</td>\n",
       "      <td>AMZN</td>\n",
       "      <td>Amazon</td>\n",
       "      <td>613300</td>\n",
       "      <td>Seattle</td>\n",
       "      <td>WA</td>\n",
       "      <td>open</td>\n",
       "      <td>1655.13</td>\n",
       "    </tr>\n",
       "    <tr>\n",
       "      <th>1</th>\n",
       "      <td>04/03/2019</td>\n",
       "      <td>AMZN</td>\n",
       "      <td>Amazon</td>\n",
       "      <td>613300</td>\n",
       "      <td>Seattle</td>\n",
       "      <td>WA</td>\n",
       "      <td>open</td>\n",
       "      <td>1685.00</td>\n",
       "    </tr>\n",
       "    <tr>\n",
       "      <th>2</th>\n",
       "      <td>05/04/2020</td>\n",
       "      <td>AMZN</td>\n",
       "      <td>Amazon</td>\n",
       "      <td>613300</td>\n",
       "      <td>Seattle</td>\n",
       "      <td>WA</td>\n",
       "      <td>open</td>\n",
       "      <td>1702.95</td>\n",
       "    </tr>\n",
       "    <tr>\n",
       "      <th>3</th>\n",
       "      <td>06/04/2021</td>\n",
       "      <td>AMZN</td>\n",
       "      <td>Amazon</td>\n",
       "      <td>613300</td>\n",
       "      <td>Seattle</td>\n",
       "      <td>WA</td>\n",
       "      <td>open</td>\n",
       "      <td>1695.97</td>\n",
       "    </tr>\n",
       "    <tr>\n",
       "      <th>4</th>\n",
       "      <td>07/05/2021</td>\n",
       "      <td>AMZN</td>\n",
       "      <td>Amazon</td>\n",
       "      <td>613300</td>\n",
       "      <td>Seattle</td>\n",
       "      <td>WA</td>\n",
       "      <td>open</td>\n",
       "      <td>1667.37</td>\n",
       "    </tr>\n",
       "  </tbody>\n",
       "</table>\n",
       "</div>"
      ],
      "text/plain": [
       "         date symbol    name  employees headquarters_city headquarters_state  \\\n",
       "0  01/03/2019   AMZN  Amazon     613300           Seattle                 WA   \n",
       "1  04/03/2019   AMZN  Amazon     613300           Seattle                 WA   \n",
       "2  05/04/2020   AMZN  Amazon     613300           Seattle                 WA   \n",
       "3  06/04/2021   AMZN  Amazon     613300           Seattle                 WA   \n",
       "4  07/05/2021   AMZN  Amazon     613300           Seattle                 WA   \n",
       "\n",
       "  variable    value  \n",
       "0     open  1655.13  \n",
       "1     open  1685.00  \n",
       "2     open  1702.95  \n",
       "3     open  1695.97  \n",
       "4     open  1667.37  "
      ]
     },
     "execution_count": 12,
     "metadata": {},
     "output_type": "execute_result"
    }
   ],
   "source": [
    "df_stocks_company_info_melted=df_stocks_company_info.melt(\n",
    "                            id_vars=['date','symbol','name','employees','headquarters_city','headquarters_state'],\n",
    "                            value_vars=['open','high','low','close','volume'])\n",
    "\n",
    "print(df_stocks_company_info_melted.shape)\n",
    "df_stocks_company_info_melted.head()"
   ]
  },
  {
   "cell_type": "markdown",
   "metadata": {},
   "source": [
    "### **OUTCOME (b):** The code should display the head of outcome dataframe"
   ]
  },
  {
   "cell_type": "code",
   "execution_count": 13,
   "metadata": {},
   "outputs": [
    {
     "data": {
      "text/html": [
       "<div>\n",
       "<style scoped>\n",
       "    .dataframe tbody tr th:only-of-type {\n",
       "        vertical-align: middle;\n",
       "    }\n",
       "\n",
       "    .dataframe tbody tr th {\n",
       "        vertical-align: top;\n",
       "    }\n",
       "\n",
       "    .dataframe thead tr th {\n",
       "        text-align: left;\n",
       "    }\n",
       "\n",
       "    .dataframe thead tr:last-of-type th {\n",
       "        text-align: right;\n",
       "    }\n",
       "</style>\n",
       "<table border=\"1\" class=\"dataframe\">\n",
       "  <thead>\n",
       "    <tr>\n",
       "      <th></th>\n",
       "      <th></th>\n",
       "      <th colspan=\"3\" halign=\"left\">value</th>\n",
       "    </tr>\n",
       "    <tr>\n",
       "      <th></th>\n",
       "      <th></th>\n",
       "      <th>min</th>\n",
       "      <th>max</th>\n",
       "      <th>mean</th>\n",
       "    </tr>\n",
       "    <tr>\n",
       "      <th>headquarters_state</th>\n",
       "      <th>variable</th>\n",
       "      <th></th>\n",
       "      <th></th>\n",
       "      <th></th>\n",
       "    </tr>\n",
       "  </thead>\n",
       "  <tbody>\n",
       "    <tr>\n",
       "      <th rowspan=\"5\" valign=\"top\">CA</th>\n",
       "      <th>close</th>\n",
       "      <td>162.280</td>\n",
       "      <td>1300.00</td>\n",
       "      <td>4.931147e+02</td>\n",
       "    </tr>\n",
       "    <tr>\n",
       "      <th>high</th>\n",
       "      <td>163.132</td>\n",
       "      <td>1169.61</td>\n",
       "      <td>5.014561e+02</td>\n",
       "    </tr>\n",
       "    <tr>\n",
       "      <th>low</th>\n",
       "      <td>161.690</td>\n",
       "      <td>1155.49</td>\n",
       "      <td>4.926893e+02</td>\n",
       "    </tr>\n",
       "    <tr>\n",
       "      <th>open</th>\n",
       "      <td>162.600</td>\n",
       "      <td>1162.49</td>\n",
       "      <td>4.968587e+02</td>\n",
       "    </tr>\n",
       "    <tr>\n",
       "      <th>volume</th>\n",
       "      <td>1099289.000</td>\n",
       "      <td>28187890.00</td>\n",
       "      <td>1.488603e+07</td>\n",
       "    </tr>\n",
       "  </tbody>\n",
       "</table>\n",
       "</div>"
      ],
      "text/plain": [
       "                                   value                           \n",
       "                                     min          max          mean\n",
       "headquarters_state variable                                        \n",
       "CA                 close         162.280      1300.00  4.931147e+02\n",
       "                   high          163.132      1169.61  5.014561e+02\n",
       "                   low           161.690      1155.49  4.926893e+02\n",
       "                   open          162.600      1162.49  4.968587e+02\n",
       "                   volume    1099289.000  28187890.00  1.488603e+07"
      ]
     },
     "execution_count": 13,
     "metadata": {},
     "output_type": "execute_result"
    }
   ],
   "source": [
    "df_stocks_company_info_melted.groupby(\n",
    "                        ['headquarters_state','variable'])[['value']] \\\n",
    "                        .agg(['min','max','mean']).head()"
   ]
  },
  {
   "cell_type": "markdown",
   "metadata": {},
   "source": [
    "## Task 4\n",
    "### (a) For the dataframe you created in Task 1 (\"df_stocks_company_info\"), create a new column \"total_trades_value\" using a lambda function by finding average total trades value as follows: (low price \"low\"+ high price \"high\")/2 * volume of trades \"volume\" (sum of \"high\" and \"low\" divided by 2 then multiply by \"volume\") and apply that function to the rows.\n",
    "\n",
    "### (b) Using the new column you created in part (a), find the top 3 companies with highest average volume of trades (from highest to the lowest)\n"
   ]
  },
  {
   "cell_type": "markdown",
   "metadata": {},
   "source": [
    "### **OUTCOME (a):** The code should display the new column \"total_trades_value\""
   ]
  },
  {
   "cell_type": "code",
   "execution_count": 14,
   "metadata": {},
   "outputs": [],
   "source": [
    "df_stocks_company_info['total_trades_value']=df_stocks_company_info.apply(lambda row:(row['high']+row['low'])/2*row['volume'],axis=1)"
   ]
  },
  {
   "cell_type": "markdown",
   "metadata": {},
   "source": [
    "### **OUTCOME (b):** Display the three companies and their \"total_trades_value\" in descending order"
   ]
  },
  {
   "cell_type": "code",
   "execution_count": 15,
   "metadata": {},
   "outputs": [
    {
     "data": {
      "text/html": [
       "<div>\n",
       "<style scoped>\n",
       "    .dataframe tbody tr th:only-of-type {\n",
       "        vertical-align: middle;\n",
       "    }\n",
       "\n",
       "    .dataframe tbody tr th {\n",
       "        vertical-align: top;\n",
       "    }\n",
       "\n",
       "    .dataframe thead th {\n",
       "        text-align: right;\n",
       "    }\n",
       "</style>\n",
       "<table border=\"1\" class=\"dataframe\">\n",
       "  <thead>\n",
       "    <tr style=\"text-align: right;\">\n",
       "      <th></th>\n",
       "      <th>open</th>\n",
       "      <th>high</th>\n",
       "      <th>low</th>\n",
       "      <th>close</th>\n",
       "      <th>volume</th>\n",
       "      <th>employees</th>\n",
       "      <th>total_trades_value</th>\n",
       "    </tr>\n",
       "    <tr>\n",
       "      <th>name</th>\n",
       "      <th></th>\n",
       "      <th></th>\n",
       "      <th></th>\n",
       "      <th></th>\n",
       "      <th></th>\n",
       "      <th></th>\n",
       "      <th></th>\n",
       "    </tr>\n",
       "  </thead>\n",
       "  <tbody>\n",
       "    <tr>\n",
       "      <th>Amazon</th>\n",
       "      <td>1681.284</td>\n",
       "      <td>1691.79800</td>\n",
       "      <td>1660.632</td>\n",
       "      <td>1611.812</td>\n",
       "      <td>4755355.0</td>\n",
       "      <td>613300.0</td>\n",
       "      <td>7.967777e+09</td>\n",
       "    </tr>\n",
       "    <tr>\n",
       "      <th>Tesla</th>\n",
       "      <td>288.476</td>\n",
       "      <td>291.26716</td>\n",
       "      <td>278.684</td>\n",
       "      <td>281.904</td>\n",
       "      <td>15710180.2</td>\n",
       "      <td>99000.0</td>\n",
       "      <td>4.509206e+09</td>\n",
       "    </tr>\n",
       "    <tr>\n",
       "      <th>Apple</th>\n",
       "      <td>174.890</td>\n",
       "      <td>175.76600</td>\n",
       "      <td>173.472</td>\n",
       "      <td>181.504</td>\n",
       "      <td>23733309.4</td>\n",
       "      <td>132000.0</td>\n",
       "      <td>4.144076e+09</td>\n",
       "    </tr>\n",
       "  </tbody>\n",
       "</table>\n",
       "</div>"
      ],
      "text/plain": [
       "            open        high       low     close      volume  employees  \\\n",
       "name                                                                      \n",
       "Amazon  1681.284  1691.79800  1660.632  1611.812   4755355.0   613300.0   \n",
       "Tesla    288.476   291.26716   278.684   281.904  15710180.2    99000.0   \n",
       "Apple    174.890   175.76600   173.472   181.504  23733309.4   132000.0   \n",
       "\n",
       "        total_trades_value  \n",
       "name                        \n",
       "Amazon        7.967777e+09  \n",
       "Tesla         4.509206e+09  \n",
       "Apple         4.144076e+09  "
      ]
     },
     "execution_count": 15,
     "metadata": {},
     "output_type": "execute_result"
    }
   ],
   "source": [
    "df_avg_total_trades=df_stocks_company_info.groupby('name').mean()\n",
    "df_avg_total_trades.sort_values(by='total_trades_value',ascending=False).head(3)"
   ]
  },
  {
   "cell_type": "markdown",
   "metadata": {},
   "source": [
    "## Task 5 \n",
    "### Create a plot to show the changes of average value of closing price (\"close\") for each year and different companies using the dataset you created in Task 1 (\"df_stocks_company_info\")\n",
    "\n",
    "### Tip: You need to use groupby and pd.Grouper to find average value per year\n",
    "https://pandas.pydata.org/pandas-docs/stable/reference/api/pandas.Grouper.html\n",
    "### **OUTCOME:** Create a plot where x represents month, y respresents average value of closing price per each year, and lines with different colors represent different companies.\n",
    "\n"
   ]
  },
  {
   "cell_type": "code",
   "execution_count": 16,
   "metadata": {},
   "outputs": [],
   "source": [
    "df_stocks_company_info['date_formatted']=pd.to_datetime(\n",
    "                                        df_stocks_company_info['date'])\n",
    "\n",
    "moth_avg=df_stocks_company_info.groupby(\n",
    "                            ['name',pd.Grouper(key='date_formatted',freq='1y')]) \\\n",
    "                            ['close'].mean().reset_index()"
   ]
  },
  {
   "cell_type": "code",
   "execution_count": 17,
   "metadata": {},
   "outputs": [
    {
     "data": {
      "text/plain": [
       "<AxesSubplot:xlabel='date_formatted', ylabel='close'>"
      ]
     },
     "execution_count": 17,
     "metadata": {},
     "output_type": "execute_result"
    },
    {
     "data": {
      "image/png": "[encoded data removed]",
      "text/plain": [
       "<Figure size 432x288 with 1 Axes>"
      ]
     },
     "metadata": {
      "needs_background": "light"
     },
     "output_type": "display_data"
    }
   ],
   "source": [
    "sns.lineplot(data = moth_avg,x=\"date_formatted\", y=\"close\", hue='name')"
   ]
  },
  {
   "cell_type": "code",
   "execution_count": 19,
   "metadata": {},
   "outputs": [
    {
     "data": {
      "text/html": [
       "<div>\n",
       "<style scoped>\n",
       "    .dataframe tbody tr th:only-of-type {\n",
       "        vertical-align: middle;\n",
       "    }\n",
       "\n",
       "    .dataframe tbody tr th {\n",
       "        vertical-align: top;\n",
       "    }\n",
       "\n",
       "    .dataframe thead th {\n",
       "        text-align: right;\n",
       "    }\n",
       "</style>\n",
       "<table border=\"1\" class=\"dataframe\">\n",
       "  <thead>\n",
       "    <tr style=\"text-align: right;\">\n",
       "      <th></th>\n",
       "      <th></th>\n",
       "      <th>open</th>\n",
       "      <th>high</th>\n",
       "      <th>low</th>\n",
       "      <th>close</th>\n",
       "      <th>volume</th>\n",
       "      <th>employees</th>\n",
       "      <th>total_trades_value</th>\n",
       "    </tr>\n",
       "    <tr>\n",
       "      <th>name</th>\n",
       "      <th>date_formatted</th>\n",
       "      <th></th>\n",
       "      <th></th>\n",
       "      <th></th>\n",
       "      <th></th>\n",
       "      <th></th>\n",
       "      <th></th>\n",
       "      <th></th>\n",
       "    </tr>\n",
       "  </thead>\n",
       "  <tbody>\n",
       "    <tr>\n",
       "      <th rowspan=\"3\" valign=\"top\">Amazon</th>\n",
       "      <th>2019-12-31</th>\n",
       "      <td>1670.065</td>\n",
       "      <td>1691.8450</td>\n",
       "      <td>1662.680</td>\n",
       "      <td>1535.865</td>\n",
       "      <td>5571117.5</td>\n",
       "      <td>613300.0</td>\n",
       "      <td>9.352951e+09</td>\n",
       "    </tr>\n",
       "    <tr>\n",
       "      <th>2020-12-31</th>\n",
       "      <td>1702.950</td>\n",
       "      <td>1707.8000</td>\n",
       "      <td>1689.010</td>\n",
       "      <td>1692.430</td>\n",
       "      <td>3681522.0</td>\n",
       "      <td>613300.0</td>\n",
       "      <td>6.252715e+09</td>\n",
       "    </tr>\n",
       "    <tr>\n",
       "      <th>2021-12-31</th>\n",
       "      <td>1681.670</td>\n",
       "      <td>1683.7500</td>\n",
       "      <td>1644.395</td>\n",
       "      <td>1647.450</td>\n",
       "      <td>4476509.0</td>\n",
       "      <td>613300.0</td>\n",
       "      <td>7.440134e+09</td>\n",
       "    </tr>\n",
       "    <tr>\n",
       "      <th rowspan=\"3\" valign=\"top\">Apple</th>\n",
       "      <th>2019-12-31</th>\n",
       "      <td>174.985</td>\n",
       "      <td>176.4500</td>\n",
       "      <td>173.430</td>\n",
       "      <td>192.485</td>\n",
       "      <td>26661185.0</td>\n",
       "      <td>132000.0</td>\n",
       "      <td>4.664821e+09</td>\n",
       "    </tr>\n",
       "    <tr>\n",
       "      <th>2020-12-31</th>\n",
       "      <td>175.305</td>\n",
       "      <td>175.7450</td>\n",
       "      <td>174.240</td>\n",
       "      <td>175.025</td>\n",
       "      <td>20273901.5</td>\n",
       "      <td>132000.0</td>\n",
       "      <td>3.547632e+09</td>\n",
       "    </tr>\n",
       "    <tr>\n",
       "      <th>2021-12-31</th>\n",
       "      <td>173.870</td>\n",
       "      <td>174.4400</td>\n",
       "      <td>172.020</td>\n",
       "      <td>172.500</td>\n",
       "      <td>24796374.0</td>\n",
       "      <td>132000.0</td>\n",
       "      <td>4.295476e+09</td>\n",
       "    </tr>\n",
       "    <tr>\n",
       "      <th rowspan=\"3\" valign=\"top\">Facebook</th>\n",
       "      <th>2019-12-31</th>\n",
       "      <td>163.250</td>\n",
       "      <td>165.3160</td>\n",
       "      <td>162.760</td>\n",
       "      <td>164.825</td>\n",
       "      <td>14996229.5</td>\n",
       "      <td>71970.0</td>\n",
       "      <td>2.466294e+09</td>\n",
       "    </tr>\n",
       "    <tr>\n",
       "      <th>2020-12-31</th>\n",
       "      <td>167.370</td>\n",
       "      <td>171.8800</td>\n",
       "      <td>166.550</td>\n",
       "      <td>171.260</td>\n",
       "      <td>28187890.0</td>\n",
       "      <td>71970.0</td>\n",
       "      <td>4.769814e+09</td>\n",
       "    </tr>\n",
       "    <tr>\n",
       "      <th>2021-12-31</th>\n",
       "      <td>172.200</td>\n",
       "      <td>172.6550</td>\n",
       "      <td>169.440</td>\n",
       "      <td>170.820</td>\n",
       "      <td>19919113.5</td>\n",
       "      <td>71970.0</td>\n",
       "      <td>3.409328e+09</td>\n",
       "    </tr>\n",
       "    <tr>\n",
       "      <th rowspan=\"3\" valign=\"top\">Google</th>\n",
       "      <th>2019-12-31</th>\n",
       "      <td>1135.945</td>\n",
       "      <td>1150.6250</td>\n",
       "      <td>1127.720</td>\n",
       "      <td>1144.395</td>\n",
       "      <td>1448181.5</td>\n",
       "      <td>98771.0</td>\n",
       "      <td>1.649717e+09</td>\n",
       "    </tr>\n",
       "    <tr>\n",
       "      <th>2020-12-31</th>\n",
       "      <td>1156.275</td>\n",
       "      <td>1168.5900</td>\n",
       "      <td>1150.840</td>\n",
       "      <td>1028.930</td>\n",
       "      <td>1271231.5</td>\n",
       "      <td>98771.0</td>\n",
       "      <td>1.473954e+09</td>\n",
       "    </tr>\n",
       "    <tr>\n",
       "      <th>2021-12-31</th>\n",
       "      <td>1155.720</td>\n",
       "      <td>1156.7600</td>\n",
       "      <td>1134.910</td>\n",
       "      <td>1300.000</td>\n",
       "      <td>1166559.0</td>\n",
       "      <td>98771.0</td>\n",
       "      <td>1.336684e+09</td>\n",
       "    </tr>\n",
       "    <tr>\n",
       "      <th rowspan=\"3\" valign=\"top\">Tesla</th>\n",
       "      <th>2019-12-31</th>\n",
       "      <td>302.530</td>\n",
       "      <td>303.0650</td>\n",
       "      <td>287.340</td>\n",
       "      <td>290.075</td>\n",
       "      <td>20004096.5</td>\n",
       "      <td>99000.0</td>\n",
       "      <td>5.917797e+09</td>\n",
       "    </tr>\n",
       "    <tr>\n",
       "      <th>2020-12-31</th>\n",
       "      <td>282.000</td>\n",
       "      <td>284.0000</td>\n",
       "      <td>270.100</td>\n",
       "      <td>276.540</td>\n",
       "      <td>18764740.0</td>\n",
       "      <td>99000.0</td>\n",
       "      <td>5.198771e+09</td>\n",
       "    </tr>\n",
       "    <tr>\n",
       "      <th>2021-12-31</th>\n",
       "      <td>277.660</td>\n",
       "      <td>283.1029</td>\n",
       "      <td>274.320</td>\n",
       "      <td>276.415</td>\n",
       "      <td>9888984.0</td>\n",
       "      <td>99000.0</td>\n",
       "      <td>2.755832e+09</td>\n",
       "    </tr>\n",
       "  </tbody>\n",
       "</table>\n",
       "</div>"
      ],
      "text/plain": [
       "                             open       high       low     close      volume  \\\n",
       "name     date_formatted                                                        \n",
       "Amazon   2019-12-31      1670.065  1691.8450  1662.680  1535.865   5571117.5   \n",
       "         2020-12-31      1702.950  1707.8000  1689.010  1692.430   3681522.0   \n",
       "         2021-12-31      1681.670  1683.7500  1644.395  1647.450   4476509.0   \n",
       "Apple    2019-12-31       174.985   176.4500   173.430   192.485  26661185.0   \n",
       "         2020-12-31       175.305   175.7450   174.240   175.025  20273901.5   \n",
       "         2021-12-31       173.870   174.4400   172.020   172.500  24796374.0   \n",
       "Facebook 2019-12-31       163.250   165.3160   162.760   164.825  14996229.5   \n",
       "         2020-12-31       167.370   171.8800   166.550   171.260  28187890.0   \n",
       "         2021-12-31       172.200   172.6550   169.440   170.820  19919113.5   \n",
       "Google   2019-12-31      1135.945  1150.6250  1127.720  1144.395   1448181.5   \n",
       "         2020-12-31      1156.275  1168.5900  1150.840  1028.930   1271231.5   \n",
       "         2021-12-31      1155.720  1156.7600  1134.910  1300.000   1166559.0   \n",
       "Tesla    2019-12-31       302.530   303.0650   287.340   290.075  20004096.5   \n",
       "         2020-12-31       282.000   284.0000   270.100   276.540  18764740.0   \n",
       "         2021-12-31       277.660   283.1029   274.320   276.415   9888984.0   \n",
       "\n",
       "                         employees  total_trades_value  \n",
       "name     date_formatted                                 \n",
       "Amazon   2019-12-31       613300.0        9.352951e+09  \n",
       "         2020-12-31       613300.0        6.252715e+09  \n",
       "         2021-12-31       613300.0        7.440134e+09  \n",
       "Apple    2019-12-31       132000.0        4.664821e+09  \n",
       "         2020-12-31       132000.0        3.547632e+09  \n",
       "         2021-12-31       132000.0        4.295476e+09  \n",
       "Facebook 2019-12-31        71970.0        2.466294e+09  \n",
       "         2020-12-31        71970.0        4.769814e+09  \n",
       "         2021-12-31        71970.0        3.409328e+09  \n",
       "Google   2019-12-31        98771.0        1.649717e+09  \n",
       "         2020-12-31        98771.0        1.473954e+09  \n",
       "         2021-12-31        98771.0        1.336684e+09  \n",
       "Tesla    2019-12-31        99000.0        5.917797e+09  \n",
       "         2020-12-31        99000.0        5.198771e+09  \n",
       "         2021-12-31        99000.0        2.755832e+09  "
      ]
     },
     "execution_count": 19,
     "metadata": {},
     "output_type": "execute_result"
    }
   ],
   "source": [
    "df_stocks_company_info['date_formatted']=pd.to_datetime(df_stocks_company_info['date']) \n",
    "df_avg=df_stocks_company_info.groupby(['name', pd.Grouper(key='date_formatted', freq='y')]).mean() \n",
    "df_avg\n"
   ]
  },
  {
   "cell_type": "code",
   "execution_count": null,
   "metadata": {},
   "outputs": [],
   "source": []
  },
  {
   "cell_type": "code",
   "execution_count": null,
   "metadata": {},
   "outputs": [],
   "source": []
  }
 ],
 "metadata": {
  "kernelspec": {
   "display_name": "Python 3 (ipykernel)",
   "language": "python",
   "name": "python3"
  },
  "language_info": {
   "codemirror_mode": {
    "name": "ipython",
    "version": 3
   },
   "file_extension": ".py",
   "mimetype": "text/x-python",
   "name": "python",
   "nbconvert_exporter": "python",
   "pygments_lexer": "ipython3",
   "version": "3.8.5"
  }
 },
 "nbformat": 4,
 "nbformat_minor": 4
}
