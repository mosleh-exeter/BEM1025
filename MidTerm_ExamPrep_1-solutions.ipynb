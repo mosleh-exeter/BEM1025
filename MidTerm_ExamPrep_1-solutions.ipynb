{
 "cells": [
  {
   "cell_type": "markdown",
   "metadata": {},
   "source": [
    "[![Open In Colab](https://colab.research.google.com/assets/colab-badge.svg)](https://colab.research.google.com/github/mosleh-exeter/BEM1025/blob/main/ExamPrep/Exam1/MidTerm_ExamPrep_1-solutions.ipynb)"
   ]
  },
  {
   "cell_type": "code",
   "execution_count": 2,
   "metadata": {},
   "outputs": [],
   "source": [
    "# we import the library pandas and give it the \"pd\" kickname\n",
    "import pandas as pd\n",
    "import numpy as np"
   ]
  },
  {
   "cell_type": "markdown",
   "metadata": {},
   "source": [
    "# **For all questions YOU HAVE TO WRITE SOME CORRECT  PYTHON CODE! simply giving the final answer is not enough!** "
   ]
  },
  {
   "cell_type": "markdown",
   "metadata": {},
   "source": [
    "### You need to download this file as ipynb, zip (compress it) it, and upload as a zip file to BART.\n",
    "<img width=\"800\" height=\"400\" src=\"https://github.com/mosleh-exeter/BEM1025/raw/main/images/UploadBart.png\">\n",
    "\n",
    "### For all questions YOU HAVE TO WRITE SOME CORRECT PYTHON CODE! simply giving the final answer is not enough! \n",
    "### You can provide brief description if you think that helps understanding of your code.\n",
    "### You need to make your code adaptable and scalable; and avoid manual entry of data as much as it is possible."
   ]
  },
  {
   "cell_type": "markdown",
   "metadata": {},
   "source": [
    "### Assignment 4.1\n",
    "#### (a) Create two variables called A and B in Python and Assign them values of 500 and 1000.\n",
    "#### (b) Create variable C which holds the sum of A and B and variable D that holds their multiplication"
   ]
  },
  {
   "cell_type": "markdown",
   "metadata": {},
   "source": [
    "#### Hint: You can do this using basic python functionality without operations from Pandas"
   ]
  },
  {
   "cell_type": "markdown",
   "metadata": {},
   "source": [
    "## (a)"
   ]
  },
  {
   "cell_type": "code",
   "execution_count": 3,
   "metadata": {},
   "outputs": [],
   "source": [
    "A=500\n",
    "B=1000"
   ]
  },
  {
   "cell_type": "markdown",
   "metadata": {},
   "source": [
    "## (b)"
   ]
  },
  {
   "cell_type": "code",
   "execution_count": 4,
   "metadata": {},
   "outputs": [
    {
     "name": "stdout",
     "output_type": "stream",
     "text": [
      "1500 500000\n"
     ]
    }
   ],
   "source": [
    "C=A+B\n",
    "D=A*B\n",
    "print(C,D)"
   ]
  },
  {
   "cell_type": "markdown",
   "metadata": {},
   "source": [
    "### You will work on the following dataframe for the rest of assignments\n",
    "#### This dataframe contains the name of people who are seeking jobs, their zipcode, number of months on the job market, number of times contacted by a recruiter and the job they are seeking"
   ]
  },
  {
   "cell_type": "code",
   "execution_count": 5,
   "metadata": {},
   "outputs": [
    {
     "data": {
      "text/html": [
       "<div>\n",
       "<style scoped>\n",
       "    .dataframe tbody tr th:only-of-type {\n",
       "        vertical-align: middle;\n",
       "    }\n",
       "\n",
       "    .dataframe tbody tr th {\n",
       "        vertical-align: top;\n",
       "    }\n",
       "\n",
       "    .dataframe thead th {\n",
       "        text-align: right;\n",
       "    }\n",
       "</style>\n",
       "<table border=\"1\" class=\"dataframe\">\n",
       "  <thead>\n",
       "    <tr style=\"text-align: right;\">\n",
       "      <th></th>\n",
       "      <th>FirstName</th>\n",
       "      <th>PostCode</th>\n",
       "      <th>OnMarket</th>\n",
       "      <th>NumContacts</th>\n",
       "      <th>JobSought</th>\n",
       "    </tr>\n",
       "  </thead>\n",
       "  <tbody>\n",
       "    <tr>\n",
       "      <th>0</th>\n",
       "      <td>jasmine</td>\n",
       "      <td>EX2 9BY</td>\n",
       "      <td>4</td>\n",
       "      <td>2.0</td>\n",
       "      <td>Emergency planning/management officer</td>\n",
       "    </tr>\n",
       "    <tr>\n",
       "      <th>1</th>\n",
       "      <td>mazeed</td>\n",
       "      <td>EX4 2BD</td>\n",
       "      <td>6</td>\n",
       "      <td>5.0</td>\n",
       "      <td>Nurse, learning disability</td>\n",
       "    </tr>\n",
       "    <tr>\n",
       "      <th>2</th>\n",
       "      <td>sandra</td>\n",
       "      <td>EX2 4AY</td>\n",
       "      <td>2</td>\n",
       "      <td>2.0</td>\n",
       "      <td>Therapist, horticultural</td>\n",
       "    </tr>\n",
       "    <tr>\n",
       "      <th>3</th>\n",
       "      <td>brooke</td>\n",
       "      <td>EX2 6HD</td>\n",
       "      <td>2</td>\n",
       "      <td>1.0</td>\n",
       "      <td>Media planner</td>\n",
       "    </tr>\n",
       "    <tr>\n",
       "      <th>4</th>\n",
       "      <td>tuhfa</td>\n",
       "      <td>EX2 6BW</td>\n",
       "      <td>2</td>\n",
       "      <td>2.0</td>\n",
       "      <td>Ranger/warden</td>\n",
       "    </tr>\n",
       "  </tbody>\n",
       "</table>\n",
       "</div>"
      ],
      "text/plain": [
       "  FirstName PostCode  OnMarket  NumContacts  \\\n",
       "0   jasmine  EX2 9BY         4          2.0   \n",
       "1    mazeed  EX4 2BD         6          5.0   \n",
       "2    sandra  EX2 4AY         2          2.0   \n",
       "3    brooke  EX2 6HD         2          1.0   \n",
       "4     tuhfa  EX2 6BW         2          2.0   \n",
       "\n",
       "                               JobSought  \n",
       "0  Emergency planning/management officer  \n",
       "1             Nurse, learning disability  \n",
       "2               Therapist, horticultural  \n",
       "3                          Media planner  \n",
       "4                          Ranger/warden  "
      ]
     },
     "execution_count": 5,
     "metadata": {},
     "output_type": "execute_result"
    }
   ],
   "source": [
    "df=pd.read_csv('https://www.dropbox.com/s/j5neg35o0dm6b5k/jobseekers.csv?dl=1')\n",
    "df.head()"
   ]
  },
  {
   "cell_type": "code",
   "execution_count": 6,
   "metadata": {},
   "outputs": [
    {
     "name": "stdout",
     "output_type": "stream",
     "text": [
      "<class 'pandas.core.frame.DataFrame'>\n",
      "RangeIndex: 1861 entries, 0 to 1860\n",
      "Data columns (total 5 columns):\n",
      " #   Column       Non-Null Count  Dtype  \n",
      "---  ------       --------------  -----  \n",
      " 0   FirstName    1861 non-null   object \n",
      " 1   PostCode     1860 non-null   object \n",
      " 2   OnMarket     1861 non-null   int64  \n",
      " 3   NumContacts  1861 non-null   float64\n",
      " 4   JobSought    1861 non-null   object \n",
      "dtypes: float64(1), int64(1), object(3)\n",
      "memory usage: 72.8+ KB\n"
     ]
    }
   ],
   "source": [
    "df.info()"
   ]
  },
  {
   "cell_type": "markdown",
   "metadata": {},
   "source": [
    "### Assignment 4.2\n",
    "#### (a) How many rows and columns are in the dataframe (you need to write a line of code for this)\n",
    "#### (b) Extract the columns \"FirstName\" and \"NumContacts\" (the outcome should have two columns not seperated single columns)\n",
    "#### (c) Extract rows number 100, 150, 200, 250\n",
    "#### (d) Extract columns \"FirstName\" and \"Postcode\" for rows 1000 and 1500"
   ]
  },
  {
   "cell_type": "markdown",
   "metadata": {},
   "source": [
    "## (a)"
   ]
  },
  {
   "cell_type": "code",
   "execution_count": 11,
   "metadata": {},
   "outputs": [
    {
     "name": "stdout",
     "output_type": "stream",
     "text": [
      "Number of rows: 1861, Number of columns: 5\n"
     ]
    }
   ],
   "source": [
    "print('Number of rows: {}, Number of columns: {}'.format(df.shape[0],df.shape[1]))"
   ]
  },
  {
   "cell_type": "markdown",
   "metadata": {},
   "source": [
    "## (b)"
   ]
  },
  {
   "cell_type": "code",
   "execution_count": 12,
   "metadata": {},
   "outputs": [
    {
     "data": {
      "text/html": [
       "<div>\n",
       "<style scoped>\n",
       "    .dataframe tbody tr th:only-of-type {\n",
       "        vertical-align: middle;\n",
       "    }\n",
       "\n",
       "    .dataframe tbody tr th {\n",
       "        vertical-align: top;\n",
       "    }\n",
       "\n",
       "    .dataframe thead th {\n",
       "        text-align: right;\n",
       "    }\n",
       "</style>\n",
       "<table border=\"1\" class=\"dataframe\">\n",
       "  <thead>\n",
       "    <tr style=\"text-align: right;\">\n",
       "      <th></th>\n",
       "      <th>FirstName</th>\n",
       "      <th>NumContacts</th>\n",
       "    </tr>\n",
       "  </thead>\n",
       "  <tbody>\n",
       "    <tr>\n",
       "      <th>0</th>\n",
       "      <td>jasmine</td>\n",
       "      <td>2.0</td>\n",
       "    </tr>\n",
       "    <tr>\n",
       "      <th>1</th>\n",
       "      <td>mazeed</td>\n",
       "      <td>5.0</td>\n",
       "    </tr>\n",
       "    <tr>\n",
       "      <th>2</th>\n",
       "      <td>sandra</td>\n",
       "      <td>2.0</td>\n",
       "    </tr>\n",
       "    <tr>\n",
       "      <th>3</th>\n",
       "      <td>brooke</td>\n",
       "      <td>1.0</td>\n",
       "    </tr>\n",
       "    <tr>\n",
       "      <th>4</th>\n",
       "      <td>tuhfa</td>\n",
       "      <td>2.0</td>\n",
       "    </tr>\n",
       "    <tr>\n",
       "      <th>...</th>\n",
       "      <td>...</td>\n",
       "      <td>...</td>\n",
       "    </tr>\n",
       "    <tr>\n",
       "      <th>1856</th>\n",
       "      <td>daniel</td>\n",
       "      <td>5.0</td>\n",
       "    </tr>\n",
       "    <tr>\n",
       "      <th>1857</th>\n",
       "      <td>abdur razzaaq</td>\n",
       "      <td>2.0</td>\n",
       "    </tr>\n",
       "    <tr>\n",
       "      <th>1858</th>\n",
       "      <td>paris</td>\n",
       "      <td>2.0</td>\n",
       "    </tr>\n",
       "    <tr>\n",
       "      <th>1859</th>\n",
       "      <td>salwa</td>\n",
       "      <td>2.0</td>\n",
       "    </tr>\n",
       "    <tr>\n",
       "      <th>1860</th>\n",
       "      <td>nicholas</td>\n",
       "      <td>2.0</td>\n",
       "    </tr>\n",
       "  </tbody>\n",
       "</table>\n",
       "<p>1861 rows × 2 columns</p>\n",
       "</div>"
      ],
      "text/plain": [
       "          FirstName  NumContacts\n",
       "0           jasmine          2.0\n",
       "1            mazeed          5.0\n",
       "2            sandra          2.0\n",
       "3            brooke          1.0\n",
       "4             tuhfa          2.0\n",
       "...             ...          ...\n",
       "1856         daniel          5.0\n",
       "1857  abdur razzaaq          2.0\n",
       "1858          paris          2.0\n",
       "1859          salwa          2.0\n",
       "1860       nicholas          2.0\n",
       "\n",
       "[1861 rows x 2 columns]"
      ]
     },
     "execution_count": 12,
     "metadata": {},
     "output_type": "execute_result"
    }
   ],
   "source": [
    "df[['FirstName','NumContacts']]"
   ]
  },
  {
   "cell_type": "markdown",
   "metadata": {},
   "source": [
    "## (c)"
   ]
  },
  {
   "cell_type": "code",
   "execution_count": 13,
   "metadata": {},
   "outputs": [
    {
     "data": {
      "text/html": [
       "<div>\n",
       "<style scoped>\n",
       "    .dataframe tbody tr th:only-of-type {\n",
       "        vertical-align: middle;\n",
       "    }\n",
       "\n",
       "    .dataframe tbody tr th {\n",
       "        vertical-align: top;\n",
       "    }\n",
       "\n",
       "    .dataframe thead th {\n",
       "        text-align: right;\n",
       "    }\n",
       "</style>\n",
       "<table border=\"1\" class=\"dataframe\">\n",
       "  <thead>\n",
       "    <tr style=\"text-align: right;\">\n",
       "      <th></th>\n",
       "      <th>FirstName</th>\n",
       "      <th>PostCode</th>\n",
       "      <th>OnMarket</th>\n",
       "      <th>NumContacts</th>\n",
       "      <th>JobSought</th>\n",
       "    </tr>\n",
       "  </thead>\n",
       "  <tbody>\n",
       "    <tr>\n",
       "      <th>99</th>\n",
       "      <td>cortnee</td>\n",
       "      <td>EX1 3LF</td>\n",
       "      <td>3</td>\n",
       "      <td>2.0</td>\n",
       "      <td>Colour technologist</td>\n",
       "    </tr>\n",
       "    <tr>\n",
       "      <th>149</th>\n",
       "      <td>kyler</td>\n",
       "      <td>EX4 4XD</td>\n",
       "      <td>6</td>\n",
       "      <td>6.0</td>\n",
       "      <td>Physiological scientist</td>\n",
       "    </tr>\n",
       "    <tr>\n",
       "      <th>199</th>\n",
       "      <td>justin</td>\n",
       "      <td>EX1 9NX</td>\n",
       "      <td>3</td>\n",
       "      <td>5.0</td>\n",
       "      <td>Psychotherapist</td>\n",
       "    </tr>\n",
       "    <tr>\n",
       "      <th>249</th>\n",
       "      <td>justin</td>\n",
       "      <td>EX1 9NX</td>\n",
       "      <td>3</td>\n",
       "      <td>5.0</td>\n",
       "      <td>Psychotherapist</td>\n",
       "    </tr>\n",
       "  </tbody>\n",
       "</table>\n",
       "</div>"
      ],
      "text/plain": [
       "    FirstName PostCode  OnMarket  NumContacts                JobSought\n",
       "99    cortnee  EX1 3LF         3          2.0      Colour technologist\n",
       "149     kyler  EX4 4XD         6          6.0  Physiological scientist\n",
       "199    justin  EX1 9NX         3          5.0          Psychotherapist\n",
       "249    justin  EX1 9NX         3          5.0          Psychotherapist"
      ]
     },
     "execution_count": 13,
     "metadata": {},
     "output_type": "execute_result"
    }
   ],
   "source": [
    "df.iloc[[99, 149, 199, 249]]"
   ]
  },
  {
   "cell_type": "markdown",
   "metadata": {},
   "source": [
    "## (d)"
   ]
  },
  {
   "cell_type": "code",
   "execution_count": 14,
   "metadata": {},
   "outputs": [
    {
     "data": {
      "text/html": [
       "<div>\n",
       "<style scoped>\n",
       "    .dataframe tbody tr th:only-of-type {\n",
       "        vertical-align: middle;\n",
       "    }\n",
       "\n",
       "    .dataframe tbody tr th {\n",
       "        vertical-align: top;\n",
       "    }\n",
       "\n",
       "    .dataframe thead th {\n",
       "        text-align: right;\n",
       "    }\n",
       "</style>\n",
       "<table border=\"1\" class=\"dataframe\">\n",
       "  <thead>\n",
       "    <tr style=\"text-align: right;\">\n",
       "      <th></th>\n",
       "      <th>FirstName</th>\n",
       "      <th>PostCode</th>\n",
       "    </tr>\n",
       "  </thead>\n",
       "  <tbody>\n",
       "    <tr>\n",
       "      <th>999</th>\n",
       "      <td>madison</td>\n",
       "      <td>EX1 9NX</td>\n",
       "    </tr>\n",
       "    <tr>\n",
       "      <th>1499</th>\n",
       "      <td>isabel</td>\n",
       "      <td>EX4 6QL</td>\n",
       "    </tr>\n",
       "  </tbody>\n",
       "</table>\n",
       "</div>"
      ],
      "text/plain": [
       "     FirstName PostCode\n",
       "999    madison  EX1 9NX\n",
       "1499    isabel  EX4 6QL"
      ]
     },
     "execution_count": 14,
     "metadata": {},
     "output_type": "execute_result"
    }
   ],
   "source": [
    "df[['FirstName', 'PostCode']].iloc[[999,1499]]"
   ]
  },
  {
   "cell_type": "markdown",
   "metadata": {},
   "source": [
    "### Assignment 4.3\n",
    "#### (a) Find the maximum number of times a person was contacted by the recruiters\n",
    "#### (b) Find the minimum number of months a person was on the market \n",
    "#### (c) Find the average time people have been contacted by the recruiters "
   ]
  },
  {
   "cell_type": "markdown",
   "metadata": {},
   "source": [
    "## (a)"
   ]
  },
  {
   "cell_type": "code",
   "execution_count": 15,
   "metadata": {},
   "outputs": [
    {
     "data": {
      "text/plain": [
       "7.0"
      ]
     },
     "execution_count": 15,
     "metadata": {},
     "output_type": "execute_result"
    }
   ],
   "source": [
    "df['NumContacts'].max()"
   ]
  },
  {
   "cell_type": "markdown",
   "metadata": {},
   "source": [
    "## (b)"
   ]
  },
  {
   "cell_type": "code",
   "execution_count": 16,
   "metadata": {},
   "outputs": [
    {
     "data": {
      "text/plain": [
       "-2"
      ]
     },
     "execution_count": 16,
     "metadata": {},
     "output_type": "execute_result"
    }
   ],
   "source": [
    "df['OnMarket'].min()"
   ]
  },
  {
   "cell_type": "markdown",
   "metadata": {},
   "source": [
    "## (c)"
   ]
  },
  {
   "cell_type": "code",
   "execution_count": 17,
   "metadata": {},
   "outputs": [
    {
     "data": {
      "text/plain": [
       "2.648038688876948"
      ]
     },
     "execution_count": 17,
     "metadata": {},
     "output_type": "execute_result"
    }
   ],
   "source": [
    "df['NumContacts'].mean()"
   ]
  },
  {
   "cell_type": "markdown",
   "metadata": {},
   "source": [
    "### Assignment 4.4\n",
    "#### (a) Find individuals who have been contacted at least 3 times by the recruiters\n",
    "#### (b) Find individuals who have been on the job market less than 2 months or more than 6 months\n",
    "#### (c) Find individuals with PostCode \"EX2 9BY\"\n",
    "#### (d) Find individuals who looking for a job as a \"nurse\"\n",
    "#### (e) Find the average time people from PostCode \"EX4 2BD\" were on the market\n",
    "#### (f) For people who where contacted between 2 and 5 times (inclusive), and seeking professor job, find the maximum and minimum time on the market "
   ]
  },
  {
   "cell_type": "markdown",
   "metadata": {},
   "source": [
    "## (a)"
   ]
  },
  {
   "cell_type": "code",
   "execution_count": 18,
   "metadata": {},
   "outputs": [
    {
     "data": {
      "text/html": [
       "<div>\n",
       "<style scoped>\n",
       "    .dataframe tbody tr th:only-of-type {\n",
       "        vertical-align: middle;\n",
       "    }\n",
       "\n",
       "    .dataframe tbody tr th {\n",
       "        vertical-align: top;\n",
       "    }\n",
       "\n",
       "    .dataframe thead th {\n",
       "        text-align: right;\n",
       "    }\n",
       "</style>\n",
       "<table border=\"1\" class=\"dataframe\">\n",
       "  <thead>\n",
       "    <tr style=\"text-align: right;\">\n",
       "      <th></th>\n",
       "      <th>FirstName</th>\n",
       "      <th>PostCode</th>\n",
       "      <th>OnMarket</th>\n",
       "      <th>NumContacts</th>\n",
       "      <th>JobSought</th>\n",
       "    </tr>\n",
       "  </thead>\n",
       "  <tbody>\n",
       "    <tr>\n",
       "      <th>1</th>\n",
       "      <td>mazeed</td>\n",
       "      <td>EX4 2BD</td>\n",
       "      <td>6</td>\n",
       "      <td>5.0</td>\n",
       "      <td>Nurse, learning disability</td>\n",
       "    </tr>\n",
       "    <tr>\n",
       "      <th>5</th>\n",
       "      <td>gabriela</td>\n",
       "      <td>EX1 1NX</td>\n",
       "      <td>3</td>\n",
       "      <td>3.0</td>\n",
       "      <td>Accountant, chartered certified</td>\n",
       "    </tr>\n",
       "    <tr>\n",
       "      <th>6</th>\n",
       "      <td>alexis</td>\n",
       "      <td>EX2 6HD</td>\n",
       "      <td>4</td>\n",
       "      <td>3.0</td>\n",
       "      <td>IT consultant</td>\n",
       "    </tr>\n",
       "    <tr>\n",
       "      <th>9</th>\n",
       "      <td>muthanna</td>\n",
       "      <td>EX1 9NX</td>\n",
       "      <td>7</td>\n",
       "      <td>5.0</td>\n",
       "      <td>Journalist, magazine</td>\n",
       "    </tr>\n",
       "    <tr>\n",
       "      <th>10</th>\n",
       "      <td>jazmin angel</td>\n",
       "      <td>EX4 4XD</td>\n",
       "      <td>4</td>\n",
       "      <td>3.0</td>\n",
       "      <td>Software engineer</td>\n",
       "    </tr>\n",
       "    <tr>\n",
       "      <th>...</th>\n",
       "      <td>...</td>\n",
       "      <td>...</td>\n",
       "      <td>...</td>\n",
       "      <td>...</td>\n",
       "      <td>...</td>\n",
       "    </tr>\n",
       "    <tr>\n",
       "      <th>1851</th>\n",
       "      <td>matthew</td>\n",
       "      <td>EX1 1NX</td>\n",
       "      <td>3</td>\n",
       "      <td>3.0</td>\n",
       "      <td>Sports coach</td>\n",
       "    </tr>\n",
       "    <tr>\n",
       "      <th>1852</th>\n",
       "      <td>westin</td>\n",
       "      <td>EX1 3LF</td>\n",
       "      <td>3</td>\n",
       "      <td>3.0</td>\n",
       "      <td>Lexicographer</td>\n",
       "    </tr>\n",
       "    <tr>\n",
       "      <th>1853</th>\n",
       "      <td>christina</td>\n",
       "      <td>EX2 8BN</td>\n",
       "      <td>3</td>\n",
       "      <td>3.0</td>\n",
       "      <td>Multimedia programmer</td>\n",
       "    </tr>\n",
       "    <tr>\n",
       "      <th>1855</th>\n",
       "      <td>alexander</td>\n",
       "      <td>EX4 4XD</td>\n",
       "      <td>7</td>\n",
       "      <td>5.0</td>\n",
       "      <td>Information officer</td>\n",
       "    </tr>\n",
       "    <tr>\n",
       "      <th>1856</th>\n",
       "      <td>daniel</td>\n",
       "      <td>EX2 9JX</td>\n",
       "      <td>4</td>\n",
       "      <td>5.0</td>\n",
       "      <td>Scientist, marine</td>\n",
       "    </tr>\n",
       "  </tbody>\n",
       "</table>\n",
       "<p>816 rows × 5 columns</p>\n",
       "</div>"
      ],
      "text/plain": [
       "         FirstName PostCode  OnMarket  NumContacts  \\\n",
       "1           mazeed  EX4 2BD         6          5.0   \n",
       "5         gabriela  EX1 1NX         3          3.0   \n",
       "6           alexis  EX2 6HD         4          3.0   \n",
       "9         muthanna  EX1 9NX         7          5.0   \n",
       "10    jazmin angel  EX4 4XD         4          3.0   \n",
       "...            ...      ...       ...          ...   \n",
       "1851       matthew  EX1 1NX         3          3.0   \n",
       "1852        westin  EX1 3LF         3          3.0   \n",
       "1853     christina  EX2 8BN         3          3.0   \n",
       "1855     alexander  EX4 4XD         7          5.0   \n",
       "1856        daniel  EX2 9JX         4          5.0   \n",
       "\n",
       "                            JobSought  \n",
       "1          Nurse, learning disability  \n",
       "5     Accountant, chartered certified  \n",
       "6                       IT consultant  \n",
       "9                Journalist, magazine  \n",
       "10                  Software engineer  \n",
       "...                               ...  \n",
       "1851                     Sports coach  \n",
       "1852                    Lexicographer  \n",
       "1853            Multimedia programmer  \n",
       "1855              Information officer  \n",
       "1856                Scientist, marine  \n",
       "\n",
       "[816 rows x 5 columns]"
      ]
     },
     "execution_count": 18,
     "metadata": {},
     "output_type": "execute_result"
    }
   ],
   "source": [
    "NumContactsFilter=df['NumContacts']>=3\n",
    "df[NumContactsFilter]"
   ]
  },
  {
   "cell_type": "markdown",
   "metadata": {},
   "source": [
    "## (b)"
   ]
  },
  {
   "cell_type": "code",
   "execution_count": 19,
   "metadata": {},
   "outputs": [
    {
     "data": {
      "text/html": [
       "<div>\n",
       "<style scoped>\n",
       "    .dataframe tbody tr th:only-of-type {\n",
       "        vertical-align: middle;\n",
       "    }\n",
       "\n",
       "    .dataframe tbody tr th {\n",
       "        vertical-align: top;\n",
       "    }\n",
       "\n",
       "    .dataframe thead th {\n",
       "        text-align: right;\n",
       "    }\n",
       "</style>\n",
       "<table border=\"1\" class=\"dataframe\">\n",
       "  <thead>\n",
       "    <tr style=\"text-align: right;\">\n",
       "      <th></th>\n",
       "      <th>FirstName</th>\n",
       "      <th>PostCode</th>\n",
       "      <th>OnMarket</th>\n",
       "      <th>NumContacts</th>\n",
       "      <th>JobSought</th>\n",
       "    </tr>\n",
       "  </thead>\n",
       "  <tbody>\n",
       "    <tr>\n",
       "      <th>1</th>\n",
       "      <td>mazeed</td>\n",
       "      <td>EX4 2BD</td>\n",
       "      <td>6</td>\n",
       "      <td>5.0</td>\n",
       "      <td>Nurse, learning disability</td>\n",
       "    </tr>\n",
       "    <tr>\n",
       "      <th>7</th>\n",
       "      <td>jaclyn</td>\n",
       "      <td>EX4 8AY</td>\n",
       "      <td>1</td>\n",
       "      <td>1.0</td>\n",
       "      <td>Insurance claims handler</td>\n",
       "    </tr>\n",
       "    <tr>\n",
       "      <th>8</th>\n",
       "      <td>diana</td>\n",
       "      <td>EX2 8RS</td>\n",
       "      <td>1</td>\n",
       "      <td>2.0</td>\n",
       "      <td>Building services engineer</td>\n",
       "    </tr>\n",
       "    <tr>\n",
       "      <th>9</th>\n",
       "      <td>muthanna</td>\n",
       "      <td>EX1 9NX</td>\n",
       "      <td>7</td>\n",
       "      <td>5.0</td>\n",
       "      <td>Journalist, magazine</td>\n",
       "    </tr>\n",
       "    <tr>\n",
       "      <th>12</th>\n",
       "      <td>shameem</td>\n",
       "      <td>EX4 6QL</td>\n",
       "      <td>1</td>\n",
       "      <td>1.0</td>\n",
       "      <td>Professor Emeritus</td>\n",
       "    </tr>\n",
       "    <tr>\n",
       "      <th>...</th>\n",
       "      <td>...</td>\n",
       "      <td>...</td>\n",
       "      <td>...</td>\n",
       "      <td>...</td>\n",
       "      <td>...</td>\n",
       "    </tr>\n",
       "    <tr>\n",
       "      <th>1837</th>\n",
       "      <td>alexander</td>\n",
       "      <td>EX4 8AY</td>\n",
       "      <td>1</td>\n",
       "      <td>1.0</td>\n",
       "      <td>Insurance claims handler</td>\n",
       "    </tr>\n",
       "    <tr>\n",
       "      <th>1839</th>\n",
       "      <td>tyler</td>\n",
       "      <td>EX2 6BH</td>\n",
       "      <td>1</td>\n",
       "      <td>1.0</td>\n",
       "      <td>Aeronautical engineer</td>\n",
       "    </tr>\n",
       "    <tr>\n",
       "      <th>1840</th>\n",
       "      <td>michael</td>\n",
       "      <td>EX4 8PD</td>\n",
       "      <td>1</td>\n",
       "      <td>1.0</td>\n",
       "      <td>Textile designer</td>\n",
       "    </tr>\n",
       "    <tr>\n",
       "      <th>1855</th>\n",
       "      <td>alexander</td>\n",
       "      <td>EX4 4XD</td>\n",
       "      <td>7</td>\n",
       "      <td>5.0</td>\n",
       "      <td>Information officer</td>\n",
       "    </tr>\n",
       "    <tr>\n",
       "      <th>1858</th>\n",
       "      <td>paris</td>\n",
       "      <td>EX4 4XD</td>\n",
       "      <td>1</td>\n",
       "      <td>2.0</td>\n",
       "      <td>Sports coach</td>\n",
       "    </tr>\n",
       "  </tbody>\n",
       "</table>\n",
       "<p>408 rows × 5 columns</p>\n",
       "</div>"
      ],
      "text/plain": [
       "      FirstName PostCode  OnMarket  NumContacts                   JobSought\n",
       "1        mazeed  EX4 2BD         6          5.0  Nurse, learning disability\n",
       "7        jaclyn  EX4 8AY         1          1.0    Insurance claims handler\n",
       "8         diana  EX2 8RS         1          2.0  Building services engineer\n",
       "9      muthanna  EX1 9NX         7          5.0        Journalist, magazine\n",
       "12      shameem  EX4 6QL         1          1.0          Professor Emeritus\n",
       "...         ...      ...       ...          ...                         ...\n",
       "1837  alexander  EX4 8AY         1          1.0    Insurance claims handler\n",
       "1839      tyler  EX2 6BH         1          1.0       Aeronautical engineer\n",
       "1840    michael  EX4 8PD         1          1.0            Textile designer\n",
       "1855  alexander  EX4 4XD         7          5.0         Information officer\n",
       "1858      paris  EX4 4XD         1          2.0                Sports coach\n",
       "\n",
       "[408 rows x 5 columns]"
      ]
     },
     "execution_count": 19,
     "metadata": {},
     "output_type": "execute_result"
    }
   ],
   "source": [
    "onmarketfilter=(df['OnMarket']<2)|(df['OnMarket']>6)\n",
    "df[onmarketfilter]"
   ]
  },
  {
   "cell_type": "markdown",
   "metadata": {},
   "source": [
    "## (c)"
   ]
  },
  {
   "cell_type": "code",
   "execution_count": 20,
   "metadata": {},
   "outputs": [
    {
     "data": {
      "text/html": [
       "<div>\n",
       "<style scoped>\n",
       "    .dataframe tbody tr th:only-of-type {\n",
       "        vertical-align: middle;\n",
       "    }\n",
       "\n",
       "    .dataframe tbody tr th {\n",
       "        vertical-align: top;\n",
       "    }\n",
       "\n",
       "    .dataframe thead th {\n",
       "        text-align: right;\n",
       "    }\n",
       "</style>\n",
       "<table border=\"1\" class=\"dataframe\">\n",
       "  <thead>\n",
       "    <tr style=\"text-align: right;\">\n",
       "      <th></th>\n",
       "      <th>FirstName</th>\n",
       "      <th>PostCode</th>\n",
       "      <th>OnMarket</th>\n",
       "      <th>NumContacts</th>\n",
       "      <th>JobSought</th>\n",
       "    </tr>\n",
       "  </thead>\n",
       "  <tbody>\n",
       "    <tr>\n",
       "      <th>1</th>\n",
       "      <td>mazeed</td>\n",
       "      <td>EX4 2BD</td>\n",
       "      <td>6</td>\n",
       "      <td>5.0</td>\n",
       "      <td>Nurse, learning disability</td>\n",
       "    </tr>\n",
       "    <tr>\n",
       "      <th>7</th>\n",
       "      <td>jaclyn</td>\n",
       "      <td>EX4 8AY</td>\n",
       "      <td>1</td>\n",
       "      <td>1.0</td>\n",
       "      <td>Insurance claims handler</td>\n",
       "    </tr>\n",
       "    <tr>\n",
       "      <th>8</th>\n",
       "      <td>diana</td>\n",
       "      <td>EX2 8RS</td>\n",
       "      <td>1</td>\n",
       "      <td>2.0</td>\n",
       "      <td>Building services engineer</td>\n",
       "    </tr>\n",
       "    <tr>\n",
       "      <th>9</th>\n",
       "      <td>muthanna</td>\n",
       "      <td>EX1 9NX</td>\n",
       "      <td>7</td>\n",
       "      <td>5.0</td>\n",
       "      <td>Journalist, magazine</td>\n",
       "    </tr>\n",
       "    <tr>\n",
       "      <th>12</th>\n",
       "      <td>shameem</td>\n",
       "      <td>EX4 6QL</td>\n",
       "      <td>1</td>\n",
       "      <td>1.0</td>\n",
       "      <td>Professor Emeritus</td>\n",
       "    </tr>\n",
       "    <tr>\n",
       "      <th>...</th>\n",
       "      <td>...</td>\n",
       "      <td>...</td>\n",
       "      <td>...</td>\n",
       "      <td>...</td>\n",
       "      <td>...</td>\n",
       "    </tr>\n",
       "    <tr>\n",
       "      <th>1837</th>\n",
       "      <td>alexander</td>\n",
       "      <td>EX4 8AY</td>\n",
       "      <td>1</td>\n",
       "      <td>1.0</td>\n",
       "      <td>Insurance claims handler</td>\n",
       "    </tr>\n",
       "    <tr>\n",
       "      <th>1839</th>\n",
       "      <td>tyler</td>\n",
       "      <td>EX2 6BH</td>\n",
       "      <td>1</td>\n",
       "      <td>1.0</td>\n",
       "      <td>Aeronautical engineer</td>\n",
       "    </tr>\n",
       "    <tr>\n",
       "      <th>1840</th>\n",
       "      <td>michael</td>\n",
       "      <td>EX4 8PD</td>\n",
       "      <td>1</td>\n",
       "      <td>1.0</td>\n",
       "      <td>Textile designer</td>\n",
       "    </tr>\n",
       "    <tr>\n",
       "      <th>1855</th>\n",
       "      <td>alexander</td>\n",
       "      <td>EX4 4XD</td>\n",
       "      <td>7</td>\n",
       "      <td>5.0</td>\n",
       "      <td>Information officer</td>\n",
       "    </tr>\n",
       "    <tr>\n",
       "      <th>1858</th>\n",
       "      <td>paris</td>\n",
       "      <td>EX4 4XD</td>\n",
       "      <td>1</td>\n",
       "      <td>2.0</td>\n",
       "      <td>Sports coach</td>\n",
       "    </tr>\n",
       "  </tbody>\n",
       "</table>\n",
       "<p>408 rows × 5 columns</p>\n",
       "</div>"
      ],
      "text/plain": [
       "      FirstName PostCode  OnMarket  NumContacts                   JobSought\n",
       "1        mazeed  EX4 2BD         6          5.0  Nurse, learning disability\n",
       "7        jaclyn  EX4 8AY         1          1.0    Insurance claims handler\n",
       "8         diana  EX2 8RS         1          2.0  Building services engineer\n",
       "9      muthanna  EX1 9NX         7          5.0        Journalist, magazine\n",
       "12      shameem  EX4 6QL         1          1.0          Professor Emeritus\n",
       "...         ...      ...       ...          ...                         ...\n",
       "1837  alexander  EX4 8AY         1          1.0    Insurance claims handler\n",
       "1839      tyler  EX2 6BH         1          1.0       Aeronautical engineer\n",
       "1840    michael  EX4 8PD         1          1.0            Textile designer\n",
       "1855  alexander  EX4 4XD         7          5.0         Information officer\n",
       "1858      paris  EX4 4XD         1          2.0                Sports coach\n",
       "\n",
       "[408 rows x 5 columns]"
      ]
     },
     "execution_count": 20,
     "metadata": {},
     "output_type": "execute_result"
    }
   ],
   "source": [
    "onmarketfilter2=(df['OnMarket']>=2)&(df['OnMarket']<=5)\n",
    "df[~onmarketfilter2]"
   ]
  },
  {
   "cell_type": "markdown",
   "metadata": {},
   "source": [
    "## (d)"
   ]
  },
  {
   "cell_type": "code",
   "execution_count": 21,
   "metadata": {},
   "outputs": [
    {
     "data": {
      "text/html": [
       "<div>\n",
       "<style scoped>\n",
       "    .dataframe tbody tr th:only-of-type {\n",
       "        vertical-align: middle;\n",
       "    }\n",
       "\n",
       "    .dataframe tbody tr th {\n",
       "        vertical-align: top;\n",
       "    }\n",
       "\n",
       "    .dataframe thead th {\n",
       "        text-align: right;\n",
       "    }\n",
       "</style>\n",
       "<table border=\"1\" class=\"dataframe\">\n",
       "  <thead>\n",
       "    <tr style=\"text-align: right;\">\n",
       "      <th></th>\n",
       "      <th>FirstName</th>\n",
       "      <th>PostCode</th>\n",
       "      <th>OnMarket</th>\n",
       "      <th>NumContacts</th>\n",
       "      <th>JobSought</th>\n",
       "    </tr>\n",
       "  </thead>\n",
       "  <tbody>\n",
       "    <tr>\n",
       "      <th>1</th>\n",
       "      <td>mazeed</td>\n",
       "      <td>EX4 2BD</td>\n",
       "      <td>6</td>\n",
       "      <td>5.0</td>\n",
       "      <td>Nurse, learning disability</td>\n",
       "    </tr>\n",
       "    <tr>\n",
       "      <th>14</th>\n",
       "      <td>wanda</td>\n",
       "      <td>EX4 5DW</td>\n",
       "      <td>1</td>\n",
       "      <td>1.0</td>\n",
       "      <td>Nurse, learning disability</td>\n",
       "    </tr>\n",
       "    <tr>\n",
       "      <th>56</th>\n",
       "      <td>daniel</td>\n",
       "      <td>EX2 6BW</td>\n",
       "      <td>7</td>\n",
       "      <td>7.0</td>\n",
       "      <td>Nurse, learning disability</td>\n",
       "    </tr>\n",
       "    <tr>\n",
       "      <th>92</th>\n",
       "      <td>mazeed</td>\n",
       "      <td>EX4 2BD</td>\n",
       "      <td>6</td>\n",
       "      <td>5.0</td>\n",
       "      <td>Nurse, learning disability</td>\n",
       "    </tr>\n",
       "    <tr>\n",
       "      <th>144</th>\n",
       "      <td>wanda</td>\n",
       "      <td>EX4 5DW</td>\n",
       "      <td>1</td>\n",
       "      <td>1.0</td>\n",
       "      <td>Nurse, learning disability</td>\n",
       "    </tr>\n",
       "    <tr>\n",
       "      <th>151</th>\n",
       "      <td>brian</td>\n",
       "      <td>EX1 9NX</td>\n",
       "      <td>2</td>\n",
       "      <td>3.0</td>\n",
       "      <td>Nurse, learning disability</td>\n",
       "    </tr>\n",
       "    <tr>\n",
       "      <th>190</th>\n",
       "      <td>wanda</td>\n",
       "      <td>EX4 5DW</td>\n",
       "      <td>1</td>\n",
       "      <td>1.0</td>\n",
       "      <td>Nurse, learning disability</td>\n",
       "    </tr>\n",
       "    <tr>\n",
       "      <th>302</th>\n",
       "      <td>daniel</td>\n",
       "      <td>EX2 6BW</td>\n",
       "      <td>7</td>\n",
       "      <td>7.0</td>\n",
       "      <td>Nurse, learning disability</td>\n",
       "    </tr>\n",
       "    <tr>\n",
       "      <th>314</th>\n",
       "      <td>mazeed</td>\n",
       "      <td>EX4 2BD</td>\n",
       "      <td>6</td>\n",
       "      <td>5.0</td>\n",
       "      <td>Nurse, learning disability</td>\n",
       "    </tr>\n",
       "    <tr>\n",
       "      <th>489</th>\n",
       "      <td>mazeed</td>\n",
       "      <td>EX4 2BD</td>\n",
       "      <td>6</td>\n",
       "      <td>5.0</td>\n",
       "      <td>Nurse, learning disability</td>\n",
       "    </tr>\n",
       "    <tr>\n",
       "      <th>496</th>\n",
       "      <td>daniel</td>\n",
       "      <td>EX2 6BW</td>\n",
       "      <td>7</td>\n",
       "      <td>7.0</td>\n",
       "      <td>Nurse, learning disability</td>\n",
       "    </tr>\n",
       "    <tr>\n",
       "      <th>652</th>\n",
       "      <td>mazeed</td>\n",
       "      <td>EX4 2BD</td>\n",
       "      <td>6</td>\n",
       "      <td>5.0</td>\n",
       "      <td>Nurse, learning disability</td>\n",
       "    </tr>\n",
       "    <tr>\n",
       "      <th>658</th>\n",
       "      <td>daniel</td>\n",
       "      <td>EX2 6BW</td>\n",
       "      <td>7</td>\n",
       "      <td>7.0</td>\n",
       "      <td>Nurse, learning disability</td>\n",
       "    </tr>\n",
       "    <tr>\n",
       "      <th>671</th>\n",
       "      <td>mazeed</td>\n",
       "      <td>EX4 2BD</td>\n",
       "      <td>6</td>\n",
       "      <td>5.0</td>\n",
       "      <td>Nurse, learning disability</td>\n",
       "    </tr>\n",
       "    <tr>\n",
       "      <th>705</th>\n",
       "      <td>brian</td>\n",
       "      <td>EX1 9NX</td>\n",
       "      <td>2</td>\n",
       "      <td>3.0</td>\n",
       "      <td>Nurse, learning disability</td>\n",
       "    </tr>\n",
       "    <tr>\n",
       "      <th>707</th>\n",
       "      <td>brian</td>\n",
       "      <td>EX1 9NX</td>\n",
       "      <td>2</td>\n",
       "      <td>3.0</td>\n",
       "      <td>Nurse, learning disability</td>\n",
       "    </tr>\n",
       "    <tr>\n",
       "      <th>711</th>\n",
       "      <td>mazeed</td>\n",
       "      <td>EX4 2BD</td>\n",
       "      <td>6</td>\n",
       "      <td>5.0</td>\n",
       "      <td>Nurse, learning disability</td>\n",
       "    </tr>\n",
       "    <tr>\n",
       "      <th>847</th>\n",
       "      <td>wanda</td>\n",
       "      <td>EX4 5DW</td>\n",
       "      <td>1</td>\n",
       "      <td>1.0</td>\n",
       "      <td>Nurse, learning disability</td>\n",
       "    </tr>\n",
       "    <tr>\n",
       "      <th>955</th>\n",
       "      <td>brian</td>\n",
       "      <td>EX1 9NX</td>\n",
       "      <td>2</td>\n",
       "      <td>3.0</td>\n",
       "      <td>Nurse, learning disability</td>\n",
       "    </tr>\n",
       "    <tr>\n",
       "      <th>1224</th>\n",
       "      <td>daniel</td>\n",
       "      <td>EX2 6BW</td>\n",
       "      <td>7</td>\n",
       "      <td>7.0</td>\n",
       "      <td>Nurse, learning disability</td>\n",
       "    </tr>\n",
       "    <tr>\n",
       "      <th>1355</th>\n",
       "      <td>mazeed</td>\n",
       "      <td>EX4 2BD</td>\n",
       "      <td>6</td>\n",
       "      <td>5.0</td>\n",
       "      <td>Nurse, learning disability</td>\n",
       "    </tr>\n",
       "    <tr>\n",
       "      <th>1500</th>\n",
       "      <td>mazeed</td>\n",
       "      <td>EX4 2BD</td>\n",
       "      <td>6</td>\n",
       "      <td>5.0</td>\n",
       "      <td>Nurse, learning disability</td>\n",
       "    </tr>\n",
       "    <tr>\n",
       "      <th>1571</th>\n",
       "      <td>brian</td>\n",
       "      <td>EX1 9NX</td>\n",
       "      <td>2</td>\n",
       "      <td>3.0</td>\n",
       "      <td>Nurse, learning disability</td>\n",
       "    </tr>\n",
       "    <tr>\n",
       "      <th>1599</th>\n",
       "      <td>wanda</td>\n",
       "      <td>EX4 5DW</td>\n",
       "      <td>1</td>\n",
       "      <td>1.0</td>\n",
       "      <td>Nurse, learning disability</td>\n",
       "    </tr>\n",
       "    <tr>\n",
       "      <th>1611</th>\n",
       "      <td>wanda</td>\n",
       "      <td>EX4 5DW</td>\n",
       "      <td>1</td>\n",
       "      <td>1.0</td>\n",
       "      <td>Nurse, learning disability</td>\n",
       "    </tr>\n",
       "    <tr>\n",
       "      <th>1678</th>\n",
       "      <td>daniel</td>\n",
       "      <td>EX2 6BW</td>\n",
       "      <td>7</td>\n",
       "      <td>7.0</td>\n",
       "      <td>Nurse, learning disability</td>\n",
       "    </tr>\n",
       "    <tr>\n",
       "      <th>1771</th>\n",
       "      <td>mazeed</td>\n",
       "      <td>EX4 2BD</td>\n",
       "      <td>6</td>\n",
       "      <td>5.0</td>\n",
       "      <td>Nurse, learning disability</td>\n",
       "    </tr>\n",
       "    <tr>\n",
       "      <th>1787</th>\n",
       "      <td>daniel</td>\n",
       "      <td>EX2 6BW</td>\n",
       "      <td>7</td>\n",
       "      <td>7.0</td>\n",
       "      <td>Nurse, learning disability</td>\n",
       "    </tr>\n",
       "  </tbody>\n",
       "</table>\n",
       "</div>"
      ],
      "text/plain": [
       "     FirstName PostCode  OnMarket  NumContacts                   JobSought\n",
       "1       mazeed  EX4 2BD         6          5.0  Nurse, learning disability\n",
       "14       wanda  EX4 5DW         1          1.0  Nurse, learning disability\n",
       "56      daniel  EX2 6BW         7          7.0  Nurse, learning disability\n",
       "92      mazeed  EX4 2BD         6          5.0  Nurse, learning disability\n",
       "144      wanda  EX4 5DW         1          1.0  Nurse, learning disability\n",
       "151      brian  EX1 9NX         2          3.0  Nurse, learning disability\n",
       "190      wanda  EX4 5DW         1          1.0  Nurse, learning disability\n",
       "302     daniel  EX2 6BW         7          7.0  Nurse, learning disability\n",
       "314     mazeed  EX4 2BD         6          5.0  Nurse, learning disability\n",
       "489     mazeed  EX4 2BD         6          5.0  Nurse, learning disability\n",
       "496     daniel  EX2 6BW         7          7.0  Nurse, learning disability\n",
       "652     mazeed  EX4 2BD         6          5.0  Nurse, learning disability\n",
       "658     daniel  EX2 6BW         7          7.0  Nurse, learning disability\n",
       "671     mazeed  EX4 2BD         6          5.0  Nurse, learning disability\n",
       "705      brian  EX1 9NX         2          3.0  Nurse, learning disability\n",
       "707      brian  EX1 9NX         2          3.0  Nurse, learning disability\n",
       "711     mazeed  EX4 2BD         6          5.0  Nurse, learning disability\n",
       "847      wanda  EX4 5DW         1          1.0  Nurse, learning disability\n",
       "955      brian  EX1 9NX         2          3.0  Nurse, learning disability\n",
       "1224    daniel  EX2 6BW         7          7.0  Nurse, learning disability\n",
       "1355    mazeed  EX4 2BD         6          5.0  Nurse, learning disability\n",
       "1500    mazeed  EX4 2BD         6          5.0  Nurse, learning disability\n",
       "1571     brian  EX1 9NX         2          3.0  Nurse, learning disability\n",
       "1599     wanda  EX4 5DW         1          1.0  Nurse, learning disability\n",
       "1611     wanda  EX4 5DW         1          1.0  Nurse, learning disability\n",
       "1678    daniel  EX2 6BW         7          7.0  Nurse, learning disability\n",
       "1771    mazeed  EX4 2BD         6          5.0  Nurse, learning disability\n",
       "1787    daniel  EX2 6BW         7          7.0  Nurse, learning disability"
      ]
     },
     "execution_count": 21,
     "metadata": {},
     "output_type": "execute_result"
    }
   ],
   "source": [
    "NurseFilter=df['JobSought'].str.lower().str.contains('Nurse')\n",
    "df[NurseFilter]"
   ]
  },
  {
   "cell_type": "markdown",
   "metadata": {},
   "source": [
    "## (d)"
   ]
  },
  {
   "cell_type": "code",
   "execution_count": 22,
   "metadata": {},
   "outputs": [
    {
     "data": {
      "text/plain": [
       "2.6422018348623855"
      ]
     },
     "execution_count": 22,
     "metadata": {},
     "output_type": "execute_result"
    }
   ],
   "source": [
    "PostCodeFilter2 = df['PostCode']=='EX4 2BD'\n",
    "df[PostCodeFilter2]['OnMarket'].mean()"
   ]
  },
  {
   "cell_type": "markdown",
   "metadata": {},
   "source": [
    "# For people who were contacted between 2 and 5 times, and seeking professor job, find the maximum and minimum time on the market"
   ]
  },
  {
   "cell_type": "code",
   "execution_count": 23,
   "metadata": {},
   "outputs": [],
   "source": [
    "filter1=(df['NumContacts']>=2 ) & (df['NumContacts']<=5) & (df['JobSought'].str.contains('Professor'))"
   ]
  },
  {
   "cell_type": "code",
   "execution_count": 24,
   "metadata": {},
   "outputs": [
    {
     "data": {
      "text/plain": [
       "(2, 1)"
      ]
     },
     "execution_count": 24,
     "metadata": {},
     "output_type": "execute_result"
    }
   ],
   "source": [
    "df[filter1]['OnMarket'].max(),df[filter1]['OnMarket'].min()"
   ]
  },
  {
   "cell_type": "code",
   "execution_count": null,
   "metadata": {},
   "outputs": [],
   "source": []
  }
 ],
 "metadata": {
  "kernelspec": {
   "display_name": "Python 3 (ipykernel)",
   "language": "python",
   "name": "python3"
  },
  "language_info": {
   "codemirror_mode": {
    "name": "ipython",
    "version": 3
   },
   "file_extension": ".py",
   "mimetype": "text/x-python",
   "name": "python",
   "nbconvert_exporter": "python",
   "pygments_lexer": "ipython3",
   "version": "3.8.5"
  }
 },
 "nbformat": 4,
 "nbformat_minor": 4
}
