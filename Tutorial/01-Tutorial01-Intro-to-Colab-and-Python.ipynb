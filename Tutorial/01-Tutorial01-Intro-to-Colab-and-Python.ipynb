{
 "cells": [
  {
   "cell_type": "markdown",
   "metadata": {},
   "source": [
    "[![Open In Colab](https://colab.research.google.com/assets/colab-badge.svg)](https://colab.research.google.com/github/mosleh-exeter/BEM1025/blob/main/Tutorial/01-Tutorial01-Intro-to-Colab-and-Python.ipynb)"
   ]
  },
  {
   "cell_type": "markdown",
   "metadata": {},
   "source": [
    "# Tutorial 01. Intro to Colab and Python\n"
   ]
  },
  {
   "cell_type": "markdown",
   "metadata": {},
   "source": [
    "Content:\n",
    "- Review of main lecture \n",
    "- Colab (Jupyter) interface\n",
    "- Practice Python basics\n",
    "- Read more!\n",
    "Colab hosts Jupyer but you can install it locally on your computer. For a detailed instruction see: https://jupyter4edu.github.io/jupyter-edu-book/index.html"
   ]
  },
  {
   "cell_type": "markdown",
   "metadata": {
    "tags": []
   },
   "source": [
    "# Jupyter (colab) interface\n",
    "### Upload Notebook (file)\n",
    "### Download Notebook (file)\n",
    "### Save a copy in Google Drive\n",
    "### Run a cell\n",
    "### Run to the end, and reset the kernel\n"
   ]
  },
  {
   "cell_type": "markdown",
   "metadata": {},
   "source": [
    "# Basic Python fuctions"
   ]
  },
  {
   "cell_type": "markdown",
   "metadata": {},
   "source": [
    "## Basic Arithmetic Operations"
   ]
  },
  {
   "cell_type": "markdown",
   "metadata": {},
   "source": [
    "**Q1**. (a) Create three variables, A, B and assign values 20 and 10 to them respectively. (b) Create variable C that holds A multiply by B plus A then divide the outcome by B. (c) Check if the value of C is 200 using comparision operations."
   ]
  },
  {
   "cell_type": "code",
   "execution_count": null,
   "metadata": {},
   "outputs": [],
   "source": []
  },
  {
   "cell_type": "markdown",
   "metadata": {},
   "source": [
    "**Q2.** (a) Create list D that holds A, B, and C. (b) Find the average value of all elements in list D and assign it to E.\n",
    "\n",
    "**Note:** To find the number of elements in a list use len(lst) and to find sum of elements use sum(lst)\n",
    "\n",
    "**Note:** you can also use \"mean\" function from numpy library"
   ]
  },
  {
   "cell_type": "code",
   "execution_count": null,
   "metadata": {},
   "outputs": [],
   "source": []
  },
  {
   "cell_type": "code",
   "execution_count": null,
   "metadata": {},
   "outputs": [],
   "source": []
  },
  {
   "cell_type": "markdown",
   "metadata": {},
   "source": [
    "**Q3.** Create a list that contains all even integers numbers between 1-10 (inclusive); then find the average value without using 'len', 'sum', and 'mean'\n",
    "\n",
    "**Note:** you can automatically generate this using list(range(start,end,step))\n",
    "\n",
    "**Note:** you can use loops to add all items up\n"
   ]
  },
  {
   "cell_type": "code",
   "execution_count": null,
   "metadata": {},
   "outputs": [],
   "source": []
  },
  {
   "cell_type": "markdown",
   "metadata": {},
   "source": [
    "**Q4.** Create a list that contains odd numbers between 20-30 and even numbers between 40-50 (inclusive)\n",
    "\n",
    "**Note:** You can concatinate two lists using \"+\" e.g., lst3= lst1+lst2 where lst3 contains all elements of lst1 and lst2\n"
   ]
  },
  {
   "cell_type": "code",
   "execution_count": null,
   "metadata": {},
   "outputs": [],
   "source": []
  },
  {
   "cell_type": "markdown",
   "metadata": {},
   "source": [
    "**Important note:** You should try make your code adaptable and scalable. For example, you should avoid counting elements of a list and manually enter its value. As another example, you should try to generate the numbers in a list automatically if there is a pattern since manual entry may not scale if the list is very large.\n",
    "\n",
    "In the above example, if you are asked to do the same task but for odd numbers between 2000-3000 and even numbers between 4000-5000 it might not be possilbe to do manually."
   ]
  },
  {
   "cell_type": "code",
   "execution_count": null,
   "metadata": {},
   "outputs": [],
   "source": []
  },
  {
   "cell_type": "markdown",
   "metadata": {},
   "source": [
    "# Read more!"
   ]
  },
  {
   "cell_type": "markdown",
   "metadata": {},
   "source": [
    "https://www.codecademy.com/learn/learn-python-3"
   ]
  },
  {
   "cell_type": "code",
   "execution_count": 10,
   "metadata": {},
   "outputs": [
    {
     "data": {
      "image/jpeg": "[encoded data removed]",
      "text/html": [
       "\n",
       "        <iframe\n",
       "            width=\"560\"\n",
       "            height=\"315\"\n",
       "            src=\"https://www.youtube.com/embed/HW29067qVWk?rel=0\"\n",
       "            frameborder=\"0\"\n",
       "            allowfullscreen\n",
       "        ></iframe>\n",
       "        "
      ],
      "text/plain": [
       "<IPython.lib.display.YouTubeVideo at 0x7f8a6e995730>"
      ]
     },
     "execution_count": 10,
     "metadata": {},
     "output_type": "execute_result"
    }
   ],
   "source": [
    "from IPython.display import YouTubeVideo\n",
    "YouTubeVideo(\"HW29067qVWk\",560,315,rel=0)"
   ]
  }
 ],
 "metadata": {
  "kernelspec": {
   "display_name": "Python 3 (ipykernel)",
   "language": "python",
   "name": "python3"
  },
  "language_info": {
   "codemirror_mode": {
    "name": "ipython",
    "version": 3
   },
   "file_extension": ".py",
   "mimetype": "text/x-python",
   "name": "python",
   "nbconvert_exporter": "python",
   "pygments_lexer": "ipython3",
   "version": "3.8.5"
  }
 },
 "nbformat": 4,
 "nbformat_minor": 4
}
