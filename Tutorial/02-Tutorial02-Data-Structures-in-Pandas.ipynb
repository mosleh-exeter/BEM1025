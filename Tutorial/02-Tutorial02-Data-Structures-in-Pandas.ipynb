{
 "cells": [
  {
   "cell_type": "markdown",
   "metadata": {},
   "source": [
    "[![Open In Colab](https://colab.research.google.com/assets/colab-badge.svg)](https://colab.research.google.com/github/mosleh-exeter/BEM1025/blob/main/Tutorial/02-Tutorial02-Data-Structures-in-Pandas.ipynb)"
   ]
  },
  {
   "cell_type": "markdown",
   "metadata": {
    "tags": []
   },
   "source": [
    "# Tutorial 02. Data Structures in Pandas"
   ]
  },
  {
   "cell_type": "markdown",
   "metadata": {},
   "source": [
    "Content:\n",
    "- Review of main lecture \n",
    "- Practice bascis of pandas\n",
    "- Practice datasets!\n"
   ]
  },
  {
   "cell_type": "markdown",
   "metadata": {},
   "source": [
    "**Q1.**  Use this link to load the dataset https://raw.githubusercontent.com/mosleh-exeter/BEM1025/main/Fun%2C%20beginner-friendly%20datasets/museums.csv\n",
    " read more here: https://www.kaggle.com/imls/museum-directory"
   ]
  },
  {
   "cell_type": "code",
   "execution_count": null,
   "metadata": {},
   "outputs": [],
   "source": []
  },
  {
   "cell_type": "markdown",
   "metadata": {},
   "source": [
    "**Q2.** (a) How many rows and columns in the dataset? (b) What is the type of each column variables?"
   ]
  },
  {
   "cell_type": "code",
   "execution_count": null,
   "metadata": {},
   "outputs": [],
   "source": []
  },
  {
   "cell_type": "markdown",
   "metadata": {},
   "source": [
    "**Q3.** (a) Create a new dataframe that has only the following columns : 'Museum ID', 'Museum Name', 'Legal Name','Museum Type', 'Institution Name'. \n",
    "\n",
    "(b) Create a new dataframe that has only the following rows : 10, 200,400,\n",
    "\n",
    "(c) Create a new dataframe that has the following columns 'Museum ID', 'Museum Name' and the following rows 100-200, 300-500 (inclusive)"
   ]
  },
  {
   "cell_type": "code",
   "execution_count": null,
   "metadata": {},
   "outputs": [],
   "source": []
  },
  {
   "cell_type": "markdown",
   "metadata": {},
   "source": [
    "**Q4.** (a) Show the last 1000 rows.\n",
    "(b) Show the last 1000 rows without using \"tail\" funciton"
   ]
  },
  {
   "cell_type": "code",
   "execution_count": null,
   "metadata": {},
   "outputs": [],
   "source": []
  },
  {
   "cell_type": "markdown",
   "metadata": {},
   "source": [
    "### Fun, beginner-friendly datasets\n",
    "There is a set of dataset in github you can practice with!\n",
    "\n",
    "https://github.com/mosleh-exeter/BEM1025/tree/main/Fun%2C%20beginner-friendly%20datasets"
   ]
  },
  {
   "cell_type": "code",
   "execution_count": null,
   "metadata": {},
   "outputs": [],
   "source": []
  }
 ],
 "metadata": {
  "kernelspec": {
   "display_name": "Python 3 (ipykernel)",
   "language": "python",
   "name": "python3"
  },
  "language_info": {
   "codemirror_mode": {
    "name": "ipython",
    "version": 3
   },
   "file_extension": ".py",
   "mimetype": "text/x-python",
   "name": "python",
   "nbconvert_exporter": "python",
   "pygments_lexer": "ipython3",
   "version": "3.8.5"
  }
 },
 "nbformat": 4,
 "nbformat_minor": 4
}
