{
 "cells": [
  {
   "cell_type": "markdown",
   "metadata": {},
   "source": [
    "[![Open In Colab](https://colab.research.google.com/assets/colab-badge.svg)](https://colab.research.google.com/github/mosleh-exeter/BEM1025/blob/main/Tutorial/05-Tutorial05-Transformation-practice.ipynb)"
   ]
  },
  {
   "cell_type": "markdown",
   "metadata": {},
   "source": [
    "# Tutorial 05. Data Transformation in Pandas"
   ]
  },
  {
   "cell_type": "code",
   "execution_count": null,
   "metadata": {},
   "outputs": [],
   "source": [
    "import pandas as pd"
   ]
  },
  {
   "cell_type": "markdown",
   "metadata": {},
   "source": [
    "### Loading dataset"
   ]
  },
  {
   "cell_type": "markdown",
   "metadata": {},
   "source": [
    "For this assignment we will work on the superstore data from https://www.kaggle.com/datasets/vivek468/superstore-dataset-final"
   ]
  },
  {
   "cell_type": "code",
   "execution_count": null,
   "metadata": {},
   "outputs": [],
   "source": [
    "# similar to reading data from csv file, we can read data from excel sheets, we need to specify which column we need to read data from\n",
    "# this data is a sample from comercial software Tableau\n",
    "df=pd.read_csv('https://github.com/mosleh-exeter/BEM1025/raw/main/Lecture/Superstore.csv')\n",
    "\n",
    "selected_columns=['Order ID', 'Order Date', 'Product ID','Segment', 'Region','Category','variable','value']\n",
    "\n",
    "df_order=df[selected_columns]\n",
    "# or similarly you can do\n",
    "df_order=pd.DataFrame(df_order,columns=selected_columns)\n"
   ]
  },
  {
   "cell_type": "code",
   "execution_count": 39,
   "metadata": {},
   "outputs": [
    {
     "data": {
      "text/html": [
       "<div>\n",
       "<style scoped>\n",
       "    .dataframe tbody tr th:only-of-type {\n",
       "        vertical-align: middle;\n",
       "    }\n",
       "\n",
       "    .dataframe tbody tr th {\n",
       "        vertical-align: top;\n",
       "    }\n",
       "\n",
       "    .dataframe thead th {\n",
       "        text-align: right;\n",
       "    }\n",
       "</style>\n",
       "<table border=\"1\" class=\"dataframe\">\n",
       "  <thead>\n",
       "    <tr style=\"text-align: right;\">\n",
       "      <th></th>\n",
       "      <th>Order ID</th>\n",
       "      <th>Order Date</th>\n",
       "      <th>Product ID</th>\n",
       "      <th>Segment</th>\n",
       "      <th>Region</th>\n",
       "      <th>Category</th>\n",
       "      <th>variable</th>\n",
       "      <th>value</th>\n",
       "    </tr>\n",
       "  </thead>\n",
       "  <tbody>\n",
       "    <tr>\n",
       "      <th>0</th>\n",
       "      <td>CA-2013-152156</td>\n",
       "      <td>2013-11-09 00:00:00</td>\n",
       "      <td>FUR-BO-10001798</td>\n",
       "      <td>Consumer</td>\n",
       "      <td>South</td>\n",
       "      <td>Furniture</td>\n",
       "      <td>Sales</td>\n",
       "      <td>261.9600</td>\n",
       "    </tr>\n",
       "    <tr>\n",
       "      <th>1</th>\n",
       "      <td>CA-2013-152156</td>\n",
       "      <td>2013-11-09 00:00:00</td>\n",
       "      <td>FUR-CH-10000454</td>\n",
       "      <td>Consumer</td>\n",
       "      <td>South</td>\n",
       "      <td>Furniture</td>\n",
       "      <td>Sales</td>\n",
       "      <td>731.9400</td>\n",
       "    </tr>\n",
       "    <tr>\n",
       "      <th>2</th>\n",
       "      <td>CA-2013-138688</td>\n",
       "      <td>2013-06-13 00:00:00</td>\n",
       "      <td>OFF-LA-10000240</td>\n",
       "      <td>Corporate</td>\n",
       "      <td>West</td>\n",
       "      <td>Office Supplies</td>\n",
       "      <td>Sales</td>\n",
       "      <td>14.6200</td>\n",
       "    </tr>\n",
       "    <tr>\n",
       "      <th>3</th>\n",
       "      <td>US-2012-108966</td>\n",
       "      <td>2012-10-11 00:00:00</td>\n",
       "      <td>FUR-TA-10000577</td>\n",
       "      <td>Consumer</td>\n",
       "      <td>South</td>\n",
       "      <td>Furniture</td>\n",
       "      <td>Sales</td>\n",
       "      <td>957.5775</td>\n",
       "    </tr>\n",
       "    <tr>\n",
       "      <th>4</th>\n",
       "      <td>US-2012-108966</td>\n",
       "      <td>2012-10-11 00:00:00</td>\n",
       "      <td>OFF-ST-10000760</td>\n",
       "      <td>Consumer</td>\n",
       "      <td>South</td>\n",
       "      <td>Office Supplies</td>\n",
       "      <td>Sales</td>\n",
       "      <td>22.3680</td>\n",
       "    </tr>\n",
       "  </tbody>\n",
       "</table>\n",
       "</div>"
      ],
      "text/plain": [
       "         Order ID           Order Date       Product ID    Segment Region  \\\n",
       "0  CA-2013-152156  2013-11-09 00:00:00  FUR-BO-10001798   Consumer  South   \n",
       "1  CA-2013-152156  2013-11-09 00:00:00  FUR-CH-10000454   Consumer  South   \n",
       "2  CA-2013-138688  2013-06-13 00:00:00  OFF-LA-10000240  Corporate   West   \n",
       "3  US-2012-108966  2012-10-11 00:00:00  FUR-TA-10000577   Consumer  South   \n",
       "4  US-2012-108966  2012-10-11 00:00:00  OFF-ST-10000760   Consumer  South   \n",
       "\n",
       "          Category variable     value  \n",
       "0        Furniture    Sales  261.9600  \n",
       "1        Furniture    Sales  731.9400  \n",
       "2  Office Supplies    Sales   14.6200  \n",
       "3        Furniture    Sales  957.5775  \n",
       "4  Office Supplies    Sales   22.3680  "
      ]
     },
     "execution_count": 39,
     "metadata": {},
     "output_type": "execute_result"
    }
   ],
   "source": [
    "df_order.head()"
   ]
  },
  {
   "cell_type": "code",
   "execution_count": 41,
   "metadata": {},
   "outputs": [
    {
     "data": {
      "text/plain": [
       "array(['Sales', 'Quantity', 'Discount', 'Profit'], dtype=object)"
      ]
     },
     "execution_count": 41,
     "metadata": {},
     "output_type": "execute_result"
    }
   ],
   "source": [
    "df_order['variable'].unique()"
   ]
  },
  {
   "cell_type": "markdown",
   "metadata": {},
   "source": [
    "**Q1.** Find the top 10 products with highest sales."
   ]
  },
  {
   "cell_type": "code",
   "execution_count": null,
   "metadata": {},
   "outputs": [],
   "source": []
  },
  {
   "cell_type": "markdown",
   "metadata": {},
   "source": [
    "**Q2.** Find the average profit for each region for each year.\n",
    "\n",
    "Tip: You can use Grouper with appropriate frequncy: https://pandas.pydata.org/docs/reference/api/pandas.Grouper.html"
   ]
  },
  {
   "cell_type": "code",
   "execution_count": null,
   "metadata": {},
   "outputs": [],
   "source": []
  },
  {
   "cell_type": "markdown",
   "metadata": {},
   "source": [
    "**Q3.** Tranform the dataframe such that you have seperate columns for Discount, Profit, Quanity, and Sales; Then find the maximum value of each for each segment"
   ]
  },
  {
   "cell_type": "code",
   "execution_count": null,
   "metadata": {},
   "outputs": [],
   "source": []
  },
  {
   "cell_type": "markdown",
   "metadata": {},
   "source": [
    "**Q4.** Tranform the dataframe from previous task such that you have seperate rows for Discount, Profit, Quanity, and Sales"
   ]
  },
  {
   "cell_type": "code",
   "execution_count": null,
   "metadata": {},
   "outputs": [],
   "source": []
  }
 ],
 "metadata": {
  "kernelspec": {
   "display_name": "cdc",
   "language": "python",
   "name": "cdc"
  },
  "language_info": {
   "codemirror_mode": {
    "name": "ipython",
    "version": 3
   },
   "file_extension": ".py",
   "mimetype": "text/x-python",
   "name": "python",
   "nbconvert_exporter": "python",
   "pygments_lexer": "ipython3",
   "version": "3.8.5"
  }
 },
 "nbformat": 4,
 "nbformat_minor": 4
}
