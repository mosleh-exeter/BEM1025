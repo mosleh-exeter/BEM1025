{
 "cells": [
  {
   "cell_type": "markdown",
   "metadata": {},
   "source": [
    "[![Open In Colab](https://colab.research.google.com/assets/colab-badge.svg)](https://colab.research.google.com/github/mosleh-exeter/BEM1025/blob/main/sessions/07-Tutorial07-Functions-practice.ipynb)"
   ]
  },
  {
   "cell_type": "markdown",
   "metadata": {},
   "source": [
    "# Tutorial 07. functions-practice"
   ]
  },
  {
   "cell_type": "code",
   "execution_count": 42,
   "metadata": {},
   "outputs": [],
   "source": [
    "import pandas as pd\n",
    "import seaborn as sns"
   ]
  },
  {
   "cell_type": "markdown",
   "metadata": {},
   "source": [
    "### Loading dataset"
   ]
  },
  {
   "cell_type": "code",
   "execution_count": 43,
   "metadata": {},
   "outputs": [
    {
     "data": {
      "text/html": [
       "<div>\n",
       "<style scoped>\n",
       "    .dataframe tbody tr th:only-of-type {\n",
       "        vertical-align: middle;\n",
       "    }\n",
       "\n",
       "    .dataframe tbody tr th {\n",
       "        vertical-align: top;\n",
       "    }\n",
       "\n",
       "    .dataframe thead th {\n",
       "        text-align: right;\n",
       "    }\n",
       "</style>\n",
       "<table border=\"1\" class=\"dataframe\">\n",
       "  <thead>\n",
       "    <tr style=\"text-align: right;\">\n",
       "      <th></th>\n",
       "      <th>Order ID</th>\n",
       "      <th>Order Date</th>\n",
       "      <th>Product ID</th>\n",
       "      <th>Segment</th>\n",
       "      <th>Region</th>\n",
       "      <th>Category</th>\n",
       "      <th>variable</th>\n",
       "      <th>value</th>\n",
       "    </tr>\n",
       "  </thead>\n",
       "  <tbody>\n",
       "    <tr>\n",
       "      <th>0</th>\n",
       "      <td>CA-2013-152156</td>\n",
       "      <td>2013-11-09 00:00:00</td>\n",
       "      <td>FUR-BO-10001798</td>\n",
       "      <td>Consumer</td>\n",
       "      <td>South</td>\n",
       "      <td>Furniture</td>\n",
       "      <td>Sales</td>\n",
       "      <td>261.96</td>\n",
       "    </tr>\n",
       "    <tr>\n",
       "      <th>1</th>\n",
       "      <td>CA-2013-152156</td>\n",
       "      <td>2013-11-09 00:00:00</td>\n",
       "      <td>FUR-CH-10000454</td>\n",
       "      <td>Consumer</td>\n",
       "      <td>South</td>\n",
       "      <td>Furniture</td>\n",
       "      <td>Sales</td>\n",
       "      <td>731.94</td>\n",
       "    </tr>\n",
       "  </tbody>\n",
       "</table>\n",
       "</div>"
      ],
      "text/plain": [
       "         Order ID           Order Date       Product ID   Segment Region  \\\n",
       "0  CA-2013-152156  2013-11-09 00:00:00  FUR-BO-10001798  Consumer  South   \n",
       "1  CA-2013-152156  2013-11-09 00:00:00  FUR-CH-10000454  Consumer  South   \n",
       "\n",
       "    Category variable   value  \n",
       "0  Furniture    Sales  261.96  \n",
       "1  Furniture    Sales  731.94  "
      ]
     },
     "execution_count": 43,
     "metadata": {},
     "output_type": "execute_result"
    }
   ],
   "source": [
    "# this data is a sample from comercial software Tableau\n",
    "df=pd.read_csv('https://www.dropbox.com/s/7t3ys1iu98r1bkf/Superstore.csv?dl=1',dtype={'Order Date':'str'})\n",
    "selected_columns=['Order ID', 'Order Date', 'Product ID','Segment', 'Region','Category','variable','value']\n",
    "df=df[selected_columns]\n",
    "df.head(2)"
   ]
  },
  {
   "cell_type": "markdown",
   "metadata": {},
   "source": [
    "#### **Note**:\n",
    "####   To extract some characters (letters) from a string X you can use X[i:j] where i indicates the first character and j-1 indicates the last character "
   ]
  },
  {
   "cell_type": "code",
   "execution_count": 44,
   "metadata": {},
   "outputs": [
    {
     "name": "stdout",
     "output_type": "stream",
     "text": [
      "first letter: T second letter: h\n",
      "first two letters: Th or Th\n"
     ]
    }
   ],
   "source": [
    "X='This is a book'\n",
    "print ('first letter:', X[0],'second letter:', X[1])\n",
    "print ('first two letters:',X[:2],'or', X[0:2])"
   ]
  },
  {
   "cell_type": "markdown",
   "metadata": {},
   "source": [
    "### For each of the following tasks using pandas apply"
   ]
  },
  {
   "cell_type": "markdown",
   "metadata": {},
   "source": [
    "**Q1.**  Create a new column in the dataset that shows 'true' if the order was made in the US, and 'false' if made in other places (e.g., Canada) using order ID\n",
    "\n",
    "Do this using a regular function and also lambda\n"
   ]
  },
  {
   "cell_type": "code",
   "execution_count": null,
   "metadata": {},
   "outputs": [],
   "source": []
  },
  {
   "cell_type": "markdown",
   "metadata": {},
   "source": [
    "**Q1.** Create a new column that shows how many years has passed since the order was created using Order Date\n",
    "\n",
    "**TIP:** You need to extract first 4 letters/characters of Order ID. To change a string to number you can use int(X) and then find 2022-int(X)\n",
    "\n",
    "Do this using regular function and lambda"
   ]
  },
  {
   "cell_type": "code",
   "execution_count": null,
   "metadata": {},
   "outputs": [],
   "source": []
  },
  {
   "cell_type": "markdown",
   "metadata": {},
   "source": [
    "**Q 3**. Use a boxplot to compare the profit margin per number of product sold across different categories. To do so you may need to tranform the dataframe to a wide dataframe then find profit margin by dividing profit by sales then divide the results by quantities.\n",
    "\n",
    "Try this using both a regural function and lambda"
   ]
  },
  {
   "cell_type": "code",
   "execution_count": null,
   "metadata": {},
   "outputs": [],
   "source": []
  }
 ],
 "metadata": {
  "kernelspec": {
   "display_name": "Python 3 (ipykernel)",
   "language": "python",
   "name": "python3"
  },
  "language_info": {
   "codemirror_mode": {
    "name": "ipython",
    "version": 3
   },
   "file_extension": ".py",
   "mimetype": "text/x-python",
   "name": "python",
   "nbconvert_exporter": "python",
   "pygments_lexer": "ipython3",
   "version": "3.8.5"
  }
 },
 "nbformat": 4,
 "nbformat_minor": 4
}
